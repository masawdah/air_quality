{
 "cells": [
  {
   "cell_type": "markdown",
   "metadata": {},
   "source": [
    "# South Africa"
   ]
  },
  {
   "cell_type": "markdown",
   "metadata": {},
   "source": [
    "CAMS PM2.5: Original resolution: 80km x 80km. Improved resolution: 10km x 10km.\n",
    "\n"
   ]
  },
  {
   "cell_type": "code",
   "execution_count": 72,
   "metadata": {},
   "outputs": [],
   "source": [
    "# Built-in modules\n",
    "import os\n",
    "import gzip\n",
    "import shutil\n",
    "from pathlib import Path\n",
    "from datetime import datetime, timedelta\n",
    "import glob\n",
    "import re\n",
    "import warnings\n",
    "from collections import defaultdict\n",
    "\n",
    "# Basics of Python data handling and visualization\n",
    "import fs\n",
    "import numpy as np\n",
    "import pandas as pd\n",
    "import geopandas as gpd\n",
    "import matplotlib.pyplot as plt\n",
    "from matplotlib.colors import ListedColormap\n",
    "from tqdm.auto import tqdm\n",
    "from shapely import wkt\n",
    "import rasterio as rio\n",
    "from shapely import geometry\n",
    "from rasterstats import zonal_stats\n",
    "import seaborn as sns\n",
    "\n",
    "# Modelling\n",
    "from sklearn.ensemble import RandomForestRegressor\n",
    "from sklearn import metrics\n",
    "from sklearn.model_selection import cross_validate, GroupKFold\n",
    "import statistics \n",
    "import joblib\n",
    "\n",
    "# Imports from eo-learn and sentinelhub-py\n",
    "from eolearn.core import EOPatch, EOTask, LinearWorkflow, FeatureType, AddFeature, MapFeatureTask, MergeFeatureTask, RemoveFeature,LoadTask, SaveTask, OverwritePermission\n",
    "from sentinelhub import bbox_to_dimensions, bbox_to_resolution\n",
    "from eolearn.io import ExportToTiff\n",
    "\n",
    "# Visualisation utils\n",
    "from utils import (get_extent, \n",
    "                   draw_outline, \n",
    "                   draw_bbox, \n",
    "                   draw_feature, \n",
    "                   draw_true_color,\n",
    "                   unzip_file,\n",
    "                   load_tiffs,\n",
    "                   load_list_tiffs,\n",
    "                   days_to_datetimes,\n",
    "                   datetimes_to_days,\n",
    "                   reproject_tiff,\n",
    "                   upscale_tiff,\n",
    "                   mask_tiff)# South Africa\n",
    "\n",
    "from utils_carles import polygrid, recpolygrid, export_geotiff, percs_landuse, upscale_mean_tiff, extract_points_from_raster"
   ]
  },
  {
   "cell_type": "code",
   "execution_count": 45,
   "metadata": {},
   "outputs": [],
   "source": [
    "DATA_DIR = Path('training_dataset_south_africa')\n",
    "AOIS = ['South_Africa']"
   ]
  },
  {
   "cell_type": "code",
   "execution_count": 40,
   "metadata": {},
   "outputs": [],
   "source": [
    "OFFSET = 2100\n",
    "NO_DATA_VALUE = -9999.0"
   ]
  },
  {
   "cell_type": "markdown",
   "metadata": {},
   "source": [
    "## Model VALIDATION"
   ]
  },
  {
   "cell_type": "markdown",
   "metadata": {},
   "source": [
    "Create target grid for the AOI (10 km)"
   ]
  },
  {
   "cell_type": "code",
   "execution_count": 41,
   "metadata": {},
   "outputs": [
    {
     "name": "stderr",
     "output_type": "stream",
     "text": [
      "C:\\Users\\carle\\Anaconda3\\lib\\site-packages\\ipykernel_launcher.py:17: UserWarning: Geometry is in a geographic CRS. Results from 'centroid' are likely incorrect. Use 'GeoSeries.to_crs()' to re-project geometries to a projected CRS before this operation.\n",
      "\n"
     ]
    },
    {
     "data": {
      "image/png": "[encoded data removed]",
      "text/plain": [
       "<Figure size 432x288 with 1 Axes>"
      ]
     },
     "metadata": {
      "needs_background": "light"
     },
     "output_type": "display_data"
    }
   ],
   "source": [
    "# Read CAMS PM2.5\n",
    "cams_train_dir = DATA_DIR/AOIS[0]/'CAMS'\n",
    "cams_train_eop = load_tiffs(cams_train_dir/'PM2_5', \n",
    "                            (FeatureType.DATA, 'PM2_5'), \n",
    "                            offset=OFFSET,\n",
    "                            data_source='cams') \n",
    "\n",
    "# Prepare grid\n",
    "bounds_down = list(cams_train_eop.bbox)\n",
    "res_down = bbox_to_dimensions(cams_train_eop.bbox, 10000)\n",
    "xres_down = (bounds_down[2]-bounds_down[0])/res_down[0]\n",
    "yres_down = (bounds_down[3]-bounds_down[1])/res_down[1]\n",
    "\n",
    "bounds_down = geometry.box(bounds_down[0], bounds_down[1], bounds_down[2], bounds_down[3])\n",
    "bounds_down = gpd.GeoDataFrame({\"id\":1,\"geometry\":[bounds_down]}, crs=\"EPSG:4326\")\n",
    "CAMS_grid_down = recpolygrid(bounds_down, xres_down, yres_down, 4326)\n",
    "CAMS_centroids_down = gpd.GeoDataFrame(geometry= CAMS_grid_down.centroid)\n",
    "\n",
    "# Show it\n",
    "p = CAMS_grid_down.boundary.plot()\n",
    "CAMS_centroids_down.plot(ax=p, color='red')\n",
    "plt.show()"
   ]
  },
  {
   "cell_type": "markdown",
   "metadata": {},
   "source": [
    "### Extract predictor data at CAMS 10km"
   ]
  },
  {
   "cell_type": "markdown",
   "metadata": {},
   "source": [
    "#### Prepare DEM with 10km CAMS for validtion process"
   ]
  },
  {
   "cell_type": "code",
   "execution_count": 46,
   "metadata": {},
   "outputs": [
    {
     "name": "stderr",
     "output_type": "stream",
     "text": [
      "C:\\Users\\carle\\Anaconda3\\lib\\site-packages\\rasterstats\\io.py:157: DeprecationWarning: Right multiplication will be prohibited in version 3.0\n",
      "  w, s = (col_start, row_stop) * affine\n",
      "C:\\Users\\carle\\Anaconda3\\lib\\site-packages\\rasterstats\\io.py:158: DeprecationWarning: Right multiplication will be prohibited in version 3.0\n",
      "  e, n = (col_stop, row_start) * affine\n"
     ]
    }
   ],
   "source": [
    "no_data_value = 128\n",
    "dem_train_dir = DATA_DIR/AOIS[0]/'DEM'\n",
    "dem_train_eop = load_tiffs(datapath=dem_train_dir,\n",
    "                           feature=(FeatureType.DATA_TIMELESS, 'DEM'),\n",
    "                            filename='DEM_1km.tif',\n",
    "                           no_data_value=no_data_value)\n",
    "\n",
    "## FILTER NO VALID DATA BEFORE STARTING\n",
    "dem_train_eop.data_timeless['DEM'][dem_train_eop.data_timeless['DEM'] == no_data_value] = np.nan\n",
    "\n",
    "# Perform zonal statistics - mean altitude per CAMS pixel\n",
    "src = rio.open(str(dem_train_dir) + '/DEM_1km.tif')\n",
    "affine = src.transform\n",
    "array = dem_train_eop.data_timeless['DEM']\n",
    "array = array[:, :, 0]\n",
    "dem_grid_10km = CAMS_grid_down\n",
    "zstats = zonal_stats(dem_grid_10km, array, affine=affine, stats=\"mean\", nodata=np.nan)\n",
    "vals = []\n",
    "for index, value in enumerate(zstats):\n",
    "    vals.append(value['mean'])\n",
    "    \n",
    "dem_grid_10km['elevation'] = vals"
   ]
  },
  {
   "cell_type": "code",
   "execution_count": 13,
   "metadata": {},
   "outputs": [],
   "source": [
    "# Now we can rasterize\n",
    "minx, miny, maxx, maxy = CAMS_grid_down.geometry.total_bounds\n",
    "sizey = round((maxy-miny)/yres_down)\n",
    "sizex = round((maxx-minx)/xres_down)\n",
    "transform = rio.transform.from_bounds(minx, miny, maxx, maxy, sizex, sizey)\n",
    "shapes = ((geom, value) for geom, value in zip(dem_grid_10km.geometry, dem_grid_10km['elevation']))\n",
    "\n",
    "dem10km = rio.features.rasterize(shapes, out_shape=(sizey, sizex), transform=transform)\n",
    "\n",
    "export_geotiff(str(dem_train_dir) + '/DEM_CAMS_Val.tif', dem10km, transform, 4326)"
   ]
  },
  {
   "cell_type": "code",
   "execution_count": 47,
   "metadata": {},
   "outputs": [
    {
     "data": {
      "image/png": "[encoded data removed]",
      "text/plain": [
       "<Figure size 432x360 with 2 Axes>"
      ]
     },
     "metadata": {
      "needs_background": "light"
     },
     "output_type": "display_data"
    }
   ],
   "source": [
    "# Read and visualize\n",
    "dem_val_dir = DATA_DIR/AOIS[0]/'DEM'\n",
    "dem_val_eop = load_tiffs(datapath=dem_val_dir,\n",
    "                           feature=(FeatureType.DATA_TIMELESS, 'DEM'),\n",
    "                           filename='DEM_CAMS_Val.tif')\n",
    "\n",
    "fig, ax = plt.subplots(figsize=(6,5))\n",
    "fh = draw_feature(ax=ax, eopatch=dem_val_eop,\n",
    "                  feature=(FeatureType.DATA_TIMELESS, 'DEM'),\n",
    "                  time_idx=None,\n",
    "                  vmin=0, vmax=1800)\n",
    "#pm25_gt_min.plot(ax=ax, color='r', marker='o');\n",
    "fig.colorbar(fh, ax=ax);"
   ]
  },
  {
   "cell_type": "markdown",
   "metadata": {},
   "source": [
    "#### Prepare ERA5 with 10km CAMS"
   ]
  },
  {
   "cell_type": "code",
   "execution_count": 18,
   "metadata": {},
   "outputs": [],
   "source": [
    "## Paths of validation ERA5 \n",
    "VAL_DATA_DIR = Path(\"validation_dataset_south_africa\")\n",
    "era5_val_dir = VAL_DATA_DIR/AOIS[0]/'era5'\n",
    "era5_products = sorted(os.listdir(era5_val_dir))\n",
    "resampled_val_era5_location = str(VAL_DATA_DIR/AOIS[0])+'/resampled_era5_10km'\n",
    "\n",
    "# Read CAMS PM2.5\n",
    "cams_train_dir = DATA_DIR/AOIS[0]/'CAMS'\n",
    "cams_train_eop = load_tiffs(cams_train_dir/'PM2_5', \n",
    "                            (FeatureType.DATA, 'PM2_5'), \n",
    "                            offset=OFFSET,\n",
    "                            data_source='cams') "
   ]
  },
  {
   "cell_type": "code",
   "execution_count": 22,
   "metadata": {},
   "outputs": [],
   "source": [
    "## Create direction for resampled ERA5\n",
    "resampled_val_era5_location = str(VAL_DATA_DIR/AOIS[0])+'/resampled_era5_10km'\n",
    "if not os.path.isdir(resampled_val_era5_location):\n",
    "    os.makedirs(resampled_val_era5_location)\n",
    "    for i in era5_products:\n",
    "        os.mkdir(resampled_val_era5_location + '/' + i)  \n",
    "\n",
    "## Upscale the validation ERA5\n",
    "target_size = bbox_to_dimensions(cams_train_eop.bbox, 10000)\n",
    "for i in era5_products:\n",
    "    for j in glob.glob(str(era5_val_dir) + '/' + i + '/*.tif'):\n",
    "        path_in = j\n",
    "        path_out = re.sub('era5', 'resampled_era5_10km', path_in)\n",
    "        upscale_tiff(path_in, path_out, target_size)"
   ]
  },
  {
   "cell_type": "code",
   "execution_count": 25,
   "metadata": {},
   "outputs": [],
   "source": [
    "## Select ERA5 data with the same dates of submission\n",
    "days = [2150,2153,2161,2170,2178,2180, 2186,2190,2196,2200]\n",
    "hour = 'h12'\n",
    "\n",
    "files_name = []\n",
    "for era5_p in era5_products:\n",
    "    era5_product_paths = []\n",
    "    for day in days:\n",
    "        era5_product_path = glob.glob(str(resampled_val_era5_location) +'\\\\' +era5_p + '\\\\' +  f'*day{day}_{hour}.tif')[0:2208]\n",
    "        era5_product_paths = era5_product_paths + era5_product_path\n",
    "        filenames = [path.replace(str(resampled_val_era5_location) + f'\\\\{era5_p}\\\\','') for path in era5_product_paths]\n",
    "        \n",
    "    files_name.append(filenames)"
   ]
  },
  {
   "cell_type": "code",
   "execution_count": 26,
   "metadata": {},
   "outputs": [],
   "source": [
    "## Load Selected ERA5\n",
    "\n",
    "# Load data\n",
    "val_era5_eops = []\n",
    "for file_names, era5_p in [(files_name[0], 'relative_humidity'),(files_name[1], 'specific_rain_water_content'),(files_name[2], 'wind_u'),(files_name[3], 'wind_v')]:\n",
    "    val_era5_eop = load_list_tiffs(Path(resampled_val_era5_location)/era5_p, \n",
    "                               (FeatureType.DATA,era5_p), \n",
    "                                offset=OFFSET,\n",
    "                                filename = file_names,\n",
    "                                image_dtype=np.float32,\n",
    "                                data_source='era5')\n",
    "    val_era5_eops.append(val_era5_eop)\n",
    "\n",
    "# Merge into one EOPS\n",
    "val_era5_eop = EOPatch(data={'relative_humidity': val_era5_eops[0].data['relative_humidity'], \n",
    "                         'specific_rain_water_content': val_era5_eops[1].data['specific_rain_water_content'],\n",
    "                        'wind_u': val_era5_eops[2].data['wind_u'],\n",
    "                        'wind_v': val_era5_eops[3].data['wind_v']},\n",
    "                   meta_info={'Names_relative_humidity': val_era5_eops[0].meta_info['Names'],\n",
    "                              'Names_specific_rain_water_content': val_era5_eops[1].meta_info['Names'],\n",
    "                             'Names_wind_u': val_era5_eops[2].meta_info['Names'],\n",
    "                             'Names_wind_v': val_era5_eops[3].meta_info['Names']},\n",
    "                     timestamp=val_era5_eops[0].timestamp,\n",
    "                     bbox=val_era5_eops[0].bbox)\n",
    "del val_era5_eops\n",
    "#val_era5_eop\n"
   ]
  },
  {
   "cell_type": "code",
   "execution_count": 27,
   "metadata": {},
   "outputs": [],
   "source": [
    "## Filter NO VALID DATA OF ERA5\n",
    "NO_DATA_VALUE = -32767\n",
    "\n",
    "val_era5_eop.data['relative_humidity'][val_era5_eop.data['relative_humidity'] == NO_DATA_VALUE] = np.nan\n",
    "val_era5_eop.data['specific_rain_water_content'][val_era5_eop.data['specific_rain_water_content'] == NO_DATA_VALUE] = np.nan\n",
    "val_era5_eop.data['wind_u'][val_era5_eop.data['wind_u'] == NO_DATA_VALUE] = np.nan\n",
    "val_era5_eop.data['wind_v'][val_era5_eop.data['wind_v'] == NO_DATA_VALUE] = np.nan"
   ]
  },
  {
   "cell_type": "code",
   "execution_count": 28,
   "metadata": {
    "scrolled": true
   },
   "outputs": [
    {
     "name": "stderr",
     "output_type": "stream",
     "text": [
      "C:\\Users\\carle\\Anaconda3\\lib\\site-packages\\rasterstats\\io.py:157: DeprecationWarning: Right multiplication will be prohibited in version 3.0\n",
      "  w, s = (col_start, row_stop) * affine\n",
      "C:\\Users\\carle\\Anaconda3\\lib\\site-packages\\rasterstats\\io.py:158: DeprecationWarning: Right multiplication will be prohibited in version 3.0\n",
      "  e, n = (col_stop, row_start) * affine\n"
     ]
    }
   ],
   "source": [
    "# Perform zonal statistics - ERA5 products per CAMS pixel\n",
    "# Rastrize the new CAMS zonal stats and save them on disk\n",
    "\n",
    "## location of exported tiff (ERA5 matching CAMS grid)\n",
    "val_rastrize_era5_location = str(VAL_DATA_DIR/AOIS[0])+'/val_rastrize_era5_cams'\n",
    "if not os.path.isdir(val_rastrize_era5_location):\n",
    "    os.makedirs(val_rastrize_era5_location)\n",
    "    for i in era5_products:\n",
    "        os.mkdir(val_rastrize_era5_location + '/' + i)\n",
    "        \n",
    "for index, era5p in enumerate(era5_products):\n",
    "    tiffs = sorted(files_name[index])\n",
    "    i=0\n",
    "    for tiff in tiffs:\n",
    "        for era5_path in glob.glob(str(resampled_val_era5_location) + '/' + era5p + '/' +  tiff):\n",
    "            src = rio.open(era5_path)\n",
    "            affine = src.transform\n",
    "            array = val_era5_eop.data[era5p][i]\n",
    "            array = array[:, :, 0]\n",
    "            era5_grid = CAMS_grid_down\n",
    "            era5_stats = zonal_stats(era5_grid, array, affine=affine, stats=\"mean\", nodata=np.nan)\n",
    "\n",
    "            vals = []\n",
    "            for index, value in enumerate(era5_stats):\n",
    "                vals.append(value['mean'])\n",
    "\n",
    "            era5_grid[era5p] = vals\n",
    "\n",
    "            # rasterize\n",
    "            minx, miny, maxx, maxy = CAMS_grid_down.geometry.total_bounds\n",
    "            sizey = round((maxy-miny)/yres_down)\n",
    "            sizex = round((maxx-minx)/xres_down)\n",
    "\n",
    "            transform = rio.transform.from_bounds(minx, miny, maxx, maxy, sizex, sizey)\n",
    "            shapes = ((geom, value) for geom, value in zip(era5_grid.geometry, era5_grid[era5p]))\n",
    "            era5 = rio.features.rasterize(shapes, out_shape=(sizey, sizex), transform=transform)\n",
    "            tiffname = val_era5_eop.meta_info['Names_'+ era5p][i]\n",
    "            export_geotiff(str(val_rastrize_era5_location) + '/' +era5p + '/'+ tiffname, era5, transform, 4326)\n",
    "            \n",
    "            i+=1\n",
    "\n",
    "#del val_era5_eop"
   ]
  },
  {
   "cell_type": "markdown",
   "metadata": {},
   "source": [
    "### Land cover"
   ]
  },
  {
   "cell_type": "code",
   "execution_count": 48,
   "metadata": {},
   "outputs": [
    {
     "name": "stderr",
     "output_type": "stream",
     "text": [
      "C:\\Users\\carle\\Anaconda3\\lib\\site-packages\\rasterstats\\io.py:301: UserWarning: Setting nodata to -999; specify nodata explicitly\n",
      "  warnings.warn(\"Setting nodata to -999; specify nodata explicitly\")\n"
     ]
    }
   ],
   "source": [
    "# Read data (CRS: 4326)\n",
    "land_cover_val_dir = DATA_DIR/AOIS[0]/'Land_cover'\n",
    "land_cover_eop = load_tiffs(datapath=land_cover_val_dir,\n",
    "                            feature=(FeatureType.MASK_TIMELESS, 'LC'), \n",
    "                            filename='LC.tif',\n",
    "                            image_dtype=np.uint8,\n",
    "                            no_data_value=9999)\n",
    "land_cover_eop.mask_timeless['LC']\n",
    "\n",
    "# Zonal statistics\n",
    "src = rio.open(str(land_cover_val_dir) + '/SANLC_2018_africa.tif')\n",
    "affine = src.transform\n",
    "array = land_cover_eop.mask_timeless['LC']\n",
    "array = array[:, :, 0] # Remove one dimension\n",
    "zstats = zonal_stats(CAMS_grid_down, array, affine=affine, stats=\"count\", categorical=True)\n",
    "\n",
    "# Generate percentage indicators\n",
    "urban = []\n",
    "indtrans = []\n",
    "agri = []\n",
    "natural = []\n",
    "urban, indtrans, agri, natural = percs_landuse(zstats, urban, indtrans, agri, natural)"
   ]
  },
  {
   "cell_type": "code",
   "execution_count": 49,
   "metadata": {},
   "outputs": [
    {
     "data": {
      "image/png": "[encoded data removed]",
      "text/plain": [
       "<Figure size 1440x360 with 5 Axes>"
      ]
     },
     "metadata": {
      "needs_background": "light"
     },
     "output_type": "display_data"
    }
   ],
   "source": [
    "# Add to grid object\n",
    "LC_grid = CAMS_grid_down\n",
    "LC_grid['urban'] = urban\n",
    "LC_grid['indtrans'] = indtrans\n",
    "LC_grid['agri'] = agri\n",
    "LC_grid['natural'] = natural\n",
    "\n",
    "fig, axs = plt.subplots(ncols=4, sharex=True, sharey=True, figsize=(20,5))\n",
    "LC_grid.plot(ax=axs[0], column='urban')\n",
    "axs[0].set_title('urban')\n",
    "LC_grid.plot(ax=axs[1], column='indtrans')\n",
    "axs[1].set_title('indtrans')\n",
    "LC_grid.plot(ax=axs[2], column='agri')\n",
    "axs[2].set_title('agri')\n",
    "LC_grid.plot(ax=axs[3], column='natural')\n",
    "axs[3].set_title('natural')\n",
    "patch_col = axs[0].collections[0]\n",
    "cb = fig.colorbar(patch_col, ax=axs, shrink=0.5)"
   ]
  },
  {
   "cell_type": "code",
   "execution_count": 50,
   "metadata": {},
   "outputs": [],
   "source": [
    "# Rasterize\n",
    "minx, miny, maxx, maxy = LC_grid.geometry.total_bounds\n",
    "sizey = round((maxy-miny)/yres_down)\n",
    "sizex = round((maxx-minx)/xres_down)\n",
    "transform = rio.transform.from_bounds(minx, miny, maxx, maxy, sizex, sizey)\n",
    "for lc_class in ['urban', 'indtrans', 'agri', 'natural']:\n",
    "    shapes = ((geom, value) for geom, value in zip(LC_grid.geometry, LC_grid[lc_class]))\n",
    "    lc = rio.features.rasterize(shapes, out_shape=(sizey, sizex), transform=transform)\n",
    "    export_geotiff(str(land_cover_val_dir) + '/LC_CAMS_down_' + lc_class + '.tif', lc, transform, 4326)"
   ]
  },
  {
   "cell_type": "markdown",
   "metadata": {},
   "source": [
    "## Prediction"
   ]
  },
  {
   "cell_type": "code",
   "execution_count": 54,
   "metadata": {},
   "outputs": [],
   "source": [
    "bbox_sa = gpd.read_file('AOIs_bboxes/SouthAfrica/South_Africa_test.shp')"
   ]
  },
  {
   "cell_type": "code",
   "execution_count": 56,
   "metadata": {},
   "outputs": [
    {
     "data": {
      "text/html": [
       "<div>\n",
       "<style scoped>\n",
       "    .dataframe tbody tr th:only-of-type {\n",
       "        vertical-align: middle;\n",
       "    }\n",
       "\n",
       "    .dataframe tbody tr th {\n",
       "        vertical-align: top;\n",
       "    }\n",
       "\n",
       "    .dataframe thead th {\n",
       "        text-align: right;\n",
       "    }\n",
       "</style>\n",
       "<table border=\"1\" class=\"dataframe\">\n",
       "  <thead>\n",
       "    <tr style=\"text-align: right;\">\n",
       "      <th></th>\n",
       "      <th>Day</th>\n",
       "      <th>time</th>\n",
       "    </tr>\n",
       "  </thead>\n",
       "  <tbody>\n",
       "    <tr>\n",
       "      <th>0</th>\n",
       "      <td>2150</td>\n",
       "      <td>h12</td>\n",
       "    </tr>\n",
       "    <tr>\n",
       "      <th>1</th>\n",
       "      <td>2153</td>\n",
       "      <td>h12</td>\n",
       "    </tr>\n",
       "    <tr>\n",
       "      <th>2</th>\n",
       "      <td>2161</td>\n",
       "      <td>h12</td>\n",
       "    </tr>\n",
       "    <tr>\n",
       "      <th>3</th>\n",
       "      <td>2170</td>\n",
       "      <td>h12</td>\n",
       "    </tr>\n",
       "    <tr>\n",
       "      <th>4</th>\n",
       "      <td>2178</td>\n",
       "      <td>h12</td>\n",
       "    </tr>\n",
       "    <tr>\n",
       "      <th>5</th>\n",
       "      <td>2180</td>\n",
       "      <td>h12</td>\n",
       "    </tr>\n",
       "    <tr>\n",
       "      <th>6</th>\n",
       "      <td>2186</td>\n",
       "      <td>h12</td>\n",
       "    </tr>\n",
       "    <tr>\n",
       "      <th>7</th>\n",
       "      <td>2190</td>\n",
       "      <td>h12</td>\n",
       "    </tr>\n",
       "    <tr>\n",
       "      <th>8</th>\n",
       "      <td>2196</td>\n",
       "      <td>h12</td>\n",
       "    </tr>\n",
       "    <tr>\n",
       "      <th>9</th>\n",
       "      <td>2200</td>\n",
       "      <td>h12</td>\n",
       "    </tr>\n",
       "  </tbody>\n",
       "</table>\n",
       "</div>"
      ],
      "text/plain": [
       "    Day  time\n",
       "0  2150   h12\n",
       "1  2153   h12\n",
       "2  2161   h12\n",
       "3  2170   h12\n",
       "4  2178   h12\n",
       "5  2180   h12\n",
       "6  2186   h12\n",
       "7  2190   h12\n",
       "8  2196   h12\n",
       "9  2200   h12"
      ]
     },
     "execution_count": 56,
     "metadata": {},
     "output_type": "execute_result"
    }
   ],
   "source": [
    "cams_pm25_test_dir = Path('validation_dataset_south_africa/South_Africa/CAMS/PM2_5')\n",
    "dates_sa_pm25 = pd.read_csv('submission_date/SA-date-PM25.txt')\n",
    "dates_sa_pm25"
   ]
  },
  {
   "cell_type": "code",
   "execution_count": 151,
   "metadata": {},
   "outputs": [],
   "source": [
    "## Prepare the test images\n",
    "input_filenames = []\n",
    "for index in dates_sa_pm25.index:\n",
    "    day, time = dates_sa_pm25.iloc[index]\n",
    "    input_filename = f'CAMS_PM2_5_day{day}_{time.split(\" \")[-1]}.tif'\n",
    "    input_filenames.append(input_filename)"
   ]
  },
  {
   "cell_type": "code",
   "execution_count": 152,
   "metadata": {},
   "outputs": [],
   "source": [
    "## Create submission file\n",
    "submission_dir = Path('test-submission')\n",
    "for aoi in AOIS:\n",
    "    for product in ['NO2', 'PM2.5']:\n",
    "        if not os.path.exists(submission_dir/aoi/product):\n",
    "            os.makedirs(submission_dir/aoi/product)\n",
    "            \n",
    "visulize_dir = Path('test-visulize')\n",
    "for aoi in AOIS:\n",
    "    for product in ['NO2', 'PM2.5']:\n",
    "        if not os.path.exists(visulize_dir/aoi/product):\n",
    "            os.makedirs(visulize_dir/aoi/product)"
   ]
  },
  {
   "cell_type": "code",
   "execution_count": 153,
   "metadata": {},
   "outputs": [],
   "source": [
    "# Extract DEM\n",
    "dem_train_dir = DATA_DIR/AOIS[0]/'DEM'\n",
    "raster_path = [(str(dem_train_dir) + '/DEM_CAMS_Val.tif')]\n",
    "dem_val_df = extract_points_from_raster(CAMS_centroids_down, raster_path, 'DEM')\n",
    "dem_val_df = pd.concat(dem_val_df)\n",
    "dem_val_df = dem_val_df.dropna()\n",
    "dem_val_df = dem_val_df.drop('raster', 1)  "
   ]
  },
  {
   "cell_type": "code",
   "execution_count": 154,
   "metadata": {},
   "outputs": [],
   "source": [
    "# Extract val ERA5\n",
    "\n",
    "## We can put this function in the utility file\n",
    "def extract_val_era5(era5_p,tiff_name,cams_centroids,path):\n",
    "    era5_path = [(str(path) + '/'+ era5_p + '/' +tiff_name + '.tif')]\n",
    "    era5_df = extract_points_from_raster(cams_centroids, era5_path, era5_p)\n",
    "    era5_df = pd.concat(era5_df)\n",
    "    era5_df = era5_df.dropna()\n",
    "    return era5_df"
   ]
  },
  {
   "cell_type": "code",
   "execution_count": 155,
   "metadata": {},
   "outputs": [],
   "source": [
    "# Extract land use\n",
    "land_cover_train_dir = DATA_DIR/AOIS[0]/'Land_cover'\n",
    "LC_path = glob.glob(str(land_cover_train_dir) + '/LC_CAMS_down_urban.tif')\n",
    "LC_df = extract_points_from_raster(CAMS_centroids_down, [LC_path[0]], 'urban')\n",
    "LC_df = pd.concat(LC_df)\n",
    "LC_df = LC_df.dropna()\n",
    "LC_df = LC_df.drop('raster', 1)\n",
    "for LC_class in ['indtrans', 'agri', 'natural']:\n",
    "    LC_path = glob.glob(str(land_cover_train_dir) + '/LC_CAMS_down_' + LC_class + '.tif')\n",
    "    LC_df2 = extract_points_from_raster(CAMS_centroids_down, [LC_path[0]], LC_class)\n",
    "    LC_df2 = pd.concat(LC_df2)\n",
    "    LC_df2 = LC_df2.dropna()\n",
    "    LC_df2 = LC_df2.drop('raster', 1)\n",
    "    LC_df = pd.merge(LC_df, LC_df2, on=['lon', 'lat'], how='inner')"
   ]
  },
  {
   "cell_type": "markdown",
   "metadata": {},
   "source": [
    "#### Predict UPSCALED CAMS VALUES "
   ]
  },
  {
   "cell_type": "code",
   "execution_count": 168,
   "metadata": {},
   "outputs": [],
   "source": [
    "## Direction in case not doing the previous steps\n",
    "VAL_DATA_DIR = Path(\"validation_dataset_south_africa\")\n",
    "val_rastrize_era5_location = str(VAL_DATA_DIR/AOIS[0])+'/val_rastrize_era5_cams'\n",
    "\n",
    "# Read model\n",
    "rf = joblib.load(str(DATA_DIR) + '/PM25_mod.sav')\n",
    "\n",
    "## Box for masking\n",
    "bbox_sa.to_crs(epsg=4326, inplace=True)\n",
    "bbox_sa.to_file('AOIs_bboxes/sa-bbox-wgs84.shp', driver='ESRI Shapefile')\n",
    "\n",
    "test_df = dem_val_df\n",
    "\n",
    "for input_filename in input_filenames:\n",
    "    test_df['day']=np.nan\n",
    "    test_df['hour']=np.nan\n",
    "    test_df['dayhour']=\"\"\n",
    "    \n",
    "    for i in range(test_df.shape[0]):\n",
    "        tiff_name = input_filename\n",
    "        day, hour = tiff_name.split('_day')[-1].split('_')\n",
    "        test_df.iat[i,test_df.columns.get_loc('day')] = day\n",
    "        test_df.iat[i,test_df.columns.get_loc('hour')] = hour[1:3]\n",
    "        test_df.iat[i,test_df.columns.get_loc('dayhour')] = str(day)+str(hour[1:3])\n",
    "        \n",
    "    ##Extract ERA5 data for the same date and hour    \n",
    "    test_rh_df = extract_val_era5('relative_humidity', f'ERA5_rh_day{day}_h{hour[1:3]}', CAMS_centroids_down, val_rastrize_era5_location)\n",
    "    test_srwc_df = extract_val_era5('specific_rain_water_content', f'ERA5_srwc_day{day}_h{hour[1:3]}' ,CAMS_centroids_down, val_rastrize_era5_location)\n",
    "    test_u_df = extract_val_era5('wind_u', f'ERA5_u_day{day}_h{hour[1:3]}', CAMS_centroids_down, val_rastrize_era5_location)\n",
    "    test_v_df = extract_val_era5('wind_v', f'ERA5_v_day{day}_h{hour[1:3]}' ,CAMS_centroids_down, val_rastrize_era5_location)\n",
    "    \n",
    "    \n",
    "    ## Join ERA5 & DEM & LC data with (location)\n",
    "    test_X = pd.merge(LC_df, test_df, on=['lon', 'lat'], how='inner')\n",
    "    test_X = pd.merge(test_rh_df, test_X, on=['lon', 'lat'], how='inner')\n",
    "    test_X = pd.merge(test_X, test_srwc_df, on=['lon', 'lat'], how='inner')\n",
    "    test_X = pd.merge(test_X, test_u_df, on=['lon', 'lat'], how='inner')\n",
    "    test_X = pd.merge(test_X, test_v_df, on=['lon', 'lat'], how='inner')\n",
    "    \n",
    "    # X inputs\n",
    "    listvars = ['lon', 'lat', 'hour', 'relative_humidity','specific_rain_water_content', 'wind_u', 'wind_v',\n",
    "                              'DEM', 'urban', 'indtrans', 'agri', 'natural']\n",
    "    test_X_np = np.array(test_X[listvars])\n",
    "\n",
    "    ## PREDICTION\n",
    "    predicted_CAMS = rf.predict(test_X_np)\n",
    "    test_X['pred'] = predicted_CAMS\n",
    "    pred_gdf = gpd.GeoDataFrame(test_X['pred'], geometry=gpd.points_from_xy(test_X.lon, test_X.lat))\n",
    "        \n",
    "    ## rasterize\n",
    "    minx, miny, maxx, maxy = CAMS_grid_down.geometry.total_bounds\n",
    "    sizey = round((maxy-miny)/yres_down)\n",
    "    sizex = round((maxx-minx)/xres_down)\n",
    "    transform = rio.transform.from_bounds(minx, miny, maxx, maxy, sizex, sizey)\n",
    "    shapes = ((geom, value) for geom, value in zip(pred_gdf.geometry, pred_gdf.pred))\n",
    "    upscaled_PM_2_5 = rio.features.rasterize(shapes, out_shape=(sizey, sizex), transform=transform)\n",
    "    upscaled_PM_2_5[upscaled_PM_2_5==0] = np.nan\n",
    "    \n",
    "    ## export for prediction\n",
    "    export_geotiff(str(submission_dir) + '/South_Africa/PM2.5/'+f'{day}_PM25_South_Africa.tif', upscaled_PM_2_5, transform, 4326)\n",
    "    \n",
    "    mask_tiff('AOIs_bboxes/sa-bbox-wgs84.shp', \n",
    "              submission_dir/'South_Africa'/'PM2.5'/f'{day}_PM25_South_Africa.tif', \n",
    "              submission_dir/'South_Africa'/'PM2.5'/f'{day}_PM25_South_Africa.tif')\n",
    "    \n",
    "    ## export them for visualization \n",
    "    export_geotiff(str(visulize_dir) + '/South_Africa/PM2.5/'+f'CAMS_PM25_day{day}_{hour}.tif', upscaled_PM_2_5, transform, 4326)\n",
    "    \n",
    "    mask_tiff('AOIs_bboxes/sa-bbox-wgs84.shp', \n",
    "              visulize_dir/'South_Africa'/'PM2.5'/f'CAMS_PM25_day{day}_{hour}.tif', \n",
    "              visulize_dir/'South_Africa'/'PM2.5'/f'CAMS_PM25_day{day}_{hour}.tif')"
   ]
  },
  {
   "cell_type": "code",
   "execution_count": 181,
   "metadata": {},
   "outputs": [],
   "source": [
    "upscaled_PM_2_5[upscaled_PM_2_5==0] = np.nan"
   ]
  },
  {
   "cell_type": "code",
   "execution_count": 169,
   "metadata": {},
   "outputs": [],
   "source": [
    "## load upscaled CAMS\n",
    "upscaled_cams_dir = Path('test-visulize/South_Africa/PM2.5')\n",
    "upscaled_img = load_tiffs(upscaled_cams_dir,\n",
    "                          (FeatureType.DATA, 'PM2_5'),\n",
    "                          offset=OFFSET,\n",
    "                          data_source='cams')"
   ]
  },
  {
   "cell_type": "code",
   "execution_count": 178,
   "metadata": {},
   "outputs": [
    {
     "data": {
      "image/png": "[encoded data removed]",
      "text/plain": [
       "<Figure size 432x360 with 2 Axes>"
      ]
     },
     "metadata": {
      "needs_background": "light"
     },
     "output_type": "display_data"
    }
   ],
   "source": [
    "time_idx = 8\n",
    "\n",
    "fig, ax = plt.subplots(figsize=(6,5))\n",
    "fh = draw_feature(ax=ax, eopatch=upscaled_img,\n",
    "                  feature=(FeatureType.DATA, 'PM2_5'),\n",
    "                  time_idx=time_idx,\n",
    "                  vmin=0, vmax=60)\n",
    "#pm25_gt_min.plot(ax=ax, color='r', marker='o');\n",
    "fig.colorbar(fh, ax=ax);"
   ]
  },
  {
   "cell_type": "code",
   "execution_count": null,
   "metadata": {},
   "outputs": [],
   "source": []
  }
 ],
 "metadata": {
  "kernelspec": {
   "display_name": "Python 3",
   "language": "python",
   "name": "python3"
  },
  "language_info": {
   "codemirror_mode": {
    "name": "ipython",
    "version": 3
   },
   "file_extension": ".py",
   "mimetype": "text/x-python",
   "name": "python",
   "nbconvert_exporter": "python",
   "pygments_lexer": "ipython3",
   "version": "3.7.4"
  }
 },
 "nbformat": 4,
 "nbformat_minor": 4
}
