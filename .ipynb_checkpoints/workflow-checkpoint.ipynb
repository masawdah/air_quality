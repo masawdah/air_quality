{
 "cells": [
  {
   "cell_type": "markdown",
   "metadata": {},
   "source": [
    "# AI4EO challenge: Air Quality & Health Challenge"
   ]
  },
  {
   "cell_type": "markdown",
   "metadata": {},
   "source": [
    "I am an introduction"
   ]
  },
  {
   "cell_type": "markdown",
   "metadata": {},
   "source": [
    "## Table of contents"
   ]
  },
  {
   "cell_type": "markdown",
   "metadata": {},
   "source": [
    "1. [Pre-processing](#pre-processing)\n",
    "\n",
    "    1.1 [AOIs and target grids](#aoi-and-target-grids)    \n",
    "    1.2 [Stations](#stations)    \n",
    "    1.3 [CAMS](#cams)    \n",
    "    1.4 [S5P](#s5p)    \n",
    "    1.5 [S3](#s3)    \n",
    "    1.6 [MODIS](#modis)    \n",
    "    1.7 [ERA5](#era5)     \n",
    "    1.8 [Land cover](#land-cover)     \n",
    "    1.9 [DEM](#dem)    \n",
    "    1.10 [SPOT](#spot)  \n",
    "    1.11 [Data Merging](#data-merging)    \n",
    "\n",
    "    \n",
    "2. [Exploratory analysis](#exploratory-analysis)\n",
    "    \n",
    "3. [Modelling and validation](#modelling-and-validation)\n",
    "\n",
    "4. [Prediction](#prediction)\n",
    "    "
   ]
  },
  {
   "cell_type": "markdown",
   "metadata": {},
   "source": [
    "## Pre-processing <a name=\"pre-processing\"></a>"
   ]
  },
  {
   "cell_type": "code",
   "execution_count": 2,
   "metadata": {},
   "outputs": [],
   "source": [
    "# Built-in modules\n",
    "import os\n",
    "import gzip\n",
    "import shutil\n",
    "from pathlib import Path\n",
    "from datetime import datetime, timedelta\n",
    "import glob\n",
    "import re\n",
    "\n",
    "# Basics of Python data handling and visualization\n",
    "import fs\n",
    "import numpy as np\n",
    "import pandas as pd\n",
    "import geopandas as gpd\n",
    "import matplotlib.pyplot as plt\n",
    "from matplotlib.colors import ListedColormap\n",
    "from tqdm.auto import tqdm\n",
    "from shapely import wkt\n",
    "\n",
    "# Imports from eo-learn and sentinelhub-py\n",
    "from eolearn.core import EOPatch, EOTask, LinearWorkflow, FeatureType\n",
    "from sentinelhub import bbox_to_dimensions\n",
    "\n",
    "# Visualisation utils\n",
    "from utils import (get_extent, \n",
    "                   draw_outline, \n",
    "                   draw_bbox, \n",
    "                   draw_feature, \n",
    "                   draw_true_color,\n",
    "                   unzip_file,\n",
    "                   load_tiffs,\n",
    "                   days_to_datetimes,\n",
    "                   datetimes_to_days,\n",
    "                   reproject_tiff,\n",
    "                   upscale_tiff,\n",
    "                   mask_tiff)"
   ]
  },
  {
   "cell_type": "code",
   "execution_count": 3,
   "metadata": {},
   "outputs": [],
   "source": [
    "DATA_DIR = Path('training_dataset_ita')\n",
    "AOIS = ['Italy']"
   ]
  },
  {
   "cell_type": "code",
   "execution_count": 4,
   "metadata": {},
   "outputs": [],
   "source": [
    "OFFSET = 2100\n",
    "NO_DATA_VALUE = -9999.0"
   ]
  },
  {
   "cell_type": "markdown",
   "metadata": {},
   "source": [
    "### AOI and target grids  <a name=\"aoi-and-target-grids\"></a>"
   ]
  },
  {
   "cell_type": "markdown",
   "metadata": {},
   "source": [
    "Here I think we should read the 6 target files (3 CAMS, 3 S5P) and derive boundaries, EPSG and reference grids to pre-process the rest of the data to match it."
   ]
  },
  {
   "cell_type": "markdown",
   "metadata": {},
   "source": [
    "### Stations <a name=\"stations\"></a>"
   ]
  },
  {
   "cell_type": "markdown",
   "metadata": {},
   "source": [
    "### CAMS <a name=\"cams\"></a>\n",
    "EPSG: 4326. temporal resolution: hourly. spatial resolution: North Italy: 10 km, California & South Africa: 40km."
   ]
  },
  {
   "cell_type": "code",
   "execution_count": null,
   "metadata": {},
   "outputs": [],
   "source": []
  },
  {
   "cell_type": "markdown",
   "metadata": {},
   "source": [
    "### S5P <a name=\"cams\"></a>"
   ]
  },
  {
   "cell_type": "markdown",
   "metadata": {},
   "source": [
    "### S3 <a name=\"cams\"></a>"
   ]
  },
  {
   "cell_type": "markdown",
   "metadata": {},
   "source": [
    "## MODIS\n",
    "EPSG: 4326. Spatial Resolution: 1km, Temporal resolution: Daily"
   ]
  },
  {
   "cell_type": "code",
   "execution_count": 150,
   "metadata": {},
   "outputs": [],
   "source": [
    "modis_train_dir = DATA_DIR/AOIS[0]/'modis_MCD19A2'\n",
    "modis_products = sorted(os.listdir(modis_train_dir))\n",
    "\n",
    "## Load MODIS AOD - Aerosol Optical depth information\n",
    "modis_eops = [load_tiffs(datapath=modis_train_dir/'MCD19A2_AOD',\n",
    "                         feature=(FeatureType.DATA, 'AOD'),\n",
    "                         filename=filename,\n",
    "                         image_dtype=np.float32,\n",
    "                         data_source='modis') \n",
    "              for filename in sorted(os.listdir(modis_train_dir/'MCD19A2_AOD'))]\n",
    "\n",
    "## Load MODIS AOD - Optical Depth Quality Index\n",
    "modis_qa_eops = [load_tiffs(datapath=modis_train_dir/'MCD19A2_AOD_QA',\n",
    "                            feature=(FeatureType.DATA, 'AOD_QA'),\n",
    "                            filename=filename,\n",
    "                            image_dtype=np.float32,\n",
    "                            data_source='modis') \n",
    "                 for filename in sorted(os.listdir(modis_train_dir/'MCD19A2_AOD_QA'))]\n",
    "\n"
   ]
  },
  {
   "cell_type": "code",
   "execution_count": 151,
   "metadata": {},
   "outputs": [],
   "source": [
    "## Function to encode the MODIS QA LAYER and return mask array with just clear and high quality pixels.\n",
    "def ValidData(eopatch,band,min_modis_qa):\n",
    "    eopatch.data['AOD_QA'][..., band][eopatch.data['AOD_QA'][..., band] == min_modis_qa] = np.nan\n",
    "    modis_AOD_QA = eopatch.data['AOD_QA'][..., band]\n",
    "\n",
    "    qa_data = np.unique(modis_AOD_QA)\n",
    "    qa_data = qa_data.astype(np.int16)\n",
    "    qa_data = qa_data.tolist()\n",
    "    qa_data = [x for x in qa_data if x != 0]\n",
    "\n",
    "    for i in qa_data:\n",
    "        mask811 = 0b111100000000\n",
    "        mask02 =  0b000000000111\n",
    "        qa811 = (i & mask811) >> 8\n",
    "        qa02 = (i & mask02) >> 0\n",
    "        if qa811 == 0 and qa02 == 1:\n",
    "            i = float(i)\n",
    "            modis_AOD_QA=np.where(modis_AOD_QA==i, 0, modis_AOD_QA)\n",
    "        else:\n",
    "            i = float(i)\n",
    "            modis_AOD_QA=np.where(modis_AOD_QA==i, 1, modis_AOD_QA)\n",
    "\n",
    "\n",
    "    return modis_AOD_QA"
   ]
  },
  {
   "cell_type": "code",
   "execution_count": 152,
   "metadata": {},
   "outputs": [],
   "source": [
    "import warnings\n",
    "from eolearn.core import AddFeature, MapFeatureTask, MergeFeatureTask\n",
    "\n",
    "\n",
    "## Task to add masked array for AOD\n",
    "feature = (FeatureType.DATA, 'AOD_Valid')\n",
    "add_feature = AddFeature(feature)\n",
    "\n",
    "## Task to add masked array for AOD\n",
    "feature_mask = (FeatureType.MASK_TIMELESS, 'MASK_AOD')\n",
    "add_feature_mask = AddFeature(feature_mask)\n",
    "\n",
    "\n",
    "## Tasks to compute statistics of valid AOD (mean, maximum, minimum) \n",
    "mean = MapFeatureTask((FeatureType.DATA,'AOD_Valid'),  # input features\n",
    "                         (FeatureType.DATA_TIMELESS,'Mean_AOD_VALID'),  # output feature\n",
    "                         np.nanmean,                    # a function to apply to each feature\n",
    "                         axis=-1)                  \n",
    "\n",
    "\n",
    "maximum = MapFeatureTask((FeatureType.DATA,'AOD_Valid'),  # input features\n",
    "                         (FeatureType.DATA_TIMELESS,'Max_AOD_VALID'),  # output feature\n",
    "                         np.nanmax,                    # a function to apply to each feature\n",
    "                        \n",
    "                         axis=-1)                   \n",
    "\n",
    "minimum = MapFeatureTask((FeatureType.DATA,'AOD_Valid'),  # input features\n",
    "                         (FeatureType.DATA_TIMELESS,'Min_AOD_VALID'),  # output feature\n",
    "                         np.nanmin,                    # a function to apply to each feature\n",
    "                        \n",
    "                         axis=-1)                   \n",
    "\n",
    "\n",
    "## Tasks to put all statistcs in one EOpatch\n",
    "add_mask = (FeatureType.MASK, 'Daily_AOD_MASK')\n",
    "add_mask_feature = AddFeature(add_mask)\n",
    "\n",
    "add_mean = (FeatureType.DATA, 'Mean_Valid_AOD')\n",
    "add_mean_feature = AddFeature(add_mean)\n",
    "\n",
    "add_max = (FeatureType.DATA, 'Max_Valid_AOD')\n",
    "add_max_feature = AddFeature(add_max)\n",
    "\n",
    "add_min = (FeatureType.DATA, 'Min_Valid_AOD')\n",
    "add_min_feature = AddFeature(add_min)\n",
    "\n",
    "\n",
    "\n"
   ]
  },
  {
   "cell_type": "code",
   "execution_count": 153,
   "metadata": {},
   "outputs": [],
   "source": [
    "\n",
    "with warnings.catch_warnings():\n",
    "    warnings.simplefilter(\"ignore\", category=RuntimeWarning)\n",
    "    for index, modis_eop in enumerate(modis_eops):\n",
    "        ## Call the AOD_QA EOpatch for the same AOD EOpatch\n",
    "        modis_qa_eop = modis_qa_eops[index]\n",
    "        \n",
    "        ## Check how many bands in the AOD eopatch\n",
    "        modis_AOD = modis_eop.data['AOD']\n",
    "        t, w, h, b = modis_AOD.shape\n",
    "        \n",
    "        ## Loop through bands\n",
    "        Masked_data=[]\n",
    "        for band in range(b):\n",
    "            ## Take the band in the AOD Eopatch\n",
    "            MODIS_AOD = modis_eop.data['AOD'][..., band]\n",
    "            \n",
    "            ## Creat mask of clear and high quality pixels for the band in AOD Eopatch from MODIS QA Eopatch\n",
    "            valmask = ValidData(modis_qa_eop,band,min_modis_qa = 0)\n",
    "\n",
    "            ## Creat Masked Array of MODIS AOD\n",
    "            Masked_MODIS_AOD = np.ma.array(MODIS_AOD, mask=valmask,fill_value=np.nan)\n",
    "            \n",
    "            ## Put the maske array in a list \n",
    "            Masked_data.append(Masked_MODIS_AOD)\n",
    "        \n",
    "        ## Stack the mask arrays for the availabe bands into one array \n",
    "        data = np.ma.stack(Masked_data, axis=-1)\n",
    "        \n",
    "        ## Add the masked arrays as data in the AOD Eopatch \n",
    "        modis_eop = add_feature.execute(modis_eop, data)\n",
    "        \n",
    "\n",
    "       \n",
    "     \n",
    "    "
   ]
  },
  {
   "cell_type": "code",
   "execution_count": 219,
   "metadata": {},
   "outputs": [],
   "source": [
    "MODIS_NO_DATA_VALUE = -28672\n",
    "\n",
    "##  Compute statistcs \n",
    "##  Add warning filter to avoid RuntimeWarnings in this block for an array of all NaNs \n",
    "with warnings.catch_warnings():\n",
    "    warnings.simplefilter(\"ignore\", category=RuntimeWarning)\n",
    "    for modis_eop in modis_eops:\n",
    "        modis_eop.data['AOD_Valid'][modis_eop.data['AOD_Valid'] == MODIS_NO_DATA_VALUE] = np.nan\n",
    "        mean(modis_eop)\n",
    "        maximum(modis_eop)\n",
    "        minimum(modis_eop)\n",
    "        \n",
    "        data = modis_eop.data_timeless['Mean_AOD_VALID']\n",
    "\n",
    "        ## Create mask from the masked array\n",
    "        mask = np.ma.make_mask(data)        \n",
    "        modis_eop = add_feature_mask.execute(modis_eop, mask)\n",
    "        "
   ]
  },
  {
   "cell_type": "code",
   "execution_count": 220,
   "metadata": {},
   "outputs": [],
   "source": [
    "## Put the Mean, Max, Min valid MODIS values in one Eopatch\n",
    "\n",
    "import_names =(FeatureType.META_INFO, 'Names')\n",
    "add_names_feature = AddFeature(import_names)\n",
    "    \n",
    "MODIS_Stats = EOPatch()\n",
    "\n",
    "Daily_Mask=[]\n",
    "Mean_data=[]\n",
    "Max_data=[]\n",
    "Min_data=[]\n",
    "\n",
    "for index, modis_eop in enumerate(modis_eops):\n",
    "    \n",
    "    Day_Mask = modis_eop.mask_timeless['MASK_AOD'][0]\n",
    "    \n",
    "    Mean_AOD = modis_eop.data_timeless['Mean_AOD_VALID'][0]\n",
    "    Max_AOD = modis_eop.data_timeless['Max_AOD_VALID'][0]\n",
    "    Min_AOD = modis_eop.data_timeless['Min_AOD_VALID'][0]\n",
    "    \n",
    "    Mean_AOD.data[Mean_AOD.data == 1.e+20] = np.nan\n",
    "    Max_AOD.data[Max_AOD.data == 1.e+20] = np.nan\n",
    "    Min_AOD.data[Min_AOD.data == 1.e+20] = np.nan\n",
    "    \n",
    "    Daily_Mask.append(Day_Mask)\n",
    "    \n",
    "    Mean_data.append(Mean_AOD)\n",
    "    Max_data.append(Max_AOD)\n",
    "    Min_data.append(Min_AOD)\n",
    "    MODIS_Stats.timestamp.append(modis_eop.timestamp[0])\n",
    "    \n",
    "    ## Add the names of tiff in the meta data\n",
    "    import_names =(FeatureType.META_INFO, str(index))\n",
    "    add_names_feature = AddFeature(import_names)\n",
    "    tif_name = modis_eop.meta_info['Names'][0]\n",
    "    add_names_feature.execute(MODIS_Stats, tif_name)\n",
    "\n",
    "MODIS_Stats.bbox = modis_eop.bbox\n",
    "\n",
    "daily_Mask = np.ma.stack(Daily_Mask, axis=0)\n",
    "daily_Mask = np.expand_dims(daily_Mask,axis=-1)\n",
    "mask = np.ma.make_mask(daily_Mask)\n",
    "\n",
    "\n",
    "mean_AOD = np.ma.stack(Mean_data, axis=0)\n",
    "mean_AOD = np.expand_dims(mean_AOD,axis=-1)\n",
    "\n",
    "max_AOD = np.ma.stack(Max_data, axis=0)\n",
    "max_AOD = np.expand_dims(max_AOD,axis=-1)\n",
    "\n",
    "min_AOD = np.ma.stack(Min_data, axis=0)\n",
    "min_AOD = np.expand_dims(min_AOD,axis=-1)\n",
    "\n",
    "## Add feature tasks\n",
    "MODIS_Stats = add_mask_feature.execute(MODIS_Stats, mask)\n",
    "\n",
    "MODIS_Stats = add_mean_feature.execute(MODIS_Stats, mean_AOD)\n",
    "MODIS_Stats = add_max_feature.execute(MODIS_Stats, max_AOD)\n",
    "MODIS_Stats = add_min_feature.execute(MODIS_Stats, min_AOD)\n",
    "\n"
   ]
  },
  {
   "cell_type": "code",
   "execution_count": 221,
   "metadata": {},
   "outputs": [
    {
     "data": {
      "image/png": "[encoded data removed]",
      "text/plain": [
       "<Figure size 1800x360 with 6 Axes>"
      ]
     },
     "metadata": {
      "needs_background": "light"
     },
     "output_type": "display_data"
    }
   ],
   "source": [
    "## Plot Valid MODIS Data (mean,maximum,minimium)\n",
    "modis_products = ['Mean_Valid_AOD', 'Max_Valid_AOD', 'Min_Valid_AOD']\n",
    "fig, axs = plt.subplots(figsize=(25,5), ncols=3)\n",
    "\n",
    "time_idx = 2\n",
    "\n",
    "normalisations = [dict(vmin=np.min(MODIS_Stats.data[modis_product]), \n",
    "                       vmax=np.max(MODIS_Stats.data[modis_product])) \n",
    "                  for modis_product in modis_products]\n",
    "\n",
    "\n",
    "for nn, (fname, norm) in enumerate(zip(modis_products, normalisations)):\n",
    "    fh = draw_feature(ax=axs[nn], eopatch=MODIS_Stats, \n",
    "                      feature=(FeatureType.DATA, fname), \n",
    "                      **norm,\n",
    "                      time_idx = time_idx,\n",
    "                      alpha=.9, cmap=plt.cm.jet)\n",
    "    fig.colorbar(fh, ax=axs[nn])\n",
    "    \n"
   ]
  },
  {
   "cell_type": "code",
   "execution_count": 222,
   "metadata": {},
   "outputs": [],
   "source": [
    "## Temporal linear interpolation\n",
    "from eolearn.features import LinearInterpolation, BSplineInterpolation\n",
    "\n",
    "for m in modis_products:\n",
    "    linear_interp = LinearInterpolation(m,mask_feature=(FeatureType.MASK, 'Daily_AOD_MASK'))\n",
    "    linear_interp(MODIS_Stats)\n"
   ]
  },
  {
   "cell_type": "code",
   "execution_count": 226,
   "metadata": {},
   "outputs": [
    {
     "data": {
      "image/png": "[encoded data removed]",
      "text/plain": [
       "<Figure size 1800x360 with 6 Axes>"
      ]
     },
     "metadata": {
      "needs_background": "light"
     },
     "output_type": "display_data"
    }
   ],
   "source": [
    "## Plot Interpolated MODIS Data, (mean,maximum,minimium)\n",
    "\n",
    "fig, axs = plt.subplots(figsize=(25,5), ncols=3)\n",
    "\n",
    "time_idx = 2\n",
    "\n",
    "normalisations = [dict(vmin=np.min(MODIS_Stats.data[modis_product]), \n",
    "                       vmax=np.max(MODIS_Stats.data[modis_product])) \n",
    "                  for modis_product in modis_products]\n",
    "\n",
    "\n",
    "for nn, (fname, norm) in enumerate(zip(modis_products, normalisations)):\n",
    "    fh = draw_feature(ax=axs[nn], eopatch=MODIS_Stats, \n",
    "                      feature=(FeatureType.DATA, fname), \n",
    "                      **norm,\n",
    "                      time_idx = time_idx,\n",
    "                      alpha=.9, cmap=plt.cm.jet)\n",
    "    fig.colorbar(fh, ax=axs[nn])"
   ]
  },
  {
   "cell_type": "markdown",
   "metadata": {},
   "source": [
    "#### Resampling MODIS data to 10 Km "
   ]
  },
  {
   "cell_type": "code",
   "execution_count": 561,
   "metadata": {},
   "outputs": [],
   "source": [
    "modis=target_size = bbox_to_dimensions(MODIS_Stats.bbox, 10000)"
   ]
  },
  {
   "cell_type": "markdown",
   "metadata": {},
   "source": [
    "### ERA5 <a name=\"cams\"></a>"
   ]
  },
  {
   "cell_type": "markdown",
   "metadata": {},
   "source": [
    "### Land cover <a name=\"cams\"></a>"
   ]
  },
  {
   "cell_type": "markdown",
   "metadata": {},
   "source": [
    "### DEM <a name=\"cams\"></a>"
   ]
  },
  {
   "cell_type": "code",
   "execution_count": 5,
   "metadata": {},
   "outputs": [
    {
     "name": "stdout",
     "output_type": "stream",
     "text": [
      "training_dataset_ita/Italy\n"
     ]
    }
   ],
   "source": [
    "eu_dem_train_dir = DATA_DIR/AOIS[0]\n",
    "print(eu_dem_train_dir)\n",
    "eu_dem_eop = load_tiffs(eu_dem_train_dir, \n",
    "                        (FeatureType.DATA_TIMELESS, 'EU_DEM'),\n",
    "                        filename='eu_dem_v11_North_Italy.zip')"
   ]
  },
  {
   "cell_type": "code",
   "execution_count": 6,
   "metadata": {},
   "outputs": [
    {
     "data": {
      "text/plain": [
       "(519, 520)"
      ]
     },
     "execution_count": 6,
     "metadata": {},
     "output_type": "execute_result"
    }
   ],
   "source": [
    "dem_target_size = bbox_to_dimensions(eu_dem_eop.bbox, 1000)\n"
   ]
  },
  {
   "cell_type": "markdown",
   "metadata": {},
   "source": [
    "### SPOT <a name=\"cams\"></a>"
   ]
  },
  {
   "cell_type": "markdown",
   "metadata": {},
   "source": [
    "### Data merging"
   ]
  },
  {
   "cell_type": "markdown",
   "metadata": {},
   "source": [
    "## Exploratory analysis <a name=\"exploratory-analysis\"></a>"
   ]
  },
  {
   "cell_type": "markdown",
   "metadata": {},
   "source": [
    "## Modelling and validation <a name=\"modelling-and-validation\"></a>"
   ]
  },
  {
   "cell_type": "markdown",
   "metadata": {},
   "source": [
    "## Prediction <a name=\"prediction\"></a>"
   ]
  },
  {
   "cell_type": "code",
   "execution_count": null,
   "metadata": {},
   "outputs": [],
   "source": []
  }
 ],
 "metadata": {
  "kernelspec": {
   "display_name": "Python 3",
   "language": "python",
   "name": "python3"
  },
  "language_info": {
   "codemirror_mode": {
    "name": "ipython",
    "version": 3
   },
   "file_extension": ".py",
   "mimetype": "text/x-python",
   "name": "python",
   "nbconvert_exporter": "python",
   "pygments_lexer": "ipython3",
   "version": "3.6.9"
  }
 },
 "nbformat": 4,
 "nbformat_minor": 4
}
