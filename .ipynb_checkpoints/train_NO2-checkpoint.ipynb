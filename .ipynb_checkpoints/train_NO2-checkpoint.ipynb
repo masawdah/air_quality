{
 "cells": [
  {
   "cell_type": "markdown",
   "metadata": {},
   "source": [
    "# South Africa"
   ]
  },
  {
   "cell_type": "markdown",
   "metadata": {},
   "source": [
    "S5P NO2: Original resolution: 7km x 7km. Improved resolution: 1km x 1km.\n",
    "\n",
    "Predictors used at the moment:\n",
    "* DEM"
   ]
  },
  {
   "cell_type": "code",
   "execution_count": 1,
   "metadata": {},
   "outputs": [],
   "source": [
    "# Built-in modules\n",
    "import os\n",
    "import gzip\n",
    "import shutil\n",
    "from pathlib import Path\n",
    "from datetime import datetime, timedelta\n",
    "import glob\n",
    "import re\n",
    "import warnings\n",
    "from collections import defaultdict\n",
    "\n",
    "# Basics of Python data handling and visualization\n",
    "import fs\n",
    "import numpy as np\n",
    "import pandas as pd\n",
    "import geopandas as gpd\n",
    "import matplotlib.pyplot as plt\n",
    "from matplotlib.colors import ListedColormap\n",
    "from tqdm.auto import tqdm\n",
    "from shapely import wkt\n",
    "import rasterio as rio\n",
    "from shapely import geometry\n",
    "from rasterstats import zonal_stats\n",
    "import seaborn as sns\n",
    "\n",
    "# Modelling\n",
    "from sklearn.ensemble import RandomForestRegressor\n",
    "from sklearn import metrics\n",
    "from sklearn.model_selection import cross_validate, GroupKFold\n",
    "import statistics \n",
    "\n",
    "# Imports from eo-learn and sentinelhub-py\n",
    "from eolearn.core import EOPatch, EOTask, LinearWorkflow, FeatureType, AddFeature, MapFeatureTask, MergeFeatureTask, RemoveFeature,LoadTask, SaveTask, OverwritePermission\n",
    "from sentinelhub import bbox_to_dimensions, bbox_to_resolution\n",
    "from eolearn.io import ExportToTiff\n",
    "\n",
    "# Visualisation utils\n",
    "from utils import (get_extent, \n",
    "                   draw_outline, \n",
    "                   draw_bbox, \n",
    "                   draw_feature, \n",
    "                   draw_true_color,\n",
    "                   unzip_file,\n",
    "                   load_tiffs,\n",
    "                   load_list_tiffs,\n",
    "                   days_to_datetimes,\n",
    "                   datetimes_to_days,\n",
    "                   reproject_tiff,\n",
    "                   upscale_tiff,\n",
    "                   mask_tiff)# South Africa\n",
    "\n",
    "from utils_carles import polygrid, export_geotiff, percs_landuse, upscale_mean_tiff, extract_points_from_raster"
   ]
  },
  {
   "cell_type": "code",
   "execution_count": 2,
   "metadata": {},
   "outputs": [],
   "source": [
    "DATA_DIR = Path('training_dataset_south_africa')\n",
    "AOIS = ['South_Africa']"
   ]
  },
  {
   "cell_type": "code",
   "execution_count": 3,
   "metadata": {},
   "outputs": [],
   "source": [
    "OFFSET = 2100\n",
    "NO_DATA_VALUE = -9999.0"
   ]
  },
  {
   "cell_type": "code",
   "execution_count": 4,
   "metadata": {},
   "outputs": [],
   "source": [
    "# CHANGE THIS VALUE to True IF PRE-PROCESSING NEEDS TO BE DONE\n",
    "preproc = True"
   ]
  },
  {
   "cell_type": "markdown",
   "metadata": {},
   "source": [
    "## Pre-processing (training data)"
   ]
  },
  {
   "cell_type": "markdown",
   "metadata": {},
   "source": [
    "Prepare CAMS data. I do not do any temporal adjustment because we're using DEM for now. EPSG=4326."
   ]
  },
  {
   "cell_type": "code",
   "execution_count": 285,
   "metadata": {},
   "outputs": [
    {
     "data": {
      "text/plain": [
       "EOPatch(\n",
       "  data: {\n",
       "    NO2: numpy.ndarray(shape=(100, 70, 77, 2), dtype=float32)\n",
       "    UV_AEROSOL_INDEX: numpy.ndarray(shape=(85, 71, 77, 2), dtype=float32)\n",
       "  }\n",
       "  mask: {}\n",
       "  scalar: {}\n",
       "  label: {}\n",
       "  vector: {}\n",
       "  data_timeless: {}\n",
       "  mask_timeless: {}\n",
       "  scalar_timeless: {}\n",
       "  label_timeless: {}\n",
       "  vector_timeless: {}\n",
       "  meta_info: {\n",
       "    Names_NO2: ['S5P_NO2__RPRO_L2_day2141_T10.tif', ..., 'S5P_NO2__RPRO_L2_day2232_T12.tif'], length=100\n",
       "    Names_UV_AEROSOL: ['S5P_AER_AI_OFFL_L2_day2168_T10.tif', ..., 'S5P_AER_AI_OFFL_L2_day2232_T12.tif'], length=85\n",
       "  }\n",
       "  bbox: BBox(((26.677331470947365, -27.758826442871097), (31.51909147094736, -23.35722644287111)), crs=CRS('4326'))\n",
       "  timestamp: [datetime.datetime(1900, 2, 10, 10, 0), ..., datetime.datetime(1900, 5, 12, 12, 0)], length=100\n",
       ")"
      ]
     },
     "execution_count": 285,
     "metadata": {},
     "output_type": "execute_result"
    }
   ],
   "source": [
    "# Read S5P NO2\n",
    "s5p_train_dir = DATA_DIR/AOIS[0]/'sentinel5P'\n",
    "#s5p_products = ['NO2','UV_AEROSOL_INDEX']\n",
    "s5p_products = sorted(os.listdir(s5p_train_dir))\n",
    "\n",
    "s5p_eops = [load_tiffs(s5p_train_dir/s5p_p, (FeatureType.DATA, s5p_p), offset=OFFSET) \n",
    "           for s5p_p in s5p_products]\n",
    "\n",
    "s5p_eop = EOPatch(data={'NO2': s5p_eops[0].data['NO2'], \n",
    "                        'UV_AEROSOL_INDEX': s5p_eops[1].data['UV_AEROSOL_INDEX']},\n",
    "                  meta_info={'Names_NO2':s5p_eops[0].meta_info['Names'],\n",
    "                             'Names_UV_AEROSOL':s5p_eops[1].meta_info['Names']},\n",
    "                  timestamp=s5p_eops[0].timestamp,\n",
    "                  bbox=s5p_eops[0].bbox)\n",
    "del s5p_eops\n",
    "s5p_eop\n"
   ]
  },
  {
   "cell_type": "code",
   "execution_count": 286,
   "metadata": {},
   "outputs": [],
   "source": [
    "## Filtet unvalid pixels \n",
    "\n",
    "## Set no valid data to np.nan\n",
    "\n",
    "s5p_eop.data['NO2'][s5p_eop.data['NO2'] == NO_DATA_VALUE] = np.nan\n",
    "s5p_eop.data['UV_AEROSOL_INDEX'][s5p_eop.data['UV_AEROSOL_INDEX'] == NO_DATA_VALUE] = np.nan\n",
    "\n",
    "\n",
    "## Use Qa band to reduce noisy observations\n",
    "min_q_a = 50\n",
    "\n",
    "for s5pp in s5p_products:\n",
    "    s5p_eop.data[s5pp][..., 0][s5p_eop.data[s5pp][..., 1] <= min_q_a] = np.nan"
   ]
  },
  {
   "cell_type": "code",
   "execution_count": 177,
   "metadata": {},
   "outputs": [],
   "source": [
    "### Extract NO2 bands after filitering them \n",
    "\n",
    "## location of exported tiff\n",
    "filtered_s5p_products = ['filtered_NO2', 'filtered_UV_AEROSOL_INDEX']\n",
    "\n",
    "filtered_S5P_location = str(DATA_DIR/AOIS[0])+'/filtered_sentinel5P'\n",
    "if not os.path.isdir(filtered_S5P_location):\n",
    "    os.makedirs(filtered_S5P_location)\n",
    "    for i in filtered_s5p_products:\n",
    "        os.mkdir(filtered_S5P_location + '/' + i)\n",
    "\n",
    "\n",
    "        \n",
    "## Task to add the filtered NO2 band \n",
    "add_NO2 = (FeatureType.DATA_TIMELESS, 'NO2')\n",
    "add_s5p_NO2 = AddFeature(add_NO2)\n",
    "\n",
    "## Task to export the merged tiff (mean of daily measurments)\n",
    "export_tiff = ExportToTiff((FeatureType.DATA_TIMELESS, 'NO2'))\n",
    "\n",
    "\n",
    "t,x,y,b = s5p_eop.data['NO2'].shape\n",
    "\n",
    "for index in range(t):\n",
    "    NO2_array = s5p_eop.data['NO2'][index][...,0]\n",
    "    # add dimension\n",
    "    NO2_array= np.expand_dims(NO2_array, axis=-1)\n",
    "    \n",
    "    ## execute the add task\n",
    "    add_s5p_NO2.execute(s5p_eop,NO2_array)\n",
    "    \n",
    "    ## tiff name (filtered NO2)\n",
    "    tiffname = s5p_eop.meta_info['Names_NO2'][index]\n",
    "    \n",
    "    ## export the tiff (filtered NO2)\n",
    "    export_tiff.execute(s5p_eop, filename=str(filtered_S5P_location)+'/filtered_NO2'+'/'+tiffname)\n",
    "    "
   ]
  },
  {
   "cell_type": "code",
   "execution_count": 5,
   "metadata": {},
   "outputs": [],
   "source": [
    "## lOAD FILTERED NO2\n",
    "s5p_train_dir = DATA_DIR/AOIS[0]/'filtered_sentinel5P'\n",
    "\n",
    "s5p_eop = load_tiffs(s5p_train_dir/'filtered_NO2', (FeatureType.DATA, 'NO2'), offset=OFFSET) \n",
    "           "
   ]
  },
  {
   "cell_type": "code",
   "execution_count": 12,
   "metadata": {},
   "outputs": [
    {
     "data": {
      "text/plain": [
       "EOPatch(\n",
       "  data: {\n",
       "    NO2: numpy.ndarray(shape=(100, 70, 77, 1), dtype=float32)\n",
       "  }\n",
       "  mask: {}\n",
       "  scalar: {}\n",
       "  label: {}\n",
       "  vector: {}\n",
       "  data_timeless: {}\n",
       "  mask_timeless: {}\n",
       "  scalar_timeless: {}\n",
       "  label_timeless: {}\n",
       "  vector_timeless: {}\n",
       "  meta_info: {\n",
       "    Names: ['S5P_NO2__RPRO_L2_day2141_T10.tif', ..., 'S5P_NO2__RPRO_L2_day2232_T12.tif'], length=100\n",
       "  }\n",
       "  bbox: BBox(((26.677331470947365, -27.758826442871097), (31.51909147094736, -23.35722644287111)), crs=CRS('4326'))\n",
       "  timestamp: [datetime.datetime(1900, 2, 10, 10, 0), ..., datetime.datetime(1900, 5, 12, 12, 0)], length=100\n",
       ")"
      ]
     },
     "execution_count": 12,
     "metadata": {},
     "output_type": "execute_result"
    }
   ],
   "source": [
    "s5p_eop"
   ]
  },
  {
   "cell_type": "code",
   "execution_count": 20,
   "metadata": {},
   "outputs": [
    {
     "name": "stderr",
     "output_type": "stream",
     "text": [
      "/usr/local/lib/python3.6/dist-packages/ipykernel_launcher.py:8: UserWarning: Geometry is in a geographic CRS. Results from 'centroid' are likely incorrect. Use 'GeoSeries.to_crs()' to re-project geometries to a projected CRS before this operation.\n",
      "\n",
      "  \n"
     ]
    },
    {
     "data": {
      "image/png": "[encoded data removed]",
      "text/plain": [
       "<Figure size 432x288 with 1 Axes>"
      ]
     },
     "metadata": {
      "needs_background": "light"
     },
     "output_type": "display_data"
    }
   ],
   "source": [
    "# Create rectangular grid for pixels corresponding to NO2\n",
    "bounds = list(s5p_eop.bbox)\n",
    "xres = (bounds[2]-bounds[0])/s5p_eop.data[\"NO2\"].shape[1]\n",
    "yres = (bounds[3]-bounds[1])/s5p_eop.data[\"NO2\"].shape[2]\n",
    "bounds = geometry.box(bounds[0], bounds[1], bounds[2], bounds[3])\n",
    "bounds = gpd.GeoDataFrame({\"id\":1,\"geometry\":[bounds]}, crs=\"EPSG:4326\")\n",
    "s5p_grid = polygrid(bounds, xres,yres, 4326)\n",
    "s5p_centroids = gpd.GeoDataFrame(geometry= s5p_grid.centroid)\n",
    "p = s5p_grid.boundary.plot()\n",
    "s5p_centroids.plot(ax=p, color='red')\n",
    "plt.show()"
   ]
  },
  {
   "cell_type": "code",
   "execution_count": 15,
   "metadata": {},
   "outputs": [
    {
     "data": {
      "image/png": "[encoded data removed]",
      "text/plain": [
       "<Figure size 432x360 with 2 Axes>"
      ]
     },
     "metadata": {
      "needs_background": "light"
     },
     "output_type": "display_data"
    }
   ],
   "source": [
    "# Draw a sample\n",
    "fig, ax = plt.subplots(figsize=(6,5))\n",
    "fh = draw_feature(ax=ax, eopatch=s5p_eop, \n",
    "                 feature=(FeatureType.DATA, 'NO2'),\n",
    "                 time_idx=5, \n",
    "                 vmin=-0.001, vmax=0.006)\n",
    "fig.colorbar(fh, ax=ax);"
   ]
  },
  {
   "cell_type": "markdown",
   "metadata": {},
   "source": [
    "Prepare DEM data at 1km resolution to make computations easier. EPSG=4326"
   ]
  },
  {
   "cell_type": "code",
   "execution_count": 186,
   "metadata": {},
   "outputs": [],
   "source": [
    "# Resampling DEM to 1 Km with the same bounding box of NO2 to make it manageable. Use custom function to use mean.\n",
    "if preproc:\n",
    "    # Get resampling dimensions\n",
    "    target_size = bbox_to_dimensions(s5p_eop.bbox, 1000)\n",
    "\n",
    "    # Sampling files to 40 km using bilinear interpolaiton\n",
    "    path_in = Path(str(DATA_DIR/AOIS[0])+'/DEM/COP_DSM_south_africa_GLO-30.tif')\n",
    "    #path_out = str(DATA_DIR/AOIS[0])+'/DEM/NO2_DEM_1km.tif'\n",
    "    filename = 'NO2_DEM_1km.tif'\n",
    "    upscale_mean_tiff(path_in, filename, target_size)"
   ]
  },
  {
   "cell_type": "markdown",
   "metadata": {},
   "source": [
    "Now compute mean DEM per CAMS pixel"
   ]
  },
  {
   "cell_type": "code",
   "execution_count": 16,
   "metadata": {},
   "outputs": [],
   "source": [
    "# Read resampled DEM at 1 km\n",
    "if preproc:\n",
    "    no_data_value = 128\n",
    "    dem_train_dir = DATA_DIR/AOIS[0]/'DEM'\n",
    "    dem_train_eop = load_tiffs(datapath=dem_train_dir,\n",
    "                              feature=(FeatureType.DATA_TIMELESS, 'DEM'), \n",
    "                              filename='NO2_DEM_1km.tif',\n",
    "                            no_data_value=no_data_value)\n",
    "    \n",
    "    ## FILTER NO VALID DATA BEFORE STARTING\n",
    "    dem_train_eop.data_timeless['DEM'][dem_train_eop.data_timeless['DEM'] == no_data_value] = np.nan\n",
    "    \n",
    "    # Perform zonal statistics - mean altitude per CAMS pixel\n",
    "    src = rio.open(str(dem_train_dir) + '/NO2_DEM_1km.tif')\n",
    "    affine = src.transform\n",
    "    array = dem_train_eop.data_timeless['DEM']\n",
    "    array = array[:, :, 0] # Remove one dimension\n",
    "    dem_grid = s5p_grid\n",
    "    zstats = zonal_stats(dem_grid, array, affine=affine, stats=\"mean\", nodata=np.nan)\n",
    "    vals = []\n",
    "    for index, value in enumerate(zstats):\n",
    "        vals.append(value['mean'])\n",
    "    dem_grid['elevation'] = vals"
   ]
  },
  {
   "cell_type": "code",
   "execution_count": 17,
   "metadata": {},
   "outputs": [],
   "source": [
    "# Now we can rasterize\n",
    "if preproc:\n",
    "    minx, miny, maxx, maxy = s5p_grid.geometry.total_bounds\n",
    "    sizey = round((maxy-miny)/yres)\n",
    "    sizex = round((maxx-minx)/xres)\n",
    "    transform = rio.transform.from_bounds(minx, miny, maxx, maxy, sizex, sizey)\n",
    "    shapes = ((geom, value) for geom, value in zip(dem_grid.geometry, dem_grid['elevation']))\n",
    "    dem = rio.features.rasterize(shapes, out_shape=(sizey, sizex), transform=transform)\n",
    "    dem\n",
    "    export_geotiff(str(dem_train_dir) + '/DEM_NO2_train.tif', dem, transform, 4326)"
   ]
  },
  {
   "cell_type": "code",
   "execution_count": 21,
   "metadata": {},
   "outputs": [
    {
     "data": {
      "image/png": "[encoded data removed]",
      "text/plain": [
       "<Figure size 432x360 with 2 Axes>"
      ]
     },
     "metadata": {
      "needs_background": "light"
     },
     "output_type": "display_data"
    }
   ],
   "source": [
    "# Read and visualize\n",
    "dem_train_dir = DATA_DIR/AOIS[0]/'DEM'\n",
    "dem_train_eop = load_tiffs(datapath=dem_train_dir,\n",
    "                           feature=(FeatureType.DATA_TIMELESS, 'DEM'), \n",
    "                           filename='DEM_NO2.tif')\n",
    "\n",
    "fig, ax = plt.subplots(figsize=(6,5))\n",
    "fh = draw_feature(ax=ax, eopatch=dem_train_eop, \n",
    "                 feature=(FeatureType.DATA_TIMELESS, 'DEM'), \n",
    "                 time_idx=None, \n",
    "                 vmin=0, vmax=2500)\n",
    "fig.colorbar(fh, ax=ax);"
   ]
  },
  {
   "cell_type": "markdown",
   "metadata": {},
   "source": [
    "### Prepare ERA5 to match NO2 grid"
   ]
  },
  {
   "cell_type": "code",
   "execution_count": 22,
   "metadata": {},
   "outputs": [],
   "source": [
    "## Select the temporal data of ERA5, the same of CAMS\n",
    "era5_train_dir = DATA_DIR/AOIS[0]/'era5'\n",
    "era5_products = sorted(os.listdir(era5_train_dir))\n",
    "\n",
    "hours = ['h10','h11','h12']\n",
    "era5_products = ['relative_humidity', 'specific_rain_water_content', 'wind_u', 'wind_v']\n",
    "files_name = []\n",
    "for era5_p in era5_products:\n",
    "    era5_product_paths = []\n",
    "    for hour in hours:\n",
    "        era5_product_path = glob.glob(str(era5_train_dir) +'/' +era5_p + '/' +  f'*{hour}.tif')[0:2208]\n",
    "        era5_product_paths = era5_product_paths + era5_product_path\n",
    "        filenames = [path.replace(str(era5_train_dir) + f'/{era5_p}/','') for path in era5_product_paths]\n",
    "        \n",
    "    files_name.append(filenames)\n",
    "#files_name"
   ]
  },
  {
   "cell_type": "code",
   "execution_count": 36,
   "metadata": {},
   "outputs": [],
   "source": [
    "# Resampling the selected ERA5 to 1 Km with the same bounding box of NO2 to make it manageable. Use billinar resampling.\n",
    "\n",
    "## Location \n",
    "resampled_era5_no2_location = str(DATA_DIR/AOIS[0])+'/resampled_era5_NO2'\n",
    "if not os.path.isdir(resampled_era5_no2_location):\n",
    "    os.makedirs(resampled_era5_no2_location)\n",
    "    for i in era5_products:\n",
    "        os.mkdir(resampled_era5_no2_location + '/' + i) \n",
    "\n",
    "\n",
    "if preproc:\n",
    "    # Get resampling dimensions\n",
    "    target_size = bbox_to_dimensions(s5p_eop.bbox, 1000)\n",
    "\n",
    "    for index, era5_p in enumerate(era5_products):\n",
    "        filenames = files_name[index]\n",
    "        tiffs = filenames\n",
    "        for tiff in tiffs:\n",
    "            for j in glob.glob(str(era5_train_dir) + '/' + era5_p +'/' +tiff):\n",
    "                path_in = j\n",
    "                path_out = re.sub('era5', 'resampled_era5_NO2', path_in)\n",
    "                upscale_tiff(path_in, path_out, target_size)\n",
    "            \n"
   ]
  },
  {
   "cell_type": "code",
   "execution_count": 37,
   "metadata": {},
   "outputs": [
    {
     "data": {
      "text/plain": [
       "EOPatch(\n",
       "  data: {\n",
       "    relative_humidity: numpy.ndarray(shape=(276, 494, 480, 1), dtype=float32)\n",
       "    specific_rain_water_content: numpy.ndarray(shape=(276, 494, 480, 1), dtype=float32)\n",
       "    wind_u: numpy.ndarray(shape=(276, 494, 480, 1), dtype=float32)\n",
       "    wind_v: numpy.ndarray(shape=(276, 494, 480, 1), dtype=float32)\n",
       "  }\n",
       "  mask: {}\n",
       "  scalar: {}\n",
       "  label: {}\n",
       "  vector: {}\n",
       "  data_timeless: {}\n",
       "  mask_timeless: {}\n",
       "  scalar_timeless: {}\n",
       "  label_timeless: {}\n",
       "  vector_timeless: {}\n",
       "  meta_info: {\n",
       "    Names_relative_humidity: ['ERA5_rh_day2141_h10.tif', ..., 'ERA5_rh_day2232_h12.tif'], length=276\n",
       "    Names_specific_rain_water_content: ['ERA5_srwc_day2141_h10.tif', ..., 'ERA5_srwc_day2232_h12.tif'], length=276\n",
       "    Names_wind_u: ['ERA5_u_day2141_h10.tif', ..., 'ERA5_u_day2232_h12.tif'], length=276\n",
       "    Names_wind_v: ['ERA5_v_day2141_h10.tif', ..., 'ERA5_v_day2232_h12.tif'], length=276\n",
       "  }\n",
       "  bbox: BBox(((26.875, -27.815000534057617), (31.375, -23.565000534057617)), crs=CRS('4326'))\n",
       "  timestamp: [datetime.datetime(1900, 2, 10, 10, 0), ..., datetime.datetime(1900, 5, 12, 12, 0)], length=276\n",
       ")"
      ]
     },
     "execution_count": 37,
     "metadata": {},
     "output_type": "execute_result"
    }
   ],
   "source": [
    "## Load ERA5\n",
    "resampled_era5_no2_location = Path(resampled_era5_no2_location)\n",
    "# Load data\n",
    "era5_eops = []\n",
    "for file_names, era5_p in [(files_name[0], 'relative_humidity'),(files_name[1], 'specific_rain_water_content'),(files_name[2], 'wind_u'),(files_name[3], 'wind_v')]:\n",
    "    era5_eop = load_list_tiffs(resampled_era5_no2_location/era5_p, \n",
    "                               (FeatureType.DATA,era5_p), \n",
    "                                offset=OFFSET,\n",
    "                                filename = file_names,\n",
    "                                image_dtype=np.float32,\n",
    "                                data_source='era5')\n",
    "    era5_eops.append(era5_eop)\n",
    "\n",
    "\n",
    "\n",
    "# Merge into one EOPS\n",
    "era5_eop = EOPatch(data={'relative_humidity': era5_eops[0].data['relative_humidity'], \n",
    "                         'specific_rain_water_content': era5_eops[1].data['specific_rain_water_content'],\n",
    "                        'wind_u': era5_eops[2].data['wind_u'],\n",
    "                        'wind_v': era5_eops[3].data['wind_v']},\n",
    "                   meta_info={'Names_relative_humidity': era5_eops[0].meta_info['Names'],\n",
    "                              'Names_specific_rain_water_content': era5_eops[1].meta_info['Names'],\n",
    "                             'Names_wind_u': era5_eops[2].meta_info['Names'],\n",
    "                             'Names_wind_v': era5_eops[3].meta_info['Names']},\n",
    "                     timestamp=era5_eops[0].timestamp,\n",
    "                     bbox=era5_eops[0].bbox)\n",
    "del era5_eops\n",
    "era5_eop"
   ]
  },
  {
   "cell_type": "code",
   "execution_count": 38,
   "metadata": {},
   "outputs": [],
   "source": [
    "## Filter NO VALID DATA OF ERA5\n",
    "NO_DATA_VALUE = -32767\n",
    "\n",
    "era5_eop.data['relative_humidity'][era5_eop.data['relative_humidity'] == NO_DATA_VALUE] = np.nan\n",
    "era5_eop.data['specific_rain_water_content'][era5_eop.data['specific_rain_water_content'] == NO_DATA_VALUE] = np.nan\n",
    "era5_eop.data['wind_u'][era5_eop.data['wind_u'] == NO_DATA_VALUE] = np.nan\n",
    "era5_eop.data['wind_v'][era5_eop.data['wind_v'] == NO_DATA_VALUE] = np.nan"
   ]
  },
  {
   "cell_type": "code",
   "execution_count": 39,
   "metadata": {},
   "outputs": [
    {
     "data": {
      "image/png": "[encoded data removed]",
      "text/plain": [
       "<Figure size 432x360 with 2 Axes>"
      ]
     },
     "metadata": {
      "needs_background": "light"
     },
     "output_type": "display_data"
    }
   ],
   "source": [
    "# Draw a sample\n",
    "fig, ax = plt.subplots(figsize=(6,5))\n",
    "fh = draw_feature(ax=ax, eopatch=s5p_eop, \n",
    "                 feature=(FeatureType.DATA, 'NO2'),\n",
    "                 time_idx=5, \n",
    "                 vmin=-0.001, vmax=0.006)\n",
    "fig.colorbar(fh, ax=ax);"
   ]
  },
  {
   "cell_type": "code",
   "execution_count": 40,
   "metadata": {},
   "outputs": [],
   "source": [
    "\n",
    "# Perform zonal statistics - ERA5 products per CAMS pixel\n",
    "# Rastrize the new CAMS zonal stats and save them on disk\n",
    "\n",
    "era5_location=  str(DATA_DIR/AOIS[0])+'/resampled_era5_NO2'\n",
    "\n",
    "## location of exported tiff (ERA5 matching CAMS grid)\n",
    "era5_train_no2_location = str(DATA_DIR/AOIS[0])+'/rasterize_era5_no2'\n",
    "if not os.path.isdir(era5_train_no2_location):\n",
    "    os.makedirs(era5_train_no2_location)\n",
    "    for i in era5_products:\n",
    "        os.mkdir(era5_train_no2_location + '/' + i)\n",
    "        \n",
    "for index, era5p in enumerate(era5_products):\n",
    "    tiffs = sorted(files_name[index])\n",
    "    i=0\n",
    "    for tiff in tiffs:\n",
    "        for era5_path in glob.glob(str(era5_location) + '/' + era5p + '/' +  tiff):\n",
    "            src = rio.open(era5_path)\n",
    "            affine = src.transform\n",
    "            array = era5_eop.data[era5p][i]\n",
    "            array = array[:, :, 0]\n",
    "            era5_grid = s5p_grid\n",
    "            era5_stats = zonal_stats(era5_grid, array, affine=affine, stats=\"mean\", nodata=np.nan)\n",
    "\n",
    "            vals = []\n",
    "            for index, value in enumerate(era5_stats):\n",
    "                vals.append(value['mean'])\n",
    "\n",
    "            era5_grid[era5p] = vals\n",
    "\n",
    "            # rasterize\n",
    "            minx, miny, maxx, maxy = s5p_grid.geometry.total_bounds\n",
    "            sizey = round((maxy-miny)/yres)\n",
    "            sizex = round((maxx-minx)/xres)\n",
    "\n",
    "            transform = rio.transform.from_bounds(minx, miny, maxx, maxy, sizex, sizey)\n",
    "            shapes = ((geom, value) for geom, value in zip(era5_grid.geometry, era5_grid[era5p]))\n",
    "            era5 = rio.features.rasterize(shapes, out_shape=(sizey, sizex), transform=transform)\n",
    "            tiffname = era5_eop.meta_info['Names_'+ era5p][i]\n",
    "            export_geotiff(str(era5_train_no2_location) + '/' +era5p + '/'+ tiffname, era5, transform, 4326)\n",
    "            \n",
    "            i+=1\n",
    "\n",
    "del era5_eop"
   ]
  },
  {
   "cell_type": "code",
   "execution_count": 41,
   "metadata": {},
   "outputs": [
    {
     "data": {
      "text/plain": [
       "EOPatch(\n",
       "  data: {\n",
       "    relative_humidity: numpy.ndarray(shape=(276, 77, 70, 1), dtype=float32)\n",
       "    specific_rain_water_content: numpy.ndarray(shape=(276, 77, 70, 1), dtype=float32)\n",
       "    wind_u: numpy.ndarray(shape=(276, 77, 70, 1), dtype=float32)\n",
       "    wind_v: numpy.ndarray(shape=(276, 77, 70, 1), dtype=float32)\n",
       "  }\n",
       "  mask: {}\n",
       "  scalar: {}\n",
       "  label: {}\n",
       "  vector: {}\n",
       "  data_timeless: {}\n",
       "  mask_timeless: {}\n",
       "  scalar_timeless: {}\n",
       "  label_timeless: {}\n",
       "  vector_timeless: {}\n",
       "  meta_info: {\n",
       "    Names_relative_humidity: ['ERA5_rh_day2141_h10.tif', ..., 'ERA5_rh_day2232_h12.tif'], length=276\n",
       "    Names_specific_rain_water_content: ['ERA5_srwc_day2141_h10.tif', ..., 'ERA5_srwc_day2232_h12.tif'], length=276\n",
       "    Names_wind_u: ['ERA5_u_day2141_h10.tif', ..., 'ERA5_u_day2232_h12.tif'], length=276\n",
       "    Names_wind_v: ['ERA5_v_day2141_h10.tif', ..., 'ERA5_v_day2232_h12.tif'], length=276\n",
       "  }\n",
       "  bbox: BBox(((26.677331470947365, -27.758826442871097), (31.51909147094745, -23.357226442871085)), crs=CRS('4326'))\n",
       "  timestamp: [datetime.datetime(1900, 2, 10, 10, 0), ..., datetime.datetime(1900, 5, 12, 12, 0)], length=276\n",
       ")"
      ]
     },
     "execution_count": 41,
     "metadata": {},
     "output_type": "execute_result"
    }
   ],
   "source": [
    "## Read rastraized ERA5 \n",
    "\n",
    "\n",
    "# Load data\n",
    "ras_era5_eops = [load_tiffs(Path(era5_train_no2_location)/era5_p, \n",
    "                        (FeatureType.DATA, era5_p), \n",
    "                        offset=OFFSET, \n",
    "                        image_dtype=np.float32,\n",
    "                        data_source='era5') \n",
    "             for era5_p in era5_products]\n",
    "\n",
    "\n",
    "\n",
    "# Merge into one EOPS\n",
    "ras_era5_eop = EOPatch(data={'relative_humidity': ras_era5_eops[0].data['relative_humidity'], \n",
    "                              'specific_rain_water_content': ras_era5_eops[1].data['specific_rain_water_content'],\n",
    "                              'wind_u': ras_era5_eops[2].data['wind_u'],\n",
    "                              'wind_v': ras_era5_eops[3].data['wind_v']},\n",
    "                        meta_info={'Names_relative_humidity': ras_era5_eops[0].meta_info['Names'],\n",
    "                                   'Names_specific_rain_water_content':ras_era5_eops[1].meta_info['Names'],\n",
    "                                   'Names_wind_u': ras_era5_eops[2].meta_info['Names'],\n",
    "                                   'Names_wind_v': ras_era5_eops[3].meta_info['Names']},\n",
    "                        timestamp= ras_era5_eops[0].timestamp,\n",
    "                        bbox= ras_era5_eops[0].bbox)\n",
    "\n",
    "del ras_era5_eops\n",
    "ras_era5_eop"
   ]
  },
  {
   "cell_type": "code",
   "execution_count": 42,
   "metadata": {},
   "outputs": [
    {
     "data": {
      "image/png": "[encoded data removed]",
      "text/plain": [
       "<Figure size 1800x360 with 8 Axes>"
      ]
     },
     "metadata": {
      "needs_background": "light"
     },
     "output_type": "display_data"
    }
   ],
   "source": [
    "## plot rastraized ERA5\n",
    "\n",
    "fig, axs = plt.subplots(figsize=(25, 5), ncols=4)\n",
    "\n",
    "time_idx = 1\n",
    "\n",
    "normalisations = [dict(vmin=np.min(ras_era5_eop.data[era5_p]), \n",
    "                       vmax=np.max(ras_era5_eop.data[era5_p])) \n",
    "                  for era5_p in era5_products]\n",
    "\n",
    "for nn, (fname, norm) in enumerate(zip(era5_products, normalisations)):\n",
    "    fh = draw_feature(ax=axs[nn], eopatch=ras_era5_eop, \n",
    "                      feature=(FeatureType.DATA, fname),\n",
    "                      time_idx=time_idx, \n",
    "                      **norm,\n",
    "                      alpha=.9, cmap=plt.cm.jet)\n",
    "    fig.colorbar(fh, ax=axs[nn])"
   ]
  },
  {
   "cell_type": "markdown",
   "metadata": {},
   "source": [
    "# Data merging"
   ]
  },
  {
   "cell_type": "markdown",
   "metadata": {},
   "source": [
    "Now that everything is in the same format, we need to create our training datasets to start modelling."
   ]
  },
  {
   "cell_type": "code",
   "execution_count": 43,
   "metadata": {},
   "outputs": [],
   "source": [
    "# Extract DEM\n",
    "dem_train_dir = DATA_DIR/AOIS[0]/'DEM'\n",
    "if preproc:\n",
    "    raster_path = [(str(dem_train_dir) + '/DEM_NO2.tif')]\n",
    "    dem_df = extract_points_from_raster(s5p_centroids, raster_path, 'DEM')\n",
    "    dem_df = pd.concat(dem_df)\n",
    "    dem_df = dem_df.dropna()\n",
    "    dem_df = dem_df.drop('raster', 1)\n",
    "    "
   ]
  },
  {
   "cell_type": "code",
   "execution_count": 51,
   "metadata": {},
   "outputs": [],
   "source": [
    "# Extract NO2\n",
    "\n",
    "s5p_train_dir = DATA_DIR/AOIS[0]/'filtered_sentinel5P'\n",
    "\n",
    "s5p_paths = glob.glob(str(s5p_train_dir) + '/filtered_NO2/*.tif')[0:150]\n",
    "s5p_df = extract_points_from_raster(s5p_centroids, s5p_paths, 'NO2')\n",
    "s5p_df = pd.concat(s5p_df)\n",
    "s5p_df = s5p_df.dropna()\n"
   ]
  },
  {
   "cell_type": "code",
   "execution_count": 50,
   "metadata": {},
   "outputs": [],
   "source": [
    "## Extract ERA5 \n",
    "\n",
    "era5_train_no2_location = str(DATA_DIR/AOIS[0])+'/rasterize_era5_no2'\n",
    "\n",
    "## We can put this function in the utility file\n",
    "def extract_era5(era5_p,no2_centroids,path):\n",
    "    era5_paths = glob.glob(str(path) + '/'+ era5_p +'/*.tif')[0:736]\n",
    "    era5_df = extract_points_from_raster(no2_centroids, era5_paths, era5_p)\n",
    "    era5_df = pd.concat(era5_df)\n",
    "    era5_df = era5_df.dropna()\n",
    "    return era5_df\n",
    "\n",
    "relative_humidity_df = extract_era5('relative_humidity', s5p_centroids, era5_train_no2_location)\n",
    "specific_rain_water_content_df = extract_era5('specific_rain_water_content', s5p_centroids, era5_train_no2_location)\n",
    "wind_u_df = extract_era5('wind_u', s5p_centroids, era5_train_no2_location)\n",
    "wind_v_df = extract_era5('wind_v', s5p_centroids, era5_train_no2_location)\n",
    "\n",
    "\n"
   ]
  },
  {
   "cell_type": "code",
   "execution_count": 52,
   "metadata": {},
   "outputs": [],
   "source": [
    "## Extract the tiff names\n",
    "\n",
    "s5p_df['raster'] = s5p_df['raster'].replace(str(s5p_train_dir) + '/filtered_NO2/','',regex=True)\n",
    "\n",
    "for era5_p, name in [(relative_humidity_df,'relative_humidity'),(specific_rain_water_content_df,'specific_rain_water_content'),(wind_u_df,'wind_u'),(wind_v_df,'wind_v')]:\n",
    "    era5_p['raster'] = era5_p['raster'].replace(str(era5_train_no2_location) + '/' + name + '/','',regex=True)"
   ]
  },
  {
   "cell_type": "code",
   "execution_count": 54,
   "metadata": {},
   "outputs": [],
   "source": [
    "### Extract the day and time of observations \n",
    "\n",
    "day_hour_df=[s5p_df,relative_humidity_df,specific_rain_water_content_df,wind_u_df,wind_v_df]\n",
    "for df in day_hour_df:\n",
    "    df['date']=np.nan\n",
    "    df['hour']=np.nan\n",
    "    df['datehour']=\"\"\n",
    "    for i in range(df.shape[0]):\n",
    "        tiff_name = df.iloc[i]['raster']\n",
    "        day, hour = tiff_name.split('_day')[-1].split('_')\n",
    "        \n",
    "        df.iat[i,df.columns.get_loc('date')] = day\n",
    "        df.iat[i,df.columns.get_loc('hour')] = hour[1:3]\n",
    "        df.iat[i,df.columns.get_loc('datehour')] = str(day)+str(hour[1:3])\n",
    "\n",
    "s5p_df = s5p_df.drop('raster', 1)\n",
    "relative_humidity_df = relative_humidity_df.drop('raster', 1)\n",
    "specific_rain_water_content_df = specific_rain_water_content_df.drop('raster', 1)\n",
    "wind_u_df = wind_u_df.drop('raster', 1)\n",
    "wind_v_df = wind_v_df.drop('raster', 1)"
   ]
  },
  {
   "cell_type": "code",
   "execution_count": 55,
   "metadata": {},
   "outputs": [],
   "source": [
    "# write to disk each data frame\n",
    "\n",
    "for df,name in [(s5p_df,'s5p_df.csv'),(relative_humidity_df,'relative_humidity_df.csv'),(specific_rain_water_content_df,'specific_rain_water_content_df.csv'),(wind_u_df,'wind_u_df.csv'),(wind_v_df,'wind_v_df.csv')]:\n",
    "    df.to_csv(str(DATA_DIR/'s5p') + '/'+name)"
   ]
  },
  {
   "cell_type": "code",
   "execution_count": 56,
   "metadata": {},
   "outputs": [],
   "source": [
    "# Inner join by time & coordinates (CAMS & ERA5)\n",
    "train_df = pd.merge(s5p_df, relative_humidity_df, on=['date','hour','lon', 'lat'], how='inner')\n",
    "train_df = pd.merge(train_df, specific_rain_water_content_df, on=['date','hour','lon', 'lat'], how='inner')\n",
    "train_df = pd.merge(train_df, wind_u_df, on=['date','hour','lon', 'lat'], how='inner')\n",
    "train_df = pd.merge(train_df, wind_v_df, on=['date','hour','lon', 'lat'], how='inner')\n",
    "\n",
    "# Inner join by coordinates\n",
    "\n",
    "if preproc:\n",
    "    train_df = pd.merge(train_df, dem_df, on=['lon', 'lat'], how='inner')\n",
    "\n",
    "    \n",
    "#write to disk\n",
    "train_df.to_csv(str(DATA_DIR/'s5p') + '/training_data_dem_era5.csv')\n",
    "\n",
    "# Read data\n",
    "train_df = pd.read_csv(str(DATA_DIR/'s5p') + '/training_data_dem_era5.csv', index_col=0)"
   ]
  },
  {
   "cell_type": "markdown",
   "metadata": {},
   "source": [
    "## Exploratory analysis"
   ]
  },
  {
   "cell_type": "markdown",
   "metadata": {},
   "source": [
    "convert unit of NO2 to molec/cm2 using the following formula: \n",
    " * NO2 [molec/cm2] = NO2 [mol/m2] * (6.02214e+19)\n",
    " * To match station's unit : NO2 [μg m-3] = NO2 [molec/cm2] * (1.0e-15 * 1.9125)"
   ]
  },
  {
   "cell_type": "code",
   "execution_count": 211,
   "metadata": {},
   "outputs": [],
   "source": [
    "train_df['molec_NO2'] = train_df['NO2'] * (6.02214e+19)\n",
    "train_df['mg_NO2'] = train_df['molec_NO2'] * (1.0e-15 * 1.9125)"
   ]
  },
  {
   "cell_type": "markdown",
   "metadata": {},
   "source": [
    "Summary statistics:"
   ]
  },
  {
   "cell_type": "code",
   "execution_count": 57,
   "metadata": {},
   "outputs": [
    {
     "data": {
      "text/html": [
       "<div>\n",
       "<style scoped>\n",
       "    .dataframe tbody tr th:only-of-type {\n",
       "        vertical-align: middle;\n",
       "    }\n",
       "\n",
       "    .dataframe tbody tr th {\n",
       "        vertical-align: top;\n",
       "    }\n",
       "\n",
       "    .dataframe thead th {\n",
       "        text-align: right;\n",
       "    }\n",
       "</style>\n",
       "<table border=\"1\" class=\"dataframe\">\n",
       "  <thead>\n",
       "    <tr style=\"text-align: right;\">\n",
       "      <th></th>\n",
       "      <th>lon</th>\n",
       "      <th>lat</th>\n",
       "      <th>NO2</th>\n",
       "      <th>date</th>\n",
       "      <th>hour</th>\n",
       "      <th>datehour_x</th>\n",
       "      <th>relative_humidity</th>\n",
       "      <th>datehour_y</th>\n",
       "      <th>specific_rain_water_content</th>\n",
       "      <th>datehour_x.1</th>\n",
       "      <th>wind_u</th>\n",
       "      <th>datehour_y.1</th>\n",
       "      <th>wind_v</th>\n",
       "      <th>datehour</th>\n",
       "      <th>DEM</th>\n",
       "    </tr>\n",
       "  </thead>\n",
       "  <tbody>\n",
       "    <tr>\n",
       "      <th>count</th>\n",
       "      <td>413710.000000</td>\n",
       "      <td>413710.000000</td>\n",
       "      <td>413710.000000</td>\n",
       "      <td>413710.000000</td>\n",
       "      <td>413710.000000</td>\n",
       "      <td>413710.000000</td>\n",
       "      <td>413710.000000</td>\n",
       "      <td>413710.000000</td>\n",
       "      <td>4.137100e+05</td>\n",
       "      <td>413710.000000</td>\n",
       "      <td>413710.000000</td>\n",
       "      <td>413710.000000</td>\n",
       "      <td>413710.000000</td>\n",
       "      <td>413710.000000</td>\n",
       "      <td>413710.000000</td>\n",
       "    </tr>\n",
       "    <tr>\n",
       "      <th>mean</th>\n",
       "      <td>29.110732</td>\n",
       "      <td>-25.659800</td>\n",
       "      <td>0.000071</td>\n",
       "      <td>2192.675667</td>\n",
       "      <td>10.734640</td>\n",
       "      <td>219278.301293</td>\n",
       "      <td>33.186195</td>\n",
       "      <td>219278.301293</td>\n",
       "      <td>2.370594e-07</td>\n",
       "      <td>219278.301293</td>\n",
       "      <td>0.696025</td>\n",
       "      <td>219278.301293</td>\n",
       "      <td>-0.938788</td>\n",
       "      <td>219278.301293</td>\n",
       "      <td>1274.802174</td>\n",
       "    </tr>\n",
       "    <tr>\n",
       "      <th>std</th>\n",
       "      <td>1.306010</td>\n",
       "      <td>1.212440</td>\n",
       "      <td>0.000109</td>\n",
       "      <td>24.968050</td>\n",
       "      <td>0.663005</td>\n",
       "      <td>2496.775597</td>\n",
       "      <td>14.667775</td>\n",
       "      <td>2496.775597</td>\n",
       "      <td>2.091818e-06</td>\n",
       "      <td>2496.775597</td>\n",
       "      <td>2.711798</td>\n",
       "      <td>2496.775597</td>\n",
       "      <td>1.963390</td>\n",
       "      <td>2496.775597</td>\n",
       "      <td>346.705090</td>\n",
       "    </tr>\n",
       "    <tr>\n",
       "      <th>min</th>\n",
       "      <td>26.850251</td>\n",
       "      <td>-27.730245</td>\n",
       "      <td>-0.000103</td>\n",
       "      <td>2141.000000</td>\n",
       "      <td>10.000000</td>\n",
       "      <td>214110.000000</td>\n",
       "      <td>4.849681</td>\n",
       "      <td>214110.000000</td>\n",
       "      <td>0.000000e+00</td>\n",
       "      <td>214110.000000</td>\n",
       "      <td>-8.830359</td>\n",
       "      <td>214110.000000</td>\n",
       "      <td>-8.717312</td>\n",
       "      <td>214110.000000</td>\n",
       "      <td>291.383420</td>\n",
       "    </tr>\n",
       "    <tr>\n",
       "      <th>25%</th>\n",
       "      <td>27.956939</td>\n",
       "      <td>-26.701299</td>\n",
       "      <td>0.000016</td>\n",
       "      <td>2175.000000</td>\n",
       "      <td>10.000000</td>\n",
       "      <td>217511.000000</td>\n",
       "      <td>21.706156</td>\n",
       "      <td>217511.000000</td>\n",
       "      <td>0.000000e+00</td>\n",
       "      <td>217511.000000</td>\n",
       "      <td>-1.276187</td>\n",
       "      <td>217511.000000</td>\n",
       "      <td>-2.028410</td>\n",
       "      <td>217511.000000</td>\n",
       "      <td>1041.983300</td>\n",
       "    </tr>\n",
       "    <tr>\n",
       "      <th>50%</th>\n",
       "      <td>29.132795</td>\n",
       "      <td>-25.672354</td>\n",
       "      <td>0.000029</td>\n",
       "      <td>2194.000000</td>\n",
       "      <td>11.000000</td>\n",
       "      <td>219410.000000</td>\n",
       "      <td>30.704949</td>\n",
       "      <td>219410.000000</td>\n",
       "      <td>0.000000e+00</td>\n",
       "      <td>219410.000000</td>\n",
       "      <td>0.399344</td>\n",
       "      <td>219410.000000</td>\n",
       "      <td>-0.805797</td>\n",
       "      <td>219410.000000</td>\n",
       "      <td>1330.821800</td>\n",
       "    </tr>\n",
       "    <tr>\n",
       "      <th>75%</th>\n",
       "      <td>30.239483</td>\n",
       "      <td>-24.643408</td>\n",
       "      <td>0.000076</td>\n",
       "      <td>2214.000000</td>\n",
       "      <td>11.000000</td>\n",
       "      <td>221410.000000</td>\n",
       "      <td>41.797574</td>\n",
       "      <td>221410.000000</td>\n",
       "      <td>0.000000e+00</td>\n",
       "      <td>221410.000000</td>\n",
       "      <td>2.547160</td>\n",
       "      <td>221410.000000</td>\n",
       "      <td>0.281409</td>\n",
       "      <td>221410.000000</td>\n",
       "      <td>1558.174000</td>\n",
       "    </tr>\n",
       "    <tr>\n",
       "      <th>max</th>\n",
       "      <td>31.346171</td>\n",
       "      <td>-23.557299</td>\n",
       "      <td>0.002418</td>\n",
       "      <td>2232.000000</td>\n",
       "      <td>12.000000</td>\n",
       "      <td>223212.000000</td>\n",
       "      <td>98.313583</td>\n",
       "      <td>223212.000000</td>\n",
       "      <td>5.917647e-05</td>\n",
       "      <td>223212.000000</td>\n",
       "      <td>9.822852</td>\n",
       "      <td>223212.000000</td>\n",
       "      <td>8.486777</td>\n",
       "      <td>223212.000000</td>\n",
       "      <td>2164.204800</td>\n",
       "    </tr>\n",
       "  </tbody>\n",
       "</table>\n",
       "</div>"
      ],
      "text/plain": [
       "                 lon            lat            NO2           date  \\\n",
       "count  413710.000000  413710.000000  413710.000000  413710.000000   \n",
       "mean       29.110732     -25.659800       0.000071    2192.675667   \n",
       "std         1.306010       1.212440       0.000109      24.968050   \n",
       "min        26.850251     -27.730245      -0.000103    2141.000000   \n",
       "25%        27.956939     -26.701299       0.000016    2175.000000   \n",
       "50%        29.132795     -25.672354       0.000029    2194.000000   \n",
       "75%        30.239483     -24.643408       0.000076    2214.000000   \n",
       "max        31.346171     -23.557299       0.002418    2232.000000   \n",
       "\n",
       "                hour     datehour_x  relative_humidity     datehour_y  \\\n",
       "count  413710.000000  413710.000000      413710.000000  413710.000000   \n",
       "mean       10.734640  219278.301293          33.186195  219278.301293   \n",
       "std         0.663005    2496.775597          14.667775    2496.775597   \n",
       "min        10.000000  214110.000000           4.849681  214110.000000   \n",
       "25%        10.000000  217511.000000          21.706156  217511.000000   \n",
       "50%        11.000000  219410.000000          30.704949  219410.000000   \n",
       "75%        11.000000  221410.000000          41.797574  221410.000000   \n",
       "max        12.000000  223212.000000          98.313583  223212.000000   \n",
       "\n",
       "       specific_rain_water_content   datehour_x.1         wind_u  \\\n",
       "count                 4.137100e+05  413710.000000  413710.000000   \n",
       "mean                  2.370594e-07  219278.301293       0.696025   \n",
       "std                   2.091818e-06    2496.775597       2.711798   \n",
       "min                   0.000000e+00  214110.000000      -8.830359   \n",
       "25%                   0.000000e+00  217511.000000      -1.276187   \n",
       "50%                   0.000000e+00  219410.000000       0.399344   \n",
       "75%                   0.000000e+00  221410.000000       2.547160   \n",
       "max                   5.917647e-05  223212.000000       9.822852   \n",
       "\n",
       "        datehour_y.1         wind_v       datehour            DEM  \n",
       "count  413710.000000  413710.000000  413710.000000  413710.000000  \n",
       "mean   219278.301293      -0.938788  219278.301293    1274.802174  \n",
       "std      2496.775597       1.963390    2496.775597     346.705090  \n",
       "min    214110.000000      -8.717312  214110.000000     291.383420  \n",
       "25%    217511.000000      -2.028410  217511.000000    1041.983300  \n",
       "50%    219410.000000      -0.805797  219410.000000    1330.821800  \n",
       "75%    221410.000000       0.281409  221410.000000    1558.174000  \n",
       "max    223212.000000       8.486777  223212.000000    2164.204800  "
      ]
     },
     "execution_count": 57,
     "metadata": {},
     "output_type": "execute_result"
    }
   ],
   "source": [
    "train_df.describe()"
   ]
  },
  {
   "cell_type": "markdown",
   "metadata": {},
   "source": [
    "Association of NO2 with DEM:"
   ]
  },
  {
   "cell_type": "code",
   "execution_count": 58,
   "metadata": {},
   "outputs": [
    {
     "data": {
      "image/png": "[encoded data removed]",
      "text/plain": [
       "<Figure size 432x288 with 1 Axes>"
      ]
     },
     "metadata": {
      "needs_background": "light"
     },
     "output_type": "display_data"
    }
   ],
   "source": [
    "ax1 = train_df.plot.scatter(x='DEM', y='NO2', c='DarkBlue')"
   ]
  },
  {
   "cell_type": "markdown",
   "metadata": {},
   "source": [
    "Association of NO2 with lon:"
   ]
  },
  {
   "cell_type": "code",
   "execution_count": 59,
   "metadata": {},
   "outputs": [
    {
     "data": {
      "image/png": "[encoded data removed]",
      "text/plain": [
       "<Figure size 432x288 with 1 Axes>"
      ]
     },
     "metadata": {
      "needs_background": "light"
     },
     "output_type": "display_data"
    }
   ],
   "source": [
    "ax2 = train_df.plot.scatter(x='lon', y='NO2', c='DarkBlue')"
   ]
  },
  {
   "cell_type": "markdown",
   "metadata": {},
   "source": [
    "Association of NO2 with lat:"
   ]
  },
  {
   "cell_type": "code",
   "execution_count": 60,
   "metadata": {},
   "outputs": [
    {
     "data": {
      "image/png": "[encoded data removed]",
      "text/plain": [
       "<Figure size 432x288 with 1 Axes>"
      ]
     },
     "metadata": {
      "needs_background": "light"
     },
     "output_type": "display_data"
    }
   ],
   "source": [
    "ax3 = train_df.plot.scatter(x='lat', y='NO2', c='DarkBlue')"
   ]
  },
  {
   "cell_type": "markdown",
   "metadata": {},
   "source": [
    "Association of NO2 with hour:"
   ]
  },
  {
   "cell_type": "code",
   "execution_count": 61,
   "metadata": {},
   "outputs": [
    {
     "data": {
      "image/png": "[encoded data removed]",
      "text/plain": [
       "<Figure size 432x288 with 1 Axes>"
      ]
     },
     "metadata": {
      "needs_background": "light"
     },
     "output_type": "display_data"
    }
   ],
   "source": [
    "ax4 = train_df.plot.scatter(x='hour', y='NO2', c='DarkBlue')"
   ]
  },
  {
   "cell_type": "markdown",
   "metadata": {},
   "source": [
    "Association of NO2 with date:"
   ]
  },
  {
   "cell_type": "code",
   "execution_count": 62,
   "metadata": {},
   "outputs": [
    {
     "data": {
      "image/png": "[encoded data removed]",
      "text/plain": [
       "<Figure size 432x288 with 1 Axes>"
      ]
     },
     "metadata": {
      "needs_background": "light"
     },
     "output_type": "display_data"
    }
   ],
   "source": [
    "ax5 = train_df.plot.scatter(x='date', y='NO2', c='DarkBlue')"
   ]
  },
  {
   "cell_type": "markdown",
   "metadata": {},
   "source": [
    "Association of NO2 with relative_humidity:"
   ]
  },
  {
   "cell_type": "code",
   "execution_count": 64,
   "metadata": {},
   "outputs": [
    {
     "data": {
      "image/png": "[encoded data removed]",
      "text/plain": [
       "<Figure size 432x288 with 1 Axes>"
      ]
     },
     "metadata": {
      "needs_background": "light"
     },
     "output_type": "display_data"
    }
   ],
   "source": [
    "ax6 = train_df.plot.scatter(x='relative_humidity', y='NO2', c='DarkBlue')"
   ]
  },
  {
   "cell_type": "markdown",
   "metadata": {},
   "source": [
    "Association of NO2 with specific_rain_water_content:"
   ]
  },
  {
   "cell_type": "code",
   "execution_count": 65,
   "metadata": {},
   "outputs": [
    {
     "data": {
      "image/png": "[encoded data removed]",
      "text/plain": [
       "<Figure size 432x288 with 1 Axes>"
      ]
     },
     "metadata": {
      "needs_background": "light"
     },
     "output_type": "display_data"
    }
   ],
   "source": [
    "ax7 = train_df.plot.scatter(x='specific_rain_water_content', y='NO2', c='DarkBlue')"
   ]
  },
  {
   "cell_type": "markdown",
   "metadata": {},
   "source": [
    "Association of NO2 with wind_u:"
   ]
  },
  {
   "cell_type": "code",
   "execution_count": 66,
   "metadata": {},
   "outputs": [
    {
     "data": {
      "image/png": "[encoded data removed]",
      "text/plain": [
       "<Figure size 432x288 with 1 Axes>"
      ]
     },
     "metadata": {
      "needs_background": "light"
     },
     "output_type": "display_data"
    }
   ],
   "source": [
    "ax8 = train_df.plot.scatter(x='wind_u', y='NO2', c='DarkBlue')"
   ]
  },
  {
   "cell_type": "markdown",
   "metadata": {},
   "source": [
    "Association of NO2 with wind_v:"
   ]
  },
  {
   "cell_type": "code",
   "execution_count": 67,
   "metadata": {},
   "outputs": [
    {
     "data": {
      "image/png": "[encoded data removed]",
      "text/plain": [
       "<Figure size 432x288 with 1 Axes>"
      ]
     },
     "metadata": {
      "needs_background": "light"
     },
     "output_type": "display_data"
    }
   ],
   "source": [
    "ax9 = train_df.plot.scatter(x='wind_v', y='NO2', c='DarkBlue')"
   ]
  },
  {
   "cell_type": "code",
   "execution_count": 26,
   "metadata": {},
   "outputs": [
    {
     "data": {
      "text/html": [
       "<div>\n",
       "<style scoped>\n",
       "    .dataframe tbody tr th:only-of-type {\n",
       "        vertical-align: middle;\n",
       "    }\n",
       "\n",
       "    .dataframe tbody tr th {\n",
       "        vertical-align: top;\n",
       "    }\n",
       "\n",
       "    .dataframe thead th {\n",
       "        text-align: right;\n",
       "    }\n",
       "</style>\n",
       "<table border=\"1\" class=\"dataframe\">\n",
       "  <thead>\n",
       "    <tr style=\"text-align: right;\">\n",
       "      <th></th>\n",
       "      <th>lon</th>\n",
       "      <th>lat</th>\n",
       "      <th>NO2</th>\n",
       "      <th>date</th>\n",
       "      <th>hour</th>\n",
       "      <th>datehour_x</th>\n",
       "      <th>relative_humidity</th>\n",
       "      <th>datehour_y</th>\n",
       "      <th>specific_rain_water_content</th>\n",
       "      <th>datehour_x.1</th>\n",
       "      <th>wind_u</th>\n",
       "      <th>datehour_y.1</th>\n",
       "      <th>wind_v</th>\n",
       "      <th>datehour</th>\n",
       "      <th>DEM</th>\n",
       "    </tr>\n",
       "  </thead>\n",
       "  <tbody>\n",
       "    <tr>\n",
       "      <th>0</th>\n",
       "      <td>26.850251</td>\n",
       "      <td>-24.872063</td>\n",
       "      <td>-4.947097e-08</td>\n",
       "      <td>2141.0</td>\n",
       "      <td>10.0</td>\n",
       "      <td>214110</td>\n",
       "      <td>61.785375</td>\n",
       "      <td>214110</td>\n",
       "      <td>0.0</td>\n",
       "      <td>214110</td>\n",
       "      <td>0.940949</td>\n",
       "      <td>214110</td>\n",
       "      <td>0.151119</td>\n",
       "      <td>214110</td>\n",
       "      <td>1228.28080</td>\n",
       "    </tr>\n",
       "    <tr>\n",
       "      <th>1</th>\n",
       "      <td>26.850251</td>\n",
       "      <td>-24.872063</td>\n",
       "      <td>-7.892779e-06</td>\n",
       "      <td>2141.0</td>\n",
       "      <td>12.0</td>\n",
       "      <td>214112</td>\n",
       "      <td>37.862161</td>\n",
       "      <td>214112</td>\n",
       "      <td>0.0</td>\n",
       "      <td>214112</td>\n",
       "      <td>2.465065</td>\n",
       "      <td>214112</td>\n",
       "      <td>-0.079335</td>\n",
       "      <td>214112</td>\n",
       "      <td>1228.28080</td>\n",
       "    </tr>\n",
       "    <tr>\n",
       "      <th>2</th>\n",
       "      <td>26.850251</td>\n",
       "      <td>-24.872063</td>\n",
       "      <td>1.724746e-05</td>\n",
       "      <td>2143.0</td>\n",
       "      <td>11.0</td>\n",
       "      <td>214311</td>\n",
       "      <td>32.675694</td>\n",
       "      <td>214311</td>\n",
       "      <td>0.0</td>\n",
       "      <td>214311</td>\n",
       "      <td>0.919201</td>\n",
       "      <td>214311</td>\n",
       "      <td>-0.718175</td>\n",
       "      <td>214311</td>\n",
       "      <td>1228.28080</td>\n",
       "    </tr>\n",
       "    <tr>\n",
       "      <th>3</th>\n",
       "      <td>26.850251</td>\n",
       "      <td>-24.872063</td>\n",
       "      <td>4.811389e-06</td>\n",
       "      <td>2146.0</td>\n",
       "      <td>12.0</td>\n",
       "      <td>214612</td>\n",
       "      <td>39.504549</td>\n",
       "      <td>214612</td>\n",
       "      <td>0.0</td>\n",
       "      <td>214612</td>\n",
       "      <td>0.516298</td>\n",
       "      <td>214612</td>\n",
       "      <td>0.168391</td>\n",
       "      <td>214612</td>\n",
       "      <td>1228.28080</td>\n",
       "    </tr>\n",
       "    <tr>\n",
       "      <th>4</th>\n",
       "      <td>26.850251</td>\n",
       "      <td>-24.872063</td>\n",
       "      <td>3.154637e-05</td>\n",
       "      <td>2148.0</td>\n",
       "      <td>11.0</td>\n",
       "      <td>214811</td>\n",
       "      <td>21.525312</td>\n",
       "      <td>214811</td>\n",
       "      <td>0.0</td>\n",
       "      <td>214811</td>\n",
       "      <td>-1.235898</td>\n",
       "      <td>214811</td>\n",
       "      <td>1.103508</td>\n",
       "      <td>214811</td>\n",
       "      <td>1228.28080</td>\n",
       "    </tr>\n",
       "    <tr>\n",
       "      <th>...</th>\n",
       "      <td>...</td>\n",
       "      <td>...</td>\n",
       "      <td>...</td>\n",
       "      <td>...</td>\n",
       "      <td>...</td>\n",
       "      <td>...</td>\n",
       "      <td>...</td>\n",
       "      <td>...</td>\n",
       "      <td>...</td>\n",
       "      <td>...</td>\n",
       "      <td>...</td>\n",
       "      <td>...</td>\n",
       "      <td>...</td>\n",
       "      <td>...</td>\n",
       "      <td>...</td>\n",
       "    </tr>\n",
       "    <tr>\n",
       "      <th>413705</th>\n",
       "      <td>26.919419</td>\n",
       "      <td>-23.900281</td>\n",
       "      <td>1.604731e-05</td>\n",
       "      <td>2221.0</td>\n",
       "      <td>10.0</td>\n",
       "      <td>222110</td>\n",
       "      <td>33.347773</td>\n",
       "      <td>222110</td>\n",
       "      <td>0.0</td>\n",
       "      <td>222110</td>\n",
       "      <td>-1.182237</td>\n",
       "      <td>222110</td>\n",
       "      <td>-3.016625</td>\n",
       "      <td>222110</td>\n",
       "      <td>865.39264</td>\n",
       "    </tr>\n",
       "    <tr>\n",
       "      <th>413706</th>\n",
       "      <td>26.919419</td>\n",
       "      <td>-23.900281</td>\n",
       "      <td>2.576492e-05</td>\n",
       "      <td>2227.0</td>\n",
       "      <td>11.0</td>\n",
       "      <td>222711</td>\n",
       "      <td>20.591429</td>\n",
       "      <td>222711</td>\n",
       "      <td>0.0</td>\n",
       "      <td>222711</td>\n",
       "      <td>1.349910</td>\n",
       "      <td>222711</td>\n",
       "      <td>-1.313755</td>\n",
       "      <td>222711</td>\n",
       "      <td>865.39264</td>\n",
       "    </tr>\n",
       "    <tr>\n",
       "      <th>413707</th>\n",
       "      <td>26.919419</td>\n",
       "      <td>-23.900281</td>\n",
       "      <td>2.234441e-04</td>\n",
       "      <td>2229.0</td>\n",
       "      <td>11.0</td>\n",
       "      <td>222911</td>\n",
       "      <td>34.526971</td>\n",
       "      <td>222911</td>\n",
       "      <td>0.0</td>\n",
       "      <td>222911</td>\n",
       "      <td>-1.360872</td>\n",
       "      <td>222911</td>\n",
       "      <td>-1.806019</td>\n",
       "      <td>222911</td>\n",
       "      <td>865.39264</td>\n",
       "    </tr>\n",
       "    <tr>\n",
       "      <th>413708</th>\n",
       "      <td>26.919419</td>\n",
       "      <td>-23.900281</td>\n",
       "      <td>1.898115e-05</td>\n",
       "      <td>2232.0</td>\n",
       "      <td>12.0</td>\n",
       "      <td>223212</td>\n",
       "      <td>14.935134</td>\n",
       "      <td>223212</td>\n",
       "      <td>0.0</td>\n",
       "      <td>223212</td>\n",
       "      <td>-3.353719</td>\n",
       "      <td>223212</td>\n",
       "      <td>-3.191397</td>\n",
       "      <td>223212</td>\n",
       "      <td>865.39264</td>\n",
       "    </tr>\n",
       "    <tr>\n",
       "      <th>413709</th>\n",
       "      <td>27.265259</td>\n",
       "      <td>-27.730245</td>\n",
       "      <td>1.039229e-05</td>\n",
       "      <td>2213.0</td>\n",
       "      <td>11.0</td>\n",
       "      <td>221311</td>\n",
       "      <td>21.037033</td>\n",
       "      <td>221311</td>\n",
       "      <td>0.0</td>\n",
       "      <td>221311</td>\n",
       "      <td>2.698154</td>\n",
       "      <td>221311</td>\n",
       "      <td>-3.499090</td>\n",
       "      <td>221311</td>\n",
       "      <td>1386.56600</td>\n",
       "    </tr>\n",
       "  </tbody>\n",
       "</table>\n",
       "<p>413710 rows × 15 columns</p>\n",
       "</div>"
      ],
      "text/plain": [
       "              lon        lat           NO2    date  hour  datehour_x  \\\n",
       "0       26.850251 -24.872063 -4.947097e-08  2141.0  10.0      214110   \n",
       "1       26.850251 -24.872063 -7.892779e-06  2141.0  12.0      214112   \n",
       "2       26.850251 -24.872063  1.724746e-05  2143.0  11.0      214311   \n",
       "3       26.850251 -24.872063  4.811389e-06  2146.0  12.0      214612   \n",
       "4       26.850251 -24.872063  3.154637e-05  2148.0  11.0      214811   \n",
       "...           ...        ...           ...     ...   ...         ...   \n",
       "413705  26.919419 -23.900281  1.604731e-05  2221.0  10.0      222110   \n",
       "413706  26.919419 -23.900281  2.576492e-05  2227.0  11.0      222711   \n",
       "413707  26.919419 -23.900281  2.234441e-04  2229.0  11.0      222911   \n",
       "413708  26.919419 -23.900281  1.898115e-05  2232.0  12.0      223212   \n",
       "413709  27.265259 -27.730245  1.039229e-05  2213.0  11.0      221311   \n",
       "\n",
       "        relative_humidity  datehour_y  specific_rain_water_content  \\\n",
       "0               61.785375      214110                          0.0   \n",
       "1               37.862161      214112                          0.0   \n",
       "2               32.675694      214311                          0.0   \n",
       "3               39.504549      214612                          0.0   \n",
       "4               21.525312      214811                          0.0   \n",
       "...                   ...         ...                          ...   \n",
       "413705          33.347773      222110                          0.0   \n",
       "413706          20.591429      222711                          0.0   \n",
       "413707          34.526971      222911                          0.0   \n",
       "413708          14.935134      223212                          0.0   \n",
       "413709          21.037033      221311                          0.0   \n",
       "\n",
       "        datehour_x.1    wind_u  datehour_y.1    wind_v  datehour         DEM  \n",
       "0             214110  0.940949        214110  0.151119    214110  1228.28080  \n",
       "1             214112  2.465065        214112 -0.079335    214112  1228.28080  \n",
       "2             214311  0.919201        214311 -0.718175    214311  1228.28080  \n",
       "3             214612  0.516298        214612  0.168391    214612  1228.28080  \n",
       "4             214811 -1.235898        214811  1.103508    214811  1228.28080  \n",
       "...              ...       ...           ...       ...       ...         ...  \n",
       "413705        222110 -1.182237        222110 -3.016625    222110   865.39264  \n",
       "413706        222711  1.349910        222711 -1.313755    222711   865.39264  \n",
       "413707        222911 -1.360872        222911 -1.806019    222911   865.39264  \n",
       "413708        223212 -3.353719        223212 -3.191397    223212   865.39264  \n",
       "413709        221311  2.698154        221311 -3.499090    221311  1386.56600  \n",
       "\n",
       "[413710 rows x 15 columns]"
      ]
     },
     "execution_count": 26,
     "metadata": {},
     "output_type": "execute_result"
    }
   ],
   "source": [
    "train_df"
   ]
  },
  {
   "cell_type": "markdown",
   "metadata": {},
   "source": [
    "Rank correlation between predictors"
   ]
  },
  {
   "cell_type": "code",
   "execution_count": 69,
   "metadata": {},
   "outputs": [
    {
     "data": {
      "text/html": [
       "<div>\n",
       "<style scoped>\n",
       "    .dataframe tbody tr th:only-of-type {\n",
       "        vertical-align: middle;\n",
       "    }\n",
       "\n",
       "    .dataframe tbody tr th {\n",
       "        vertical-align: top;\n",
       "    }\n",
       "\n",
       "    .dataframe thead th {\n",
       "        text-align: right;\n",
       "    }\n",
       "</style>\n",
       "<table border=\"1\" class=\"dataframe\">\n",
       "  <thead>\n",
       "    <tr style=\"text-align: right;\">\n",
       "      <th></th>\n",
       "      <th>lon</th>\n",
       "      <th>lat</th>\n",
       "      <th>NO2</th>\n",
       "      <th>hour</th>\n",
       "      <th>relative_humidity</th>\n",
       "      <th>specific_rain_water_content</th>\n",
       "      <th>wind_u</th>\n",
       "      <th>wind_v</th>\n",
       "      <th>DEM</th>\n",
       "    </tr>\n",
       "  </thead>\n",
       "  <tbody>\n",
       "    <tr>\n",
       "      <th>lon</th>\n",
       "      <td>1.00</td>\n",
       "      <td>0.00</td>\n",
       "      <td>-0.02</td>\n",
       "      <td>-0.13</td>\n",
       "      <td>0.19</td>\n",
       "      <td>0.14</td>\n",
       "      <td>-0.12</td>\n",
       "      <td>0.13</td>\n",
       "      <td>-0.13</td>\n",
       "    </tr>\n",
       "    <tr>\n",
       "      <th>lat</th>\n",
       "      <td>0.00</td>\n",
       "      <td>1.00</td>\n",
       "      <td>-0.32</td>\n",
       "      <td>-0.04</td>\n",
       "      <td>0.12</td>\n",
       "      <td>-0.03</td>\n",
       "      <td>-0.32</td>\n",
       "      <td>-0.02</td>\n",
       "      <td>-0.61</td>\n",
       "    </tr>\n",
       "    <tr>\n",
       "      <th>NO2</th>\n",
       "      <td>-0.02</td>\n",
       "      <td>-0.32</td>\n",
       "      <td>1.00</td>\n",
       "      <td>-0.00</td>\n",
       "      <td>-0.23</td>\n",
       "      <td>-0.06</td>\n",
       "      <td>0.11</td>\n",
       "      <td>0.01</td>\n",
       "      <td>0.29</td>\n",
       "    </tr>\n",
       "    <tr>\n",
       "      <th>hour</th>\n",
       "      <td>-0.13</td>\n",
       "      <td>-0.04</td>\n",
       "      <td>-0.00</td>\n",
       "      <td>1.00</td>\n",
       "      <td>-0.24</td>\n",
       "      <td>-0.03</td>\n",
       "      <td>0.04</td>\n",
       "      <td>-0.01</td>\n",
       "      <td>0.04</td>\n",
       "    </tr>\n",
       "    <tr>\n",
       "      <th>relative_humidity</th>\n",
       "      <td>0.19</td>\n",
       "      <td>0.12</td>\n",
       "      <td>-0.23</td>\n",
       "      <td>-0.24</td>\n",
       "      <td>1.00</td>\n",
       "      <td>0.42</td>\n",
       "      <td>-0.44</td>\n",
       "      <td>-0.02</td>\n",
       "      <td>-0.18</td>\n",
       "    </tr>\n",
       "    <tr>\n",
       "      <th>specific_rain_water_content</th>\n",
       "      <td>0.14</td>\n",
       "      <td>-0.03</td>\n",
       "      <td>-0.06</td>\n",
       "      <td>-0.03</td>\n",
       "      <td>0.42</td>\n",
       "      <td>1.00</td>\n",
       "      <td>-0.17</td>\n",
       "      <td>0.02</td>\n",
       "      <td>0.01</td>\n",
       "    </tr>\n",
       "    <tr>\n",
       "      <th>wind_u</th>\n",
       "      <td>-0.12</td>\n",
       "      <td>-0.32</td>\n",
       "      <td>0.11</td>\n",
       "      <td>0.04</td>\n",
       "      <td>-0.44</td>\n",
       "      <td>-0.17</td>\n",
       "      <td>1.00</td>\n",
       "      <td>-0.16</td>\n",
       "      <td>0.33</td>\n",
       "    </tr>\n",
       "    <tr>\n",
       "      <th>wind_v</th>\n",
       "      <td>0.13</td>\n",
       "      <td>-0.02</td>\n",
       "      <td>0.01</td>\n",
       "      <td>-0.01</td>\n",
       "      <td>-0.02</td>\n",
       "      <td>0.02</td>\n",
       "      <td>-0.16</td>\n",
       "      <td>1.00</td>\n",
       "      <td>-0.01</td>\n",
       "    </tr>\n",
       "    <tr>\n",
       "      <th>DEM</th>\n",
       "      <td>-0.13</td>\n",
       "      <td>-0.61</td>\n",
       "      <td>0.29</td>\n",
       "      <td>0.04</td>\n",
       "      <td>-0.18</td>\n",
       "      <td>0.01</td>\n",
       "      <td>0.33</td>\n",
       "      <td>-0.01</td>\n",
       "      <td>1.00</td>\n",
       "    </tr>\n",
       "  </tbody>\n",
       "</table>\n",
       "</div>"
      ],
      "text/plain": [
       "                              lon   lat   NO2  hour  relative_humidity  \\\n",
       "lon                          1.00  0.00 -0.02 -0.13               0.19   \n",
       "lat                          0.00  1.00 -0.32 -0.04               0.12   \n",
       "NO2                         -0.02 -0.32  1.00 -0.00              -0.23   \n",
       "hour                        -0.13 -0.04 -0.00  1.00              -0.24   \n",
       "relative_humidity            0.19  0.12 -0.23 -0.24               1.00   \n",
       "specific_rain_water_content  0.14 -0.03 -0.06 -0.03               0.42   \n",
       "wind_u                      -0.12 -0.32  0.11  0.04              -0.44   \n",
       "wind_v                       0.13 -0.02  0.01 -0.01              -0.02   \n",
       "DEM                         -0.13 -0.61  0.29  0.04              -0.18   \n",
       "\n",
       "                             specific_rain_water_content  wind_u  wind_v   DEM  \n",
       "lon                                                 0.14   -0.12    0.13 -0.13  \n",
       "lat                                                -0.03   -0.32   -0.02 -0.61  \n",
       "NO2                                                -0.06    0.11    0.01  0.29  \n",
       "hour                                               -0.03    0.04   -0.01  0.04  \n",
       "relative_humidity                                   0.42   -0.44   -0.02 -0.18  \n",
       "specific_rain_water_content                         1.00   -0.17    0.02  0.01  \n",
       "wind_u                                             -0.17    1.00   -0.16  0.33  \n",
       "wind_v                                              0.02   -0.16    1.00 -0.01  \n",
       "DEM                                                 0.01    0.33   -0.01  1.00  "
      ]
     },
     "execution_count": 69,
     "metadata": {},
     "output_type": "execute_result"
    }
   ],
   "source": [
    "# calculate the correlation matrix\n",
    "corr = train_df.drop(['date','datehour','datehour_x','datehour_y','datehour_x.1','datehour_y.1'], axis=1).corr(method='spearman')\n",
    "round(corr, 2)"
   ]
  },
  {
   "cell_type": "markdown",
   "metadata": {},
   "source": [
    "## Modelling"
   ]
  },
  {
   "cell_type": "markdown",
   "metadata": {},
   "source": [
    "Very simple RF model as a starting point. WARNING! MODELS STILL NEED TO BE TUNED!!"
   ]
  },
  {
   "cell_type": "code",
   "execution_count": 27,
   "metadata": {},
   "outputs": [],
   "source": [
    "# X and Y parts\n",
    "train_X = np.array(train_df.drop(['date','datehour','datehour_x','datehour_y','datehour_x.1','datehour_y.1','NO2'], axis=1))\n",
    "train_y = np.array(train_df['NO2'])"
   ]
  },
  {
   "cell_type": "code",
   "execution_count": 28,
   "metadata": {},
   "outputs": [],
   "source": [
    "# Random Forest Regression.\n",
    "rf = RandomForestRegressor(n_estimators = 100) # Let's make it quick for now\n",
    "# Train the model on training data\n",
    "rf.fit(train_X, train_y)\n",
    "pred_y = rf.predict(train_X)"
   ]
  },
  {
   "cell_type": "code",
   "execution_count": 72,
   "metadata": {},
   "outputs": [
    {
     "name": "stdout",
     "output_type": "stream",
     "text": [
      "Variable: lat                  Importance: 0.22\n",
      "Variable: lon                  Importance: 0.2\n",
      "Variable: wind_u               Importance: 0.19\n",
      "Variable: relative_humidity    Importance: 0.16\n",
      "Variable: wind_v               Importance: 0.15\n",
      "Variable: hour                 Importance: 0.04\n",
      "Variable: DEM                  Importance: 0.04\n",
      "Variable: specific_rain_water_content Importance: 0.0\n"
     ]
    }
   ],
   "source": [
    "# Get numerical feature importances\n",
    "importances = list(rf.feature_importances_)\n",
    "# List of tuples with variable and importance\n",
    "feature_list = list(train_df.drop(['date','datehour','datehour_x','datehour_y','datehour_x.1','datehour_y.1','NO2'], axis=1).columns)\n",
    "feature_importances = [(feature, round(importance, 2)) for feature, importance in zip(feature_list, importances)]\n",
    "# Sort the feature importances by most important first\n",
    "feature_importances = sorted(feature_importances, key = lambda x: x[1], reverse = True)\n",
    "# Print out the feature and importances \n",
    "[print('Variable: {:20} Importance: {}'.format(*pair)) for pair in feature_importances];"
   ]
  },
  {
   "cell_type": "markdown",
   "metadata": {},
   "source": [
    "Resubsitution error:"
   ]
  },
  {
   "cell_type": "code",
   "execution_count": 73,
   "metadata": {},
   "outputs": [
    {
     "name": "stdout",
     "output_type": "stream",
     "text": [
      "Resubstitution MAE: 0.0\n",
      "Resubstitution RMSE: 0.0\n",
      "Resubstitution R2: 0.987\n"
     ]
    },
    {
     "data": {
      "image/png": "[encoded data removed]",
      "text/plain": [
       "<Figure size 432x288 with 1 Axes>"
      ]
     },
     "metadata": {
      "needs_background": "light"
     },
     "output_type": "display_data"
    }
   ],
   "source": [
    "# Resubstitution error\n",
    "print('Resubstitution MAE:', round(metrics.mean_absolute_error(train_y, pred_y), 2))\n",
    "print('Resubstitution RMSE:', round(np.sqrt(metrics.mean_squared_error(train_y, pred_y)), 2))\n",
    "print('Resubstitution R2:', round(metrics.r2_score(train_y, pred_y), 3))\n",
    "\n",
    "fig, ax = plt.subplots()\n",
    "ax.scatter(train_y, pred_y, color='black', alpha=0.1)\n",
    "lims = [\n",
    "    np.min([ax.get_xlim(), ax.get_ylim()]),  # min of both axes\n",
    "    np.max([ax.get_xlim(), ax.get_ylim()]),  # max of both axes\n",
    "]\n",
    "ax.plot(lims, lims, 'k-', alpha=0.75, zorder=0)\n",
    "ax.set_aspect('equal')\n",
    "ax.set_xlim(lims)\n",
    "ax.set_ylim(lims)\n",
    "plt.xlabel(\"observed\")\n",
    "plt.ylabel(\"predicted\")\n",
    "plt.show()"
   ]
  },
  {
   "cell_type": "markdown",
   "metadata": {},
   "source": [
    "Cross-validated error:\n"
   ]
  },
  {
   "cell_type": "code",
   "execution_count": 219,
   "metadata": {},
   "outputs": [],
   "source": [
    "# Cross-validated error (each daytime in a separate fold to emulate a new observation)\n",
    "groups = np.array(train_df['datehour'])\n",
    "group_kfold = GroupKFold(n_splits=10)\n",
    "group_kfold.get_n_splits(train_X, train_y, groups)\n",
    "\n",
    "alltest_CV = np.empty((0,1), float)\n",
    "allpreds_CV = np.empty((0,1), float)\n",
    "allindx_CV = np.empty((0,1), float)\n",
    "\n",
    "MAE_CV=[]\n",
    "RMSE_CV=[]\n",
    "R2_CV=[]\n",
    "for train_index, test_index in group_kfold.split(train_X, train_y, groups):\n",
    "    train_X_CV, test_X_CV = train_X[train_index], train_X[test_index]\n",
    "    train_y_CV, test_y_CV = train_y[train_index], train_y[test_index]\n",
    "    rf.fit(train_X_CV, train_y_CV)\n",
    "    pred_y_CV = rf.predict(test_X_CV)\n",
    "    alltest_CV = np.append(alltest_CV, test_y_CV)\n",
    "    allpreds_CV = np.append(allpreds_CV, pred_y_CV)\n",
    "    allindx_CV =  np.append(allindx_CV, train_index)\n",
    "    MAE_CV.append(round(metrics.mean_absolute_error(test_y_CV, pred_y_CV), 2))\n",
    "    RMSE_CV.append(round(np.sqrt(metrics.mean_squared_error(test_y_CV, pred_y_CV)), 2))\n",
    "    R2_CV.append(round(metrics.r2_score(test_y_CV, pred_y_CV), 3))"
   ]
  },
  {
   "cell_type": "code",
   "execution_count": 47,
   "metadata": {},
   "outputs": [
    {
     "name": "stdout",
     "output_type": "stream",
     "text": [
      "CV MAE: 0.0\n",
      "CV RMSE: 0.0\n",
      "CV R2: 0.32\n"
     ]
    },
    {
     "data": {
      "image/png": "[encoded data removed]",
      "text/plain": [
       "<Figure size 432x288 with 1 Axes>"
      ]
     },
     "metadata": {
      "needs_background": "light"
     },
     "output_type": "display_data"
    }
   ],
   "source": [
    "# Metrics\n",
    "print('CV MAE:', round(statistics.mean(MAE_CV), 2))\n",
    "print('CV RMSE:', round(statistics.mean(RMSE_CV), 2))\n",
    "print('CV R2:', round(statistics.mean(R2_CV), 2))\n",
    "\n",
    "fig, ax = plt.subplots()\n",
    "ax.scatter(alltest_CV, allpreds_CV, color='black', alpha=0.1)\n",
    "lims = [\n",
    "    np.min([ax.get_xlim(), ax.get_ylim()]),  # min of both axes\n",
    "    np.max([ax.get_xlim(), ax.get_ylim()]),  # max of both axes\n",
    "]\n",
    "ax.plot(lims, lims, 'k-', alpha=0.75, zorder=0)\n",
    "ax.set_aspect('equal')\n",
    "ax.set_xlim(lims)\n",
    "ax.set_ylim(lims)\n",
    "plt.xlabel(\"observed\")\n",
    "plt.ylabel(\"predicted\")\n",
    "plt.show()"
   ]
  }
 ],
 "metadata": {
  "kernelspec": {
   "display_name": "Python 3",
   "language": "python",
   "name": "python3"
  },
  "language_info": {
   "codemirror_mode": {
    "name": "ipython",
    "version": 3
   },
   "file_extension": ".py",
   "mimetype": "text/x-python",
   "name": "python",
   "nbconvert_exporter": "python",
   "pygments_lexer": "ipython3",
   "version": "3.6.9"
  }
 },
 "nbformat": 4,
 "nbformat_minor": 4
}
