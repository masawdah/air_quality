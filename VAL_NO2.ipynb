{
 "cells": [
  {
   "cell_type": "markdown",
   "metadata": {},
   "source": [
    "# South Africa"
   ]
  },
  {
   "cell_type": "markdown",
   "metadata": {},
   "source": [
    "S5P NO2: Original resolution: 7km x 7km. Improved resolution: 1km x 1km.\n",
    "\n",
    "Predictors used at the moment:\n",
    "* DEM"
   ]
  },
  {
   "cell_type": "code",
   "execution_count": 1,
   "metadata": {},
   "outputs": [],
   "source": [
    "# Built-in modules\n",
    "import os\n",
    "import gzip\n",
    "import shutil\n",
    "from pathlib import Path\n",
    "from datetime import datetime, timedelta\n",
    "import glob\n",
    "import re\n",
    "import warnings\n",
    "from collections import defaultdict\n",
    "\n",
    "# Basics of Python data handling and visualization\n",
    "import fs\n",
    "import numpy as np\n",
    "import pandas as pd\n",
    "import geopandas as gpd\n",
    "import matplotlib.pyplot as plt\n",
    "from matplotlib.colors import ListedColormap\n",
    "from tqdm.auto import tqdm\n",
    "from shapely import wkt\n",
    "import rasterio as rio\n",
    "from shapely import geometry\n",
    "from rasterstats import zonal_stats\n",
    "import seaborn as sns\n",
    "\n",
    "# Modelling\n",
    "from sklearn.ensemble import RandomForestRegressor\n",
    "from sklearn import metrics\n",
    "from sklearn.model_selection import cross_validate, GroupKFold\n",
    "import statistics \n",
    "\n",
    "# Imports from eo-learn and sentinelhub-py\n",
    "from eolearn.core import EOPatch, EOTask, LinearWorkflow, FeatureType, AddFeature, MapFeatureTask, MergeFeatureTask, RemoveFeature,LoadTask, SaveTask, OverwritePermission\n",
    "from sentinelhub import bbox_to_dimensions, bbox_to_resolution\n",
    "from eolearn.io import ExportToTiff\n",
    "\n",
    "# Visualisation utils\n",
    "from utils import (get_extent, \n",
    "                   draw_outline, \n",
    "                   draw_bbox, \n",
    "                   draw_feature, \n",
    "                   draw_true_color,\n",
    "                   unzip_file,\n",
    "                   load_tiffs,\n",
    "                   load_list_tiffs,\n",
    "                   days_to_datetimes,\n",
    "                   datetimes_to_days,\n",
    "                   reproject_tiff,\n",
    "                   upscale_tiff,\n",
    "                   mask_tiff)# South Africa\n",
    "\n",
    "from utils_carles import polygrid, export_geotiff, percs_landuse, upscale_mean_tiff, extract_points_from_raster"
   ]
  },
  {
   "cell_type": "code",
   "execution_count": 2,
   "metadata": {},
   "outputs": [],
   "source": [
    "DATA_DIR = Path('training_dataset_south_africa')\n",
    "AOIS = ['South_Africa']"
   ]
  },
  {
   "cell_type": "code",
   "execution_count": 3,
   "metadata": {},
   "outputs": [],
   "source": [
    "OFFSET = 2100\n",
    "NO_DATA_VALUE = -9999.0"
   ]
  },
  {
   "cell_type": "code",
   "execution_count": 4,
   "metadata": {},
   "outputs": [],
   "source": [
    "# CHANGE THIS VALUE to True IF PRE-PROCESSING NEEDS TO BE DONE\n",
    "preproc = True"
   ]
  },
  {
   "cell_type": "markdown",
   "metadata": {},
   "source": [
    "## Model Validation"
   ]
  },
  {
   "cell_type": "markdown",
   "metadata": {},
   "source": [
    "Create target grid for the AOI (1 km)"
   ]
  },
  {
   "cell_type": "code",
   "execution_count": 6,
   "metadata": {},
   "outputs": [
    {
     "name": "stderr",
     "output_type": "stream",
     "text": [
      "/usr/local/lib/python3.6/dist-packages/ipykernel_launcher.py:11: UserWarning: Geometry is in a geographic CRS. Results from 'centroid' are likely incorrect. Use 'GeoSeries.to_crs()' to re-project geometries to a projected CRS before this operation.\n",
      "\n",
      "  # This is added back by InteractiveShellApp.init_path()\n"
     ]
    },
    {
     "data": {
      "image/png": "[encoded data removed]",
      "text/plain": [
       "<Figure size 432x288 with 1 Axes>"
      ]
     },
     "metadata": {
      "needs_background": "light"
     },
     "output_type": "display_data"
    }
   ],
   "source": [
    "# Prepare grid\n",
    "bounds_down = list(s5p_eop.bbox)\n",
    "res_down = bbox_to_dimensions(s5p_eop.bbox, 1000)\n",
    "\n",
    "x_res_down = (bounds_down[2]-bounds_down[0])/res_down[0]\n",
    "y_res_down = (bounds_down[3]-bounds_down[1])/res_down[1]\n",
    "\n",
    "bounds_down = geometry.box(bounds_down[0], bounds_down[1], bounds_down[2], bounds_down[3])\n",
    "bounds_down = gpd.GeoDataFrame({\"id\":1,\"geometry\":[bounds_down]}, crs=\"EPSG:4326\")\n",
    "s5p_grid_down = polygrid(bounds_down, x_res_down,y_res_down, 4326)\n",
    "s5p_centroids_down = gpd.GeoDataFrame(geometry= s5p_grid_down.centroid)\n",
    "\n",
    "#del s5p_eop\n",
    "\n",
    "# Show it\n",
    "p = s5p_grid_down.boundary.plot()\n",
    "s5p_centroids_down.plot(ax=p, color='red')\n",
    "plt.show()\n"
   ]
  },
  {
   "cell_type": "markdown",
   "metadata": {},
   "source": [
    "### Extract predictor data at target grid for the AOI (1 km)"
   ]
  },
  {
   "cell_type": "markdown",
   "metadata": {},
   "source": [
    "#### Prepare DEM with 1km NO2"
   ]
  },
  {
   "cell_type": "code",
   "execution_count": 75,
   "metadata": {},
   "outputs": [],
   "source": [
    "no_data_value = 128\n",
    "dem_train_dir = DATA_DIR/AOIS[0]/'DEM'\n",
    "dem_val_eop = load_tiffs(datapath=dem_train_dir,\n",
    "                           feature=(FeatureType.DATA_TIMELESS, 'DEM'),\n",
    "                            filename='NO2_DEM_1km.tif',\n",
    "                           no_data_value=no_data_value)\n",
    "\n",
    "## FILTER NO VALID DATA BEFORE STARTING\n",
    "dem_val_eop.data_timeless['DEM'][dem_val_eop.data_timeless['DEM'] == no_data_value] = np.nan\n",
    "\n",
    "# Perform zonal statistics - mean altitude per CAMS pixel\n",
    "src = rio.open(str(dem_train_dir) + '/NO2_DEM_1km.tif')\n",
    "affine = src.transform\n",
    "array = dem_train_eop.data_timeless['DEM']\n",
    "array = array[:, :, 0]\n",
    "dem_grid_val = s5p_grid_down\n",
    "zstats = zonal_stats(dem_grid_val, array, affine=affine, stats=\"mean\", nodata=np.nan)\n",
    "vals = []\n",
    "for index, value in enumerate(zstats):\n",
    "    vals.append(value['mean'])\n",
    "    \n",
    "dem_grid_val['elevation'] = vals"
   ]
  },
  {
   "cell_type": "code",
   "execution_count": 106,
   "metadata": {},
   "outputs": [],
   "source": [
    "# Now we can rasterize\n",
    "minx, miny, maxx, maxy = s5p_grid_down.geometry.total_bounds\n",
    "sizey = round((maxy-miny)/y_res_down)\n",
    "sizex = round((maxx-minx)/x_res_down)\n",
    "transform = rio.transform.from_bounds(minx, miny, maxx, maxy, sizex, sizey)\n",
    "shapes = ((geom, value) for geom, value in zip(dem_grid_val.geometry, dem_grid_val['elevation']))\n",
    "\n",
    "dem_val = rio.features.rasterize(shapes, out_shape=(sizey, sizex), transform=transform)\n",
    "\n",
    "export_geotiff(str(dem_train_dir) + '/DEM_NO2_Val.tif', dem_val, transform, 4326)"
   ]
  },
  {
   "cell_type": "markdown",
   "metadata": {},
   "source": [
    "#### Prepare ERA5 with 1km NO2"
   ]
  },
  {
   "cell_type": "code",
   "execution_count": 7,
   "metadata": {},
   "outputs": [],
   "source": [
    "## Paths of validation ERA5 \n",
    "VAL_DATA_DIR = Path(\"validation_dataset_south_africa\")\n",
    "era5_val_dir = VAL_DATA_DIR/AOIS[0]/'era5'\n",
    "era5_products = sorted(os.listdir(era5_val_dir))\n"
   ]
  },
  {
   "cell_type": "code",
   "execution_count": null,
   "metadata": {},
   "outputs": [],
   "source": [
    "## Create direction for resampled ERA5 match 1 km NO2 gird\n",
    "\n",
    "resampled_val_era5_location = str(VAL_DATA_DIR/AOIS[0])+'/resampled_val_era5_no2'\n",
    "if not os.path.isdir(resampled_val_era5_location):\n",
    "    os.makedirs(resampled_val_era5_location)\n",
    "    for i in era5_products:\n",
    "        os.mkdir(resampled_val_era5_location + '/' + i)  \n",
    "\n",
    "## Upscale the validation ERA5\n",
    "\n",
    "target_size = bbox_to_dimensions(s5p_eop.bbox, 1000)\n",
    "for i in era5_products:\n",
    "    for j in glob.glob(str(era5_val_dir) + '/' + i + '/*.tif'):\n",
    "        path_in = j\n",
    "        path_out = re.sub('era5', 'resampled_val_era5_no2', path_in)\n",
    "        upscale_tiff(path_in, path_out, target_size)\n"
   ]
  },
  {
   "cell_type": "code",
   "execution_count": 11,
   "metadata": {},
   "outputs": [],
   "source": [
    "## Select ERA5 data with the same dates of submission\n",
    "resampled_val_era5_location = str(VAL_DATA_DIR/AOIS[0])+'/resampled_val_era5_no2'\n",
    "\n",
    "days = [2150,2153,2161,2170,2178,2180,2186,2190,2196,2200]\n",
    "hours = ['h10','h11','h11','h10','h11','h10','h10','h11','h10','h11']\n",
    "files_name = []\n",
    "for era5_p in era5_products:\n",
    "    era5_product_paths = []\n",
    "    for i,day in enumerate(days):\n",
    "            era5_product_path = glob.glob(str(resampled_val_era5_location) +'/' +era5_p + '/' +  f'*day{day}_{hours[i]}.tif')[0:2208]\n",
    "            era5_product_paths = era5_product_paths + era5_product_path\n",
    "    \n",
    "    filenames = [path.replace(str(resampled_val_era5_location) + f'/{era5_p}/','') for path in era5_product_paths]\n",
    " \n",
    "        \n",
    "    files_name.append(filenames)\n",
    "\n",
    "#files_name\n"
   ]
  },
  {
   "cell_type": "code",
   "execution_count": 12,
   "metadata": {},
   "outputs": [],
   "source": [
    "## Load Selected ERA5\n",
    "\n",
    "# Load data\n",
    "val_era5_eops = []\n",
    "for file_names, era5_p in [(files_name[0], 'relative_humidity'),(files_name[1], 'specific_rain_water_content'),(files_name[2], 'wind_u'),(files_name[3], 'wind_v')]:\n",
    "    val_era5_eop = load_list_tiffs(Path(resampled_val_era5_location)/era5_p, \n",
    "                               (FeatureType.DATA,era5_p), \n",
    "                                offset=OFFSET,\n",
    "                                filename = file_names,\n",
    "                                image_dtype=np.float32,\n",
    "                                data_source='era5')\n",
    "    val_era5_eops.append(val_era5_eop)\n",
    "\n",
    "\n",
    "\n",
    "# Merge into one EOPS\n",
    "val_era5_eop = EOPatch(data={'relative_humidity': val_era5_eops[0].data['relative_humidity'], \n",
    "                         'specific_rain_water_content': val_era5_eops[1].data['specific_rain_water_content'],\n",
    "                        'wind_u': val_era5_eops[2].data['wind_u'],\n",
    "                        'wind_v': val_era5_eops[3].data['wind_v']},\n",
    "                   meta_info={'Names_relative_humidity': val_era5_eops[0].meta_info['Names'],\n",
    "                              'Names_specific_rain_water_content': val_era5_eops[1].meta_info['Names'],\n",
    "                             'Names_wind_u': val_era5_eops[2].meta_info['Names'],\n",
    "                             'Names_wind_v': val_era5_eops[3].meta_info['Names']},\n",
    "                     timestamp=val_era5_eops[0].timestamp,\n",
    "                     bbox=val_era5_eops[0].bbox)\n",
    "del val_era5_eops\n",
    "#val_era5_eop"
   ]
  },
  {
   "cell_type": "code",
   "execution_count": 13,
   "metadata": {},
   "outputs": [],
   "source": [
    "## Filter NO VALID DATA OF ERA5\n",
    "NO_DATA_VALUE = -32767\n",
    "\n",
    "val_era5_eop.data['relative_humidity'][val_era5_eop.data['relative_humidity'] == NO_DATA_VALUE] = np.nan\n",
    "val_era5_eop.data['specific_rain_water_content'][val_era5_eop.data['specific_rain_water_content'] == NO_DATA_VALUE] = np.nan\n",
    "val_era5_eop.data['wind_u'][val_era5_eop.data['wind_u'] == NO_DATA_VALUE] = np.nan\n",
    "val_era5_eop.data['wind_v'][val_era5_eop.data['wind_v'] == NO_DATA_VALUE] = np.nan"
   ]
  },
  {
   "cell_type": "code",
   "execution_count": null,
   "metadata": {},
   "outputs": [],
   "source": [
    "# Perform zonal statistics - ERA5 products per NO2 pixel\n",
    "\n",
    "## location of exported tiff (ERA5 matching 1km NO2 grid)\n",
    "val_rastrize_era5_location = str(VAL_DATA_DIR/AOIS[0])+'/val_rastrize_era5_no2'\n",
    "if not os.path.isdir(val_rastrize_era5_location):\n",
    "    os.makedirs(val_rastrize_era5_location)\n",
    "    for i in era5_products:\n",
    "        os.mkdir(val_rastrize_era5_location + '/' + i)\n",
    "        \n",
    "for index, era5p in enumerate(era5_products):\n",
    "    tiffs = sorted(files_name[index])\n",
    "    i=0\n",
    "    for tiff in tiffs:\n",
    "        for era5_path in glob.glob(str(resampled_val_era5_location) + '/' + era5p + '/' +  tiff):\n",
    "            src = rio.open(era5_path)\n",
    "            affine = src.transform\n",
    "            array = val_era5_eop.data[era5p][i]\n",
    "            array = array[:, :, 0]\n",
    "            era5_grid = s5p_grid_down\n",
    "            era5_stats = zonal_stats(era5_grid, array, affine=affine, stats=\"mean\", nodata=np.nan)\n",
    "            print(\"I am here\")\n",
    "\n",
    "            vals = []\n",
    "            for index, value in enumerate(era5_stats):\n",
    "                vals.append(value['mean'])\n",
    "\n",
    "            era5_grid[era5p] = vals\n",
    "\n",
    "            # rasterize\n",
    "            minx, miny, maxx, maxy = s5p_grid_down.geometry.total_bounds\n",
    "            sizey = round((maxy-miny)/y_res_down)\n",
    "            sizex = round((maxx-minx)/x_res_down)\n",
    "\n",
    "            transform = rio.transform.from_bounds(minx, miny, maxx, maxy, sizex, sizey)\n",
    "            shapes = ((geom, value) for geom, value in zip(era5_grid.geometry, era5_grid[era5p]))\n",
    "            era5 = rio.features.rasterize(shapes, out_shape=(sizey, sizex), transform=transform)\n",
    "            tiffname = val_era5_eop.meta_info['Names_'+ era5p][i]\n",
    "            export_geotiff(str(val_rastrize_era5_location) + '/' +era5p + '/'+ tiffname, era5, transform, 4326)\n",
    "            #print(Done)\n",
    "            i+=1\n",
    "\n",
    "#del val_era5_eop"
   ]
  },
  {
   "cell_type": "markdown",
   "metadata": {},
   "source": [
    "## Prediction"
   ]
  },
  {
   "cell_type": "code",
   "execution_count": 18,
   "metadata": {},
   "outputs": [],
   "source": [
    "bbox_sa = gpd.read_file('AOIs_bboxes/South_Africa/South_Africa_test.shp')"
   ]
  },
  {
   "cell_type": "code",
   "execution_count": 19,
   "metadata": {},
   "outputs": [
    {
     "data": {
      "text/html": [
       "<div>\n",
       "<style scoped>\n",
       "    .dataframe tbody tr th:only-of-type {\n",
       "        vertical-align: middle;\n",
       "    }\n",
       "\n",
       "    .dataframe tbody tr th {\n",
       "        vertical-align: top;\n",
       "    }\n",
       "\n",
       "    .dataframe thead th {\n",
       "        text-align: right;\n",
       "    }\n",
       "</style>\n",
       "<table border=\"1\" class=\"dataframe\">\n",
       "  <thead>\n",
       "    <tr style=\"text-align: right;\">\n",
       "      <th></th>\n",
       "      <th>Day</th>\n",
       "      <th>time</th>\n",
       "    </tr>\n",
       "  </thead>\n",
       "  <tbody>\n",
       "    <tr>\n",
       "      <th>0</th>\n",
       "      <td>2150</td>\n",
       "      <td>h10</td>\n",
       "    </tr>\n",
       "    <tr>\n",
       "      <th>1</th>\n",
       "      <td>2153</td>\n",
       "      <td>h11</td>\n",
       "    </tr>\n",
       "    <tr>\n",
       "      <th>2</th>\n",
       "      <td>2161</td>\n",
       "      <td>h11</td>\n",
       "    </tr>\n",
       "    <tr>\n",
       "      <th>3</th>\n",
       "      <td>2170</td>\n",
       "      <td>h10</td>\n",
       "    </tr>\n",
       "    <tr>\n",
       "      <th>4</th>\n",
       "      <td>2178</td>\n",
       "      <td>h11</td>\n",
       "    </tr>\n",
       "    <tr>\n",
       "      <th>5</th>\n",
       "      <td>2180</td>\n",
       "      <td>h10</td>\n",
       "    </tr>\n",
       "    <tr>\n",
       "      <th>6</th>\n",
       "      <td>2186</td>\n",
       "      <td>h10</td>\n",
       "    </tr>\n",
       "    <tr>\n",
       "      <th>7</th>\n",
       "      <td>2190</td>\n",
       "      <td>h11</td>\n",
       "    </tr>\n",
       "    <tr>\n",
       "      <th>8</th>\n",
       "      <td>2196</td>\n",
       "      <td>h10</td>\n",
       "    </tr>\n",
       "    <tr>\n",
       "      <th>9</th>\n",
       "      <td>2200</td>\n",
       "      <td>h11</td>\n",
       "    </tr>\n",
       "  </tbody>\n",
       "</table>\n",
       "</div>"
      ],
      "text/plain": [
       "    Day  time\n",
       "0  2150   h10\n",
       "1  2153   h11\n",
       "2  2161   h11\n",
       "3  2170   h10\n",
       "4  2178   h11\n",
       "5  2180   h10\n",
       "6  2186   h10\n",
       "7  2190   h11\n",
       "8  2196   h10\n",
       "9  2200   h11"
      ]
     },
     "execution_count": 19,
     "metadata": {},
     "output_type": "execute_result"
    }
   ],
   "source": [
    "cams_pm25_test_dir = Path('validation_dataset_south_africa/South_Africa/sentinel5P/NO2')\n",
    "dates_sa_no2 = pd.read_csv('submission_date/SA-date-NO2.txt')\n",
    "dates_sa_no2"
   ]
  },
  {
   "cell_type": "code",
   "execution_count": 20,
   "metadata": {},
   "outputs": [
    {
     "data": {
      "text/plain": [
       "['S5P_NO2__OFFL_L2_day2150_T10.tif',\n",
       " 'S5P_NO2__OFFL_L2_day2153_T11.tif',\n",
       " 'S5P_NO2__OFFL_L2_day2161_T11.tif',\n",
       " 'S5P_NO2__OFFL_L2_day2170_T10.tif',\n",
       " 'S5P_NO2__OFFL_L2_day2178_T11.tif',\n",
       " 'S5P_NO2__OFFL_L2_day2180_T10.tif',\n",
       " 'S5P_NO2__OFFL_L2_day2186_T10.tif',\n",
       " 'S5P_NO2__OFFL_L2_day2190_T11.tif',\n",
       " 'S5P_NO2__OFFL_L2_day2196_T10.tif',\n",
       " 'S5P_NO2__OFFL_L2_day2200_T11.tif']"
      ]
     },
     "execution_count": 20,
     "metadata": {},
     "output_type": "execute_result"
    }
   ],
   "source": [
    "## Prepare the test images\n",
    "input_filenames = []\n",
    "for index in dates_sa_no2.index:\n",
    "    day, time = dates_sa_no2.iloc[index]\n",
    "    input_filename = f'S5P_NO2__OFFL_L2_day{day}_T{time.split(\"h\")[-1]}.tif'\n",
    "    input_filenames.append(input_filename)\n",
    "\n",
    "input_filenames"
   ]
  },
  {
   "cell_type": "markdown",
   "metadata": {},
   "source": [
    "#### Extract DEM\n"
   ]
  },
  {
   "cell_type": "code",
   "execution_count": 21,
   "metadata": {},
   "outputs": [],
   "source": [
    "# Extract DEM\n",
    "dem_train_dir = DATA_DIR/AOIS[0]/'DEM'\n",
    "raster_path = [(str(dem_train_dir) + '/DEM_NO2_Val.tif')]\n",
    "dem_val_df = extract_points_from_raster(s5p_centroids_down, raster_path, 'DEM')\n",
    "dem_val_df = pd.concat(dem_val_df)\n",
    "dem_val_df = dem_val_df.dropna()\n",
    "dem_val_df = dem_val_df.drop('raster', 1)  "
   ]
  },
  {
   "cell_type": "code",
   "execution_count": 22,
   "metadata": {},
   "outputs": [
    {
     "data": {
      "text/html": [
       "<div>\n",
       "<style scoped>\n",
       "    .dataframe tbody tr th:only-of-type {\n",
       "        vertical-align: middle;\n",
       "    }\n",
       "\n",
       "    .dataframe tbody tr th {\n",
       "        vertical-align: top;\n",
       "    }\n",
       "\n",
       "    .dataframe thead th {\n",
       "        text-align: right;\n",
       "    }\n",
       "</style>\n",
       "<table border=\"1\" class=\"dataframe\">\n",
       "  <thead>\n",
       "    <tr style=\"text-align: right;\">\n",
       "      <th></th>\n",
       "      <th>lon</th>\n",
       "      <th>lat</th>\n",
       "      <th>DEM</th>\n",
       "    </tr>\n",
       "  </thead>\n",
       "  <tbody>\n",
       "    <tr>\n",
       "      <th>0</th>\n",
       "      <td>26.682232</td>\n",
       "      <td>-23.361811</td>\n",
       "      <td>1001.574829</td>\n",
       "    </tr>\n",
       "    <tr>\n",
       "      <th>1</th>\n",
       "      <td>26.682232</td>\n",
       "      <td>-23.370981</td>\n",
       "      <td>977.360474</td>\n",
       "    </tr>\n",
       "    <tr>\n",
       "      <th>2</th>\n",
       "      <td>26.682232</td>\n",
       "      <td>-23.380151</td>\n",
       "      <td>954.151428</td>\n",
       "    </tr>\n",
       "    <tr>\n",
       "      <th>3</th>\n",
       "      <td>26.682232</td>\n",
       "      <td>-23.389321</td>\n",
       "      <td>969.581787</td>\n",
       "    </tr>\n",
       "    <tr>\n",
       "      <th>4</th>\n",
       "      <td>26.682232</td>\n",
       "      <td>-23.398491</td>\n",
       "      <td>989.022034</td>\n",
       "    </tr>\n",
       "    <tr>\n",
       "      <th>...</th>\n",
       "      <td>...</td>\n",
       "      <td>...</td>\n",
       "      <td>...</td>\n",
       "    </tr>\n",
       "    <tr>\n",
       "      <th>30787</th>\n",
       "      <td>27.309505</td>\n",
       "      <td>-23.976201</td>\n",
       "      <td>790.465149</td>\n",
       "    </tr>\n",
       "    <tr>\n",
       "      <th>30788</th>\n",
       "      <td>27.309505</td>\n",
       "      <td>-23.985371</td>\n",
       "      <td>774.197266</td>\n",
       "    </tr>\n",
       "    <tr>\n",
       "      <th>30789</th>\n",
       "      <td>27.309505</td>\n",
       "      <td>-23.994541</td>\n",
       "      <td>636.179626</td>\n",
       "    </tr>\n",
       "    <tr>\n",
       "      <th>30790</th>\n",
       "      <td>27.309505</td>\n",
       "      <td>-24.003711</td>\n",
       "      <td>678.383911</td>\n",
       "    </tr>\n",
       "    <tr>\n",
       "      <th>30791</th>\n",
       "      <td>27.309505</td>\n",
       "      <td>-24.012881</td>\n",
       "      <td>827.870117</td>\n",
       "    </tr>\n",
       "  </tbody>\n",
       "</table>\n",
       "<p>3894 rows × 3 columns</p>\n",
       "</div>"
      ],
      "text/plain": [
       "             lon        lat          DEM\n",
       "0      26.682232 -23.361811  1001.574829\n",
       "1      26.682232 -23.370981   977.360474\n",
       "2      26.682232 -23.380151   954.151428\n",
       "3      26.682232 -23.389321   969.581787\n",
       "4      26.682232 -23.398491   989.022034\n",
       "...          ...        ...          ...\n",
       "30787  27.309505 -23.976201   790.465149\n",
       "30788  27.309505 -23.985371   774.197266\n",
       "30789  27.309505 -23.994541   636.179626\n",
       "30790  27.309505 -24.003711   678.383911\n",
       "30791  27.309505 -24.012881   827.870117\n",
       "\n",
       "[3894 rows x 3 columns]"
      ]
     },
     "execution_count": 22,
     "metadata": {},
     "output_type": "execute_result"
    }
   ],
   "source": [
    "dem_val_df"
   ]
  },
  {
   "cell_type": "code",
   "execution_count": 23,
   "metadata": {},
   "outputs": [],
   "source": [
    "## Create submission file\n",
    "\n",
    "submission_dir = Path('test-submission')\n",
    "for aoi in AOIS:\n",
    "    for product in ['NO2', 'PM2.5']:\n",
    "        if not os.path.exists(submission_dir/aoi/product):\n",
    "            os.makedirs(submission_dir/aoi/product)\n",
    "            \n",
    "visulize_dir = Path('test-visulize')\n",
    "for aoi in AOIS:\n",
    "    for product in ['NO2', 'PM2.5']:\n",
    "        if not os.path.exists(visulize_dir/aoi/product):\n",
    "            os.makedirs(visulize_dir/aoi/product)"
   ]
  },
  {
   "cell_type": "code",
   "execution_count": 29,
   "metadata": {},
   "outputs": [],
   "source": [
    "# Extract val ERA5\n",
    "\n",
    "## We can put this function in the utility file\n",
    "def extract_val_era5(era5_p,tiff_name,no2_centroids,path):\n",
    "    era5_path = [(str(path) + '/'+ era5_p + '/' +tiff_name + '.tif')]\n",
    "    era5_df = extract_points_from_raster(no2_centroids, era5_path, era5_p)\n",
    "    era5_df = pd.concat(era5_df)\n",
    "    era5_df = era5_df.dropna()\n",
    "    return era5_df\n",
    "\n"
   ]
  },
  {
   "cell_type": "markdown",
   "metadata": {},
   "source": [
    "#### Predict UPSCALED NO2 VALUES "
   ]
  },
  {
   "cell_type": "code",
   "execution_count": null,
   "metadata": {},
   "outputs": [],
   "source": [
    "## Direction in case not doing the previous steps\n",
    "VAL_DATA_DIR = Path(\"validation_dataset_south_africa\")\n",
    "val_rastrize_era5_location = str(VAL_DATA_DIR/AOIS[0])+'/val_rastrize_era5_no2'\n",
    "\n",
    "bbox_sa.to_crs(epsg=4326, inplace=True)\n",
    "bbox_sa.to_file('AOIs_bboxes/WGS84/sa-bbox-wgs84.shp', driver='ESRI Shapefile')\n",
    "\n",
    "test_df = dem_val_df\n",
    "\n",
    "for input_filename in input_filenames:\n",
    "    test_df['date']=np.nan\n",
    "    test_df['hour']=np.nan\n",
    "    test_df['datehour']=\"\"\n",
    "    \n",
    "    for i in range(test_df.shape[0]):\n",
    "        tiff_name = input_filename\n",
    "        day, hour = tiff_name.split('_day')[-1].split('_')\n",
    "        test_df.iat[i,test_df.columns.get_loc('date')] = day\n",
    "        test_df.iat[i,test_df.columns.get_loc('hour')] = hour[1:3]\n",
    "        test_df.iat[i,test_df.columns.get_loc('datehour')] = str(day)+str(hour[1:3])\n",
    "        \n",
    "    ##Extract ERA5 data for the same date and hour    \n",
    "    test_rh_df = extract_val_era5('relative_humidity', f'ERA5_rh_day{day}_h{hour[1:3]}', s5p_centroids_down, val_rastrize_era5_location)\n",
    "    test_srwc_df = extract_val_era5('specific_rain_water_content', f'ERA5_srwc_day{day}_h{hour[1:3]}' ,s5p_centroids_down, val_rastrize_era5_location)\n",
    "    test_u_df = extract_val_era5('wind_u', f'ERA5_u_day{day}_h{hour[1:3]}', s5p_centroids_down, val_rastrize_era5_location)\n",
    "    test_v_df = extract_val_era5('wind_v', f'ERA5_v_day{day}_h{hour[1:3]}' ,s5p_centroids_down, val_rastrize_era5_location)\n",
    "    \n",
    "    \n",
    "    ## Join ERA5 & DEM data with (location)\n",
    "    test_X = pd.merge(test_df, test_rh_df, on=['lon', 'lat'], how='inner')\n",
    "    test_X = pd.merge(test_X, test_srwc_df, on=['lon', 'lat'], how='inner')\n",
    "    test_X = pd.merge(test_X, test_u_df, on=['lon', 'lat'], how='inner')\n",
    "    test_X = pd.merge(test_X, test_v_df, on=['lon', 'lat'], how='inner')\n",
    "    \n",
    "\n",
    "    # X inputs\n",
    "    test_X = np.array(test_X.drop(['date','datehour','raster_x','raster_y'], axis=1))\n",
    "    \n",
    "    ## PREDICTION\n",
    "    predicted_NO2 = rf.predict(test_X)\n",
    "    \n",
    "    \n",
    "    ## rastrize\n",
    "    minx, miny, maxx, maxy = s5p_grid_down.geometry.total_bounds\n",
    "    sizey = round((maxy-miny)/y_res_down)\n",
    "    sizex = round((maxx-minx)/x_res_down)\n",
    "    transform = rio.transform.from_bounds(minx, miny, maxx, maxy, sizex, sizey)\n",
    "    shapes = ((geom, value) for geom, value in zip(s5p_grid_down.geometry, predicted_NO2))\n",
    "    upscaled_NO2 = rio.features.rasterize(shapes, out_shape=(sizey, sizex), transform=transform)\n",
    "    \n",
    "    ## export for prediction\n",
    "    export_geotiff(str(submission_dir) + '/South_Africa/PM2.5/'+f'{day}_PM25_South_Africa.tif', upscaled_NO2, transform, 4326)\n",
    "    \n",
    "    mask_tiff('AOIs_bboxes/WGS84/sa-bbox-wgs84.shp', \n",
    "              submission_dir/'South_Africa'/'PM2.5'/f'{day}_PM25_South_Africa.tif', \n",
    "              submission_dir/'South_Africa'/'PM2.5'/f'{day}_PM25_South_Africa.tif')\n",
    "    \n",
    "    ## export them for visualization \n",
    "    export_geotiff(str(visulize_dir) + '/South_Africa/PM2.5/'+f'CAMS_PM25_day{day}_{hour}.tif', upscaled_NO2, transform, 4326)\n",
    "    \n",
    "    mask_tiff('AOIs_bboxes/WGS84/sa-bbox-wgs84.shp', \n",
    "              visulize_dir/'South_Africa'/'PM2.5'/f'CAMS_PM25_day{day}_{hour}.tif', \n",
    "              visulize_dir/'South_Africa'/'PM2.5'/f'CAMS_PM25_day{day}_{hour}.tif')\n",
    "    \n"
   ]
  },
  {
   "cell_type": "code",
   "execution_count": 259,
   "metadata": {},
   "outputs": [],
   "source": [
    "## load upscaled NO2\n",
    "upscaled_s5p_dir = Path('test-visulize/South_Africa/NO2')\n",
    "upscaled_no2_img = load_tiffs(upscaled_s5p_dir,\n",
    "                          (FeatureType.DATA, 'NO2'),\n",
    "                              offset=OFFSET)\n"
   ]
  },
  {
   "cell_type": "code",
   "execution_count": 45,
   "metadata": {},
   "outputs": [
    {
     "data": {
      "image/png": "[encoded data removed]",
      "text/plain": [
       "<Figure size 432x360 with 2 Axes>"
      ]
     },
     "metadata": {
      "needs_background": "light"
     },
     "output_type": "display_data"
    }
   ],
   "source": [
    "# Plot upscaled NO2\n",
    "fig, ax = plt.subplots(figsize=(6,5))\n",
    "fh = draw_feature(ax=ax, eopatch=upscaled_no2_img, \n",
    "                 feature=(FeatureType.DATA, 'NO2'),\n",
    "                 time_idx=5, \n",
    "                 vmin=-0.001, vmax=0.005)\n",
    "fig.colorbar(fh, ax=ax);"
   ]
  }
 ],
 "metadata": {
  "kernelspec": {
   "display_name": "Python 3",
   "language": "python",
   "name": "python3"
  },
  "language_info": {
   "codemirror_mode": {
    "name": "ipython",
    "version": 3
   },
   "file_extension": ".py",
   "mimetype": "text/x-python",
   "name": "python",
   "nbconvert_exporter": "python",
   "pygments_lexer": "ipython3",
   "version": "3.6.9"
  }
 },
 "nbformat": 4,
 "nbformat_minor": 4
}
