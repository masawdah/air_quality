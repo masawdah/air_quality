{
 "cells": [
  {
   "cell_type": "markdown",
   "metadata": {},
   "source": [
    "# South Africa"
   ]
  },
  {
   "cell_type": "markdown",
   "metadata": {},
   "source": [
    "CAMS PM2.5: Original resolution: 80km x 80km. Improved resolution: 10km x 10km.\n",
    "\n"
   ]
  },
  {
   "cell_type": "code",
   "execution_count": 1,
   "metadata": {},
   "outputs": [],
   "source": [
    "# Built-in modules\n",
    "import os\n",
    "import gzip\n",
    "import shutil\n",
    "from pathlib import Path\n",
    "from datetime import datetime, timedelta\n",
    "import glob\n",
    "import re\n",
    "import warnings\n",
    "from collections import defaultdict\n",
    "\n",
    "# Basics of Python data handling and visualization\n",
    "import fs\n",
    "import numpy as np\n",
    "import pandas as pd\n",
    "import geopandas as gpd\n",
    "import matplotlib.pyplot as plt\n",
    "from matplotlib.colors import ListedColormap\n",
    "from tqdm.auto import tqdm\n",
    "from shapely import wkt\n",
    "import rasterio as rio\n",
    "from shapely import geometry\n",
    "from rasterstats import zonal_stats\n",
    "import seaborn as sns\n",
    "\n",
    "# Modelling\n",
    "from sklearn.ensemble import RandomForestRegressor\n",
    "from sklearn import metrics\n",
    "from sklearn.model_selection import cross_validate, GroupKFold\n",
    "import statistics \n",
    "\n",
    "# Imports from eo-learn and sentinelhub-py\n",
    "from eolearn.core import EOPatch, EOTask, LinearWorkflow, FeatureType, AddFeature, MapFeatureTask, MergeFeatureTask, RemoveFeature,LoadTask, SaveTask, OverwritePermission\n",
    "from sentinelhub import bbox_to_dimensions, bbox_to_resolution\n",
    "from eolearn.io import ExportToTiff\n",
    "\n",
    "# Visualisation utils\n",
    "from utils import (get_extent, \n",
    "                   draw_outline, \n",
    "                   draw_bbox, \n",
    "                   draw_feature, \n",
    "                   draw_true_color,\n",
    "                   unzip_file,\n",
    "                   load_tiffs,\n",
    "                   load_list_tiffs,\n",
    "                   days_to_datetimes,\n",
    "                   datetimes_to_days,\n",
    "                   reproject_tiff,\n",
    "                   upscale_tiff,\n",
    "                   mask_tiff)# South Africa\n",
    "\n",
    "from utils_carles import polygrid, export_geotiff, percs_landuse, upscale_mean_tiff, extract_points_from_raster"
   ]
  },
  {
   "cell_type": "code",
   "execution_count": 2,
   "metadata": {},
   "outputs": [],
   "source": [
    "DATA_DIR = Path('training_dataset_south_africa')\n",
    "AOIS = ['South_Africa']"
   ]
  },
  {
   "cell_type": "code",
   "execution_count": 3,
   "metadata": {},
   "outputs": [],
   "source": [
    "OFFSET = 2100\n",
    "NO_DATA_VALUE = -9999.0"
   ]
  },
  {
   "cell_type": "code",
   "execution_count": 4,
   "metadata": {},
   "outputs": [],
   "source": [
    "# CHANGE THIS VALUE to True IF PRE-PROCESSING NEEDS TO BE DONE\n",
    "preproc = True"
   ]
  },
  {
   "cell_type": "markdown",
   "metadata": {},
   "source": [
    "## Model VALIDATION"
   ]
  },
  {
   "cell_type": "markdown",
   "metadata": {},
   "source": [
    "Create target grid for the AOI (10 km)"
   ]
  },
  {
   "cell_type": "code",
   "execution_count": 23,
   "metadata": {},
   "outputs": [
    {
     "name": "stderr",
     "output_type": "stream",
     "text": [
      "/usr/local/lib/python3.6/dist-packages/ipykernel_launcher.py:10: UserWarning: Geometry is in a geographic CRS. Results from 'centroid' are likely incorrect. Use 'GeoSeries.to_crs()' to re-project geometries to a projected CRS before this operation.\n",
      "\n",
      "  # Remove the CWD from sys.path while we load stuff.\n"
     ]
    },
    {
     "data": {
      "image/png": "[encoded data removed]",
      "text/plain": [
       "<Figure size 432x288 with 1 Axes>"
      ]
     },
     "metadata": {
      "needs_background": "light"
     },
     "output_type": "display_data"
    }
   ],
   "source": [
    "# Prepare grid\n",
    "bounds_down = list(cams_train_eop.bbox)\n",
    "res_down = bbox_to_dimensions(cams_train_eop.bbox, 10000)\n",
    "xres_down = (bounds_down[2]-bounds_down[0])/res_down[0]\n",
    "yres_down = (bounds_down[3]-bounds_down[1])/res_down[1]\n",
    "\n",
    "bounds_down = geometry.box(bounds_down[0], bounds_down[1], bounds_down[2], bounds_down[3])\n",
    "bounds_down = gpd.GeoDataFrame({\"id\":1,\"geometry\":[bounds_down]}, crs=\"EPSG:4326\")\n",
    "CAMS_grid_down = polygrid(bounds_down, xres_down, yres_down, 4326)\n",
    "CAMS_centroids_down = gpd.GeoDataFrame(geometry= CAMS_grid_down.centroid)\n",
    "\n",
    "del cams_train_eop\n",
    "\n",
    "# Show it\n",
    "p = CAMS_grid_down.boundary.plot()\n",
    "CAMS_centroids_down.plot(ax=p, color='red')\n",
    "plt.show()\n"
   ]
  },
  {
   "cell_type": "markdown",
   "metadata": {},
   "source": [
    "### Extract predictor data at CAMS 10km"
   ]
  },
  {
   "cell_type": "markdown",
   "metadata": {},
   "source": [
    "#### Prepare DEM with 10km CAMS for validtion process"
   ]
  },
  {
   "cell_type": "code",
   "execution_count": 64,
   "metadata": {},
   "outputs": [],
   "source": [
    "no_data_value = 128\n",
    "dem_train_dir = DATA_DIR/AOIS[0]/'DEM'\n",
    "dem_train_eop = load_tiffs(datapath=dem_train_dir,\n",
    "                           feature=(FeatureType.DATA_TIMELESS, 'DEM'),\n",
    "                            filename='DEM_1km.tif',\n",
    "                           no_data_value=no_data_value)\n",
    "\n",
    "## FILTER NO VALID DATA BEFORE STARTING\n",
    "dem_train_eop.data_timeless['DEM'][dem_train_eop.data_timeless['DEM'] == no_data_value] = np.nan\n",
    "\n",
    "# Perform zonal statistics - mean altitude per CAMS pixel\n",
    "src = rio.open(str(dem_train_dir) + '/DEM_1km.tif')\n",
    "affine = src.transform\n",
    "array = dem_train_eop.data_timeless['DEM']\n",
    "array = array[:, :, 0]\n",
    "dem_grid_10km = CAMS_grid_down\n",
    "zstats = zonal_stats(dem_grid_10km, array, affine=affine, stats=\"mean\", nodata=np.nan)\n",
    "vals = []\n",
    "for index, value in enumerate(zstats):\n",
    "    vals.append(value['mean'])\n",
    "    \n",
    "dem_grid_10km['elevation'] = vals"
   ]
  },
  {
   "cell_type": "code",
   "execution_count": 74,
   "metadata": {},
   "outputs": [],
   "source": [
    "# Now we can rasterize\n",
    "minx, miny, maxx, maxy = CAMS_grid_down.geometry.total_bounds\n",
    "sizey = round((maxy-miny)/yres_down)\n",
    "sizex = round((maxx-minx)/xres_down)\n",
    "transform = rio.transform.from_bounds(minx, miny, maxx, maxy, sizex, sizey)\n",
    "shapes = ((geom, value) for geom, value in zip(dem_grid_10km.geometry, dem_grid_10km['elevation']))\n",
    "\n",
    "dem10km = rio.features.rasterize(shapes, out_shape=(sizey, sizex), transform=transform)\n",
    "\n",
    "export_geotiff(str(dem_train_dir) + '/DEM_CAMS_Val.tif', dem10km, transform, 4326)"
   ]
  },
  {
   "cell_type": "code",
   "execution_count": 75,
   "metadata": {},
   "outputs": [
    {
     "data": {
      "image/png": "[encoded data removed]",
      "text/plain": [
       "<Figure size 432x360 with 2 Axes>"
      ]
     },
     "metadata": {
      "needs_background": "light"
     },
     "output_type": "display_data"
    }
   ],
   "source": [
    "# Read and visualize\n",
    "dem_val_dir = DATA_DIR/AOIS[0]/'DEM'\n",
    "dem_val_eop = load_tiffs(datapath=dem_val_dir,\n",
    "                           feature=(FeatureType.DATA_TIMELESS, 'DEM'),\n",
    "                           filename='DEM_CAMS_Val.tif')\n",
    "\n",
    "fig, ax = plt.subplots(figsize=(6,5))\n",
    "fh = draw_feature(ax=ax, eopatch=dem_val_eop,\n",
    "                  feature=(FeatureType.DATA_TIMELESS, 'DEM'),\n",
    "                  time_idx=None,\n",
    "                  vmin=0, vmax=1800)\n",
    "#pm25_gt_min.plot(ax=ax, color='r', marker='o');\n",
    "fig.colorbar(fh, ax=ax);"
   ]
  },
  {
   "cell_type": "markdown",
   "metadata": {},
   "source": [
    "#### Prepare ERA5 with 10km CAMS"
   ]
  },
  {
   "cell_type": "code",
   "execution_count": 37,
   "metadata": {},
   "outputs": [],
   "source": [
    "## Paths of validation ERA5 \n",
    "VAL_DATA_DIR = Path(\"validation_dataset_south_africa\")\n",
    "era5_val_dir = VAL_DATA_DIR/AOIS[0]/'era5'\n",
    "era5_products = sorted(os.listdir(era5_val_dir))\n",
    "resampled_val_era5_location = str(VAL_DATA_DIR/AOIS[0])+'/resampled_era5_10km'"
   ]
  },
  {
   "cell_type": "code",
   "execution_count": 32,
   "metadata": {},
   "outputs": [],
   "source": [
    "\n",
    "## Create direction for resampled ERA5\n",
    "resampled_val_era5_location = str(VAL_DATA_DIR/AOIS[0])+'/resampled_era5_10km'\n",
    "if not os.path.isdir(resampled_val_era5_location):\n",
    "    os.makedirs(resampled_val_era5_location)\n",
    "    for i in era5_products:\n",
    "        os.mkdir(resampled_val_era5_location + '/' + i)  \n",
    "\n",
    "## Upscale the validation ERA5\n",
    "\n",
    "target_size = bbox_to_dimensions(cams_train_eop.bbox, 10000)\n",
    "for i in era5_products:\n",
    "    for j in glob.glob(str(era5_val_dir) + '/' + i + '/*.tif'):\n",
    "        path_in = j\n",
    "        path_out = re.sub('era5', 'resampled_era5_10km', path_in)\n",
    "        upscale_tiff(path_in, path_out, target_size)\n",
    "\n",
    "\n"
   ]
  },
  {
   "cell_type": "code",
   "execution_count": 77,
   "metadata": {},
   "outputs": [],
   "source": [
    "## Select ERA5 data with the same dates of submission\n",
    "\n",
    "days = [2150,2153,2161,2170,2178,2180, 2186,2190,2196,2200]\n",
    "hour = 'h12'\n",
    "\n",
    "files_name = []\n",
    "for era5_p in era5_products:\n",
    "    era5_product_paths = []\n",
    "    for day in days:\n",
    "        era5_product_path = glob.glob(str(resampled_val_era5_location) +'/' +era5_p + '/' +  f'*day{day}_{hour}.tif')[0:2208]\n",
    "        era5_product_paths = era5_product_paths + era5_product_path\n",
    "        filenames = [path.replace(str(resampled_val_era5_location) + f'/{era5_p}/','') for path in era5_product_paths]\n",
    "        \n",
    "    files_name.append(filenames)\n",
    "\n",
    "#files_name\n"
   ]
  },
  {
   "cell_type": "code",
   "execution_count": 85,
   "metadata": {},
   "outputs": [],
   "source": [
    "## Load Selected ERA5\n",
    "\n",
    "# Load data\n",
    "val_era5_eops = []\n",
    "for file_names, era5_p in [(files_name[0], 'relative_humidity'),(files_name[1], 'specific_rain_water_content'),(files_name[2], 'wind_u'),(files_name[3], 'wind_v')]:\n",
    "    val_era5_eop = load_list_tiffs(Path(resampled_val_era5_location)/era5_p, \n",
    "                               (FeatureType.DATA,era5_p), \n",
    "                                offset=OFFSET,\n",
    "                                filename = file_names,\n",
    "                                image_dtype=np.float32,\n",
    "                                data_source='era5')\n",
    "    val_era5_eops.append(val_era5_eop)\n",
    "\n",
    "\n",
    "\n",
    "# Merge into one EOPS\n",
    "val_era5_eop = EOPatch(data={'relative_humidity': val_era5_eops[0].data['relative_humidity'], \n",
    "                         'specific_rain_water_content': val_era5_eops[1].data['specific_rain_water_content'],\n",
    "                        'wind_u': val_era5_eops[2].data['wind_u'],\n",
    "                        'wind_v': val_era5_eops[3].data['wind_v']},\n",
    "                   meta_info={'Names_relative_humidity': val_era5_eops[0].meta_info['Names'],\n",
    "                              'Names_specific_rain_water_content': val_era5_eops[1].meta_info['Names'],\n",
    "                             'Names_wind_u': val_era5_eops[2].meta_info['Names'],\n",
    "                             'Names_wind_v': val_era5_eops[3].meta_info['Names']},\n",
    "                     timestamp=val_era5_eops[0].timestamp,\n",
    "                     bbox=val_era5_eops[0].bbox)\n",
    "del val_era5_eops\n",
    "#val_era5_eop\n"
   ]
  },
  {
   "cell_type": "code",
   "execution_count": 87,
   "metadata": {},
   "outputs": [],
   "source": [
    "## Filter NO VALID DATA OF ERA5\n",
    "NO_DATA_VALUE = -32767\n",
    "\n",
    "val_era5_eop.data['relative_humidity'][val_era5_eop.data['relative_humidity'] == NO_DATA_VALUE] = np.nan\n",
    "val_era5_eop.data['specific_rain_water_content'][val_era5_eop.data['specific_rain_water_content'] == NO_DATA_VALUE] = np.nan\n",
    "val_era5_eop.data['wind_u'][val_era5_eop.data['wind_u'] == NO_DATA_VALUE] = np.nan\n",
    "val_era5_eop.data['wind_v'][val_era5_eop.data['wind_v'] == NO_DATA_VALUE] = np.nan"
   ]
  },
  {
   "cell_type": "code",
   "execution_count": 89,
   "metadata": {},
   "outputs": [],
   "source": [
    "# Perform zonal statistics - ERA5 products per CAMS pixel\n",
    "# Rastrize the new CAMS zonal stats and save them on disk\n",
    "\n",
    "\n",
    "## location of exported tiff (ERA5 matching CAMS grid)\n",
    "val_rastrize_era5_location = str(VAL_DATA_DIR/AOIS[0])+'/val_rastrize_era5_cams'\n",
    "if not os.path.isdir(val_rastrize_era5_location):\n",
    "    os.makedirs(val_rastrize_era5_location)\n",
    "    for i in era5_products:\n",
    "        os.mkdir(val_rastrize_era5_location + '/' + i)\n",
    "        \n",
    "for index, era5p in enumerate(era5_products):\n",
    "    tiffs = sorted(files_name[index])\n",
    "    i=0\n",
    "    for tiff in tiffs:\n",
    "        for era5_path in glob.glob(str(resampled_val_era5_location) + '/' + era5p + '/' +  tiff):\n",
    "            src = rio.open(era5_path)\n",
    "            affine = src.transform\n",
    "            array = val_era5_eop.data[era5p][i]\n",
    "            array = array[:, :, 0]\n",
    "            era5_grid = CAMS_grid_down\n",
    "            era5_stats = zonal_stats(era5_grid, array, affine=affine, stats=\"mean\", nodata=np.nan)\n",
    "\n",
    "            vals = []\n",
    "            for index, value in enumerate(era5_stats):\n",
    "                vals.append(value['mean'])\n",
    "\n",
    "            era5_grid[era5p] = vals\n",
    "\n",
    "            # rasterize\n",
    "            minx, miny, maxx, maxy = CAMS_grid_down.geometry.total_bounds\n",
    "            sizey = round((maxy-miny)/yres_down)\n",
    "            sizex = round((maxx-minx)/xres_down)\n",
    "\n",
    "            transform = rio.transform.from_bounds(minx, miny, maxx, maxy, sizex, sizey)\n",
    "            shapes = ((geom, value) for geom, value in zip(era5_grid.geometry, era5_grid[era5p]))\n",
    "            era5 = rio.features.rasterize(shapes, out_shape=(sizey, sizex), transform=transform)\n",
    "            tiffname = val_era5_eop.meta_info['Names_'+ era5p][i]\n",
    "            export_geotiff(str(val_rastrize_era5_location) + '/' +era5p + '/'+ tiffname, era5, transform, 4326)\n",
    "            \n",
    "            i+=1\n",
    "\n",
    "#del val_era5_eop"
   ]
  },
  {
   "cell_type": "markdown",
   "metadata": {},
   "source": [
    "## Prediction"
   ]
  },
  {
   "cell_type": "code",
   "execution_count": 17,
   "metadata": {},
   "outputs": [],
   "source": [
    "bbox_sa = gpd.read_file('AOIs_bboxes/South_Africa/South_Africa_test.shp')"
   ]
  },
  {
   "cell_type": "code",
   "execution_count": 18,
   "metadata": {},
   "outputs": [
    {
     "data": {
      "text/html": [
       "<div>\n",
       "<style scoped>\n",
       "    .dataframe tbody tr th:only-of-type {\n",
       "        vertical-align: middle;\n",
       "    }\n",
       "\n",
       "    .dataframe tbody tr th {\n",
       "        vertical-align: top;\n",
       "    }\n",
       "\n",
       "    .dataframe thead th {\n",
       "        text-align: right;\n",
       "    }\n",
       "</style>\n",
       "<table border=\"1\" class=\"dataframe\">\n",
       "  <thead>\n",
       "    <tr style=\"text-align: right;\">\n",
       "      <th></th>\n",
       "      <th>Day</th>\n",
       "      <th>time</th>\n",
       "    </tr>\n",
       "  </thead>\n",
       "  <tbody>\n",
       "    <tr>\n",
       "      <th>0</th>\n",
       "      <td>2150</td>\n",
       "      <td>h12</td>\n",
       "    </tr>\n",
       "    <tr>\n",
       "      <th>1</th>\n",
       "      <td>2153</td>\n",
       "      <td>h12</td>\n",
       "    </tr>\n",
       "    <tr>\n",
       "      <th>2</th>\n",
       "      <td>2161</td>\n",
       "      <td>h12</td>\n",
       "    </tr>\n",
       "    <tr>\n",
       "      <th>3</th>\n",
       "      <td>2170</td>\n",
       "      <td>h12</td>\n",
       "    </tr>\n",
       "    <tr>\n",
       "      <th>4</th>\n",
       "      <td>2178</td>\n",
       "      <td>h12</td>\n",
       "    </tr>\n",
       "    <tr>\n",
       "      <th>5</th>\n",
       "      <td>2180</td>\n",
       "      <td>h12</td>\n",
       "    </tr>\n",
       "    <tr>\n",
       "      <th>6</th>\n",
       "      <td>2186</td>\n",
       "      <td>h12</td>\n",
       "    </tr>\n",
       "    <tr>\n",
       "      <th>7</th>\n",
       "      <td>2190</td>\n",
       "      <td>h12</td>\n",
       "    </tr>\n",
       "    <tr>\n",
       "      <th>8</th>\n",
       "      <td>2196</td>\n",
       "      <td>h12</td>\n",
       "    </tr>\n",
       "    <tr>\n",
       "      <th>9</th>\n",
       "      <td>2200</td>\n",
       "      <td>h12</td>\n",
       "    </tr>\n",
       "  </tbody>\n",
       "</table>\n",
       "</div>"
      ],
      "text/plain": [
       "    Day  time\n",
       "0  2150   h12\n",
       "1  2153   h12\n",
       "2  2161   h12\n",
       "3  2170   h12\n",
       "4  2178   h12\n",
       "5  2180   h12\n",
       "6  2186   h12\n",
       "7  2190   h12\n",
       "8  2196   h12\n",
       "9  2200   h12"
      ]
     },
     "execution_count": 18,
     "metadata": {},
     "output_type": "execute_result"
    }
   ],
   "source": [
    "cams_pm25_test_dir = Path('validation_dataset_south_africa/South_Africa/CAMS/PM2_5')\n",
    "dates_sa_pm25 = pd.read_csv('submission_date/SA-date-PM25.txt')\n",
    "dates_sa_pm25"
   ]
  },
  {
   "cell_type": "code",
   "execution_count": 19,
   "metadata": {},
   "outputs": [
    {
     "data": {
      "text/plain": [
       "['CAMS_PM2_5_day2150_h12.tif',\n",
       " 'CAMS_PM2_5_day2153_h12.tif',\n",
       " 'CAMS_PM2_5_day2161_h12.tif',\n",
       " 'CAMS_PM2_5_day2170_h12.tif',\n",
       " 'CAMS_PM2_5_day2178_h12.tif',\n",
       " 'CAMS_PM2_5_day2180_h12.tif',\n",
       " 'CAMS_PM2_5_day2186_h12.tif',\n",
       " 'CAMS_PM2_5_day2190_h12.tif',\n",
       " 'CAMS_PM2_5_day2196_h12.tif',\n",
       " 'CAMS_PM2_5_day2200_h12.tif']"
      ]
     },
     "execution_count": 19,
     "metadata": {},
     "output_type": "execute_result"
    }
   ],
   "source": [
    "## Prepare the test images\n",
    "input_filenames = []\n",
    "for index in dates_sa_pm25.index:\n",
    "    day, time = dates_sa_pm25.iloc[index]\n",
    "    input_filename = f'CAMS_PM2_5_day{day}_{time.split(\" \")[-1]}.tif'\n",
    "    input_filenames.append(input_filename)\n",
    "\n",
    "input_filenames"
   ]
  },
  {
   "cell_type": "markdown",
   "metadata": {},
   "source": [
    "#### Extract DEM\n",
    "Note: 0 values of extracted DEM"
   ]
  },
  {
   "cell_type": "code",
   "execution_count": 24,
   "metadata": {},
   "outputs": [],
   "source": [
    "# Extract DEM\n",
    "dem_train_dir = DATA_DIR/AOIS[0]/'DEM'\n",
    "raster_path = [(str(dem_train_dir) + '/DEM_CAMS_Val.tif')]\n",
    "dem_val_df = extract_points_from_raster(CAMS_centroids_down, raster_path, 'DEM')\n",
    "dem_val_df = pd.concat(dem_val_df)\n",
    "dem_val_df = dem_val_df.dropna()\n",
    "dem_val_df = dem_val_df.drop('raster', 1)  \n"
   ]
  },
  {
   "cell_type": "code",
   "execution_count": 26,
   "metadata": {},
   "outputs": [],
   "source": [
    "## Create submission file\n",
    "\n",
    "submission_dir = Path('test-submission')\n",
    "for aoi in AOIS:\n",
    "    for product in ['NO2', 'PM2.5']:\n",
    "        if not os.path.exists(submission_dir/aoi/product):\n",
    "            os.makedirs(submission_dir/aoi/product)\n",
    "            \n",
    "visulize_dir = Path('test-visulize')\n",
    "for aoi in AOIS:\n",
    "    for product in ['NO2', 'PM2.5']:\n",
    "        if not os.path.exists(visulize_dir/aoi/product):\n",
    "            os.makedirs(visulize_dir/aoi/product)"
   ]
  },
  {
   "cell_type": "code",
   "execution_count": 27,
   "metadata": {},
   "outputs": [],
   "source": [
    "# Extract val ERA5\n",
    "\n",
    "## We can put this function in the utility file\n",
    "def extract_val_era5(era5_p,tiff_name,cams_centroids,path):\n",
    "    era5_path = [(str(path) + '/'+ era5_p + '/' +tiff_name + '.tif')]\n",
    "    era5_df = extract_points_from_raster(cams_centroids, era5_path, era5_p)\n",
    "    era5_df = pd.concat(era5_df)\n",
    "    era5_df = era5_df.dropna()\n",
    "    return era5_df\n",
    "\n"
   ]
  },
  {
   "cell_type": "markdown",
   "metadata": {},
   "source": [
    "#### Predict UPSCALED CAMS VALUES "
   ]
  },
  {
   "cell_type": "code",
   "execution_count": 32,
   "metadata": {},
   "outputs": [],
   "source": [
    "## Direction in case not doing the previous steps\n",
    "VAL_DATA_DIR = Path(\"validation_dataset_south_africa\")\n",
    "val_rastrize_era5_location = str(VAL_DATA_DIR/AOIS[0])+'/val_rastrize_era5_cams'\n",
    "\n",
    "bbox_sa.to_crs(epsg=4326, inplace=True)\n",
    "bbox_sa.to_file('AOIs_bboxes/WGS84/sa-bbox-wgs84.shp', driver='ESRI Shapefile')\n",
    "\n",
    "test_df = dem_val_df\n",
    "\n",
    "for input_filename in input_filenames:\n",
    "    test_df['day']=np.nan\n",
    "    test_df['hour']=np.nan\n",
    "    test_df['dayhour']=\"\"\n",
    "    \n",
    "    for i in range(test_df.shape[0]):\n",
    "        tiff_name = input_filename\n",
    "        day, hour = tiff_name.split('_day')[-1].split('_')\n",
    "        test_df.iat[i,test_df.columns.get_loc('day')] = day\n",
    "        test_df.iat[i,test_df.columns.get_loc('hour')] = hour[1:3]\n",
    "        test_df.iat[i,test_df.columns.get_loc('dayhour')] = str(day)+str(hour[1:3])\n",
    "        \n",
    "    ##Extract ERA5 data for the same date and hour    \n",
    "    test_rh_df = extract_val_era5('relative_humidity', f'ERA5_rh_day{day}_h{hour[1:3]}', CAMS_centroids_down, val_rastrize_era5_location)\n",
    "    test_srwc_df = extract_val_era5('specific_rain_water_content', f'ERA5_srwc_day{day}_h{hour[1:3]}' ,CAMS_centroids_down, val_rastrize_era5_location)\n",
    "    test_u_df = extract_val_era5('wind_u', f'ERA5_u_day{day}_h{hour[1:3]}', CAMS_centroids_down, val_rastrize_era5_location)\n",
    "    test_v_df = extract_val_era5('wind_v', f'ERA5_v_day{day}_h{hour[1:3]}' ,CAMS_centroids_down, val_rastrize_era5_location)\n",
    "    \n",
    "    \n",
    "    ## Join ERA5 & DEM data with (location)\n",
    "    test_X = pd.merge(test_rh_df, test_df, on=['lon', 'lat'], how='inner')\n",
    "    test_X = pd.merge(test_X, test_srwc_df, on=['lon', 'lat'], how='inner')\n",
    "    test_X = pd.merge(test_X, test_u_df, on=['lon', 'lat'], how='inner')\n",
    "    test_X = pd.merge(test_X, test_v_df, on=['lon', 'lat'], how='inner')\n",
    "    \n",
    "\n",
    "    # X inputs\n",
    "    test_X = np.array(test_X.drop(['day','dayhour','raster_x','raster_y'], axis=1))\n",
    "    \n",
    "    ## PREDICTION\n",
    "    predicted_CAMS = rf.predict(test_X)\n",
    "    \n",
    "    #test_df['predicted_CAMS'] = predicted_CAMS\n",
    "    \n",
    "    ## rastrize\n",
    "    minx, miny, maxx, maxy = CAMS_grid_down.geometry.total_bounds\n",
    "    sizey = round((maxy-miny)/yres_down)\n",
    "    sizex = round((maxx-minx)/xres_down)\n",
    "    transform = rio.transform.from_bounds(minx, miny, maxx, maxy, sizex, sizey)\n",
    "    shapes = ((geom, value) for geom, value in zip(CAMS_grid_down.geometry, predicted_CAMS))\n",
    "    upscaled_PM_2_5 = rio.features.rasterize(shapes, out_shape=(sizey, sizex), transform=transform)\n",
    "    \n",
    "    ## export for prediction\n",
    "    export_geotiff(str(submission_dir) + '/South_Africa/PM2.5/'+f'{day}_PM25_South_Africa.tif', upscaled_PM_2_5, transform, 4326)\n",
    "    \n",
    "    mask_tiff('AOIs_bboxes/WGS84/sa-bbox-wgs84.shp', \n",
    "              submission_dir/'South_Africa'/'PM2.5'/f'{day}_PM25_South_Africa.tif', \n",
    "              submission_dir/'South_Africa'/'PM2.5'/f'{day}_PM25_South_Africa.tif')\n",
    "    \n",
    "    ## export them for visualization \n",
    "    export_geotiff(str(visulize_dir) + '/South_Africa/PM2.5/'+f'CAMS_PM25_day{day}_{hour}.tif', upscaled_PM_2_5, transform, 4326)\n",
    "    \n",
    "    mask_tiff('AOIs_bboxes/WGS84/sa-bbox-wgs84.shp', \n",
    "              visulize_dir/'South_Africa'/'PM2.5'/f'CAMS_PM25_day{day}_{hour}.tif', \n",
    "              visulize_dir/'South_Africa'/'PM2.5'/f'CAMS_PM25_day{day}_{hour}.tif')\n",
    "    \n",
    "    \n",
    "    "
   ]
  },
  {
   "cell_type": "code",
   "execution_count": 33,
   "metadata": {},
   "outputs": [],
   "source": [
    "## load upscaled CAMS\n",
    "upscaled_cams_dir = Path('test-visulize/South_Africa/PM2.5')\n",
    "upscaled_img = load_tiffs(upscaled_cams_dir,\n",
    "                          (FeatureType.DATA, 'PM2_5'),\n",
    "                          offset=OFFSET,\n",
    "                          data_source='cams')\n"
   ]
  },
  {
   "cell_type": "code",
   "execution_count": 35,
   "metadata": {},
   "outputs": [
    {
     "data": {
      "image/png": "[encoded data removed]",
      "text/plain": [
       "<Figure size 432x360 with 2 Axes>"
      ]
     },
     "metadata": {
      "needs_background": "light"
     },
     "output_type": "display_data"
    }
   ],
   "source": [
    "\n",
    "time_idx = 5\n",
    "\n",
    "fig, ax = plt.subplots(figsize=(6,5))\n",
    "fh = draw_feature(ax=ax, eopatch=upscaled_img,\n",
    "                  feature=(FeatureType.DATA, 'PM2_5'),\n",
    "                  time_idx=time_idx,\n",
    "                  vmin=0, vmax=80)\n",
    "#pm25_gt_min.plot(ax=ax, color='r', marker='o');\n",
    "fig.colorbar(fh, ax=ax);"
   ]
  },
  {
   "cell_type": "code",
   "execution_count": 36,
   "metadata": {},
   "outputs": [
    {
     "data": {
      "image/png": "[encoded data removed]",
      "text/plain": [
       "<Figure size 432x360 with 2 Axes>"
      ]
     },
     "metadata": {
      "needs_background": "light"
     },
     "output_type": "display_data"
    }
   ],
   "source": [
    "\n",
    "time_idx = 6\n",
    "\n",
    "fig, ax = plt.subplots(figsize=(6,5))\n",
    "fh = draw_feature(ax=ax, eopatch=upscaled_img,\n",
    "                  feature=(FeatureType.DATA, 'PM2_5'),\n",
    "                  time_idx=time_idx,\n",
    "                  vmin=0, vmax=80)\n",
    "#pm25_gt_min.plot(ax=ax, color='r', marker='o');\n",
    "fig.colorbar(fh, ax=ax);"
   ]
  },
  {
   "cell_type": "code",
   "execution_count": null,
   "metadata": {},
   "outputs": [],
   "source": []
  }
 ],
 "metadata": {
  "kernelspec": {
   "display_name": "Python 3",
   "language": "python",
   "name": "python3"
  },
  "language_info": {
   "codemirror_mode": {
    "name": "ipython",
    "version": 3
   },
   "file_extension": ".py",
   "mimetype": "text/x-python",
   "name": "python",
   "nbconvert_exporter": "python",
   "pygments_lexer": "ipython3",
   "version": "3.6.9"
  }
 },
 "nbformat": 4,
 "nbformat_minor": 4
}
