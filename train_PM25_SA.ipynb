{
 "cells": [
  {
   "cell_type": "markdown",
   "metadata": {},
   "source": [
    "# South Africa"
   ]
  },
  {
   "cell_type": "markdown",
   "metadata": {},
   "source": [
    "CAMS PM2.5: Original resolution: 40km x 40km. Improved resolution: 10km x 10km.\n",
    "\n",
    "Predictors used at the moment:\n",
    "* DEM"
   ]
  },
  {
   "cell_type": "code",
   "execution_count": 1,
   "metadata": {},
   "outputs": [],
   "source": [
    "# Built-in modules\n",
    "import os\n",
    "import gzip\n",
    "import shutil\n",
    "from pathlib import Path\n",
    "from datetime import datetime, timedelta\n",
    "import glob\n",
    "import re\n",
    "import warnings\n",
    "from collections import defaultdict\n",
    "\n",
    "# Basics of Python data handling and visualization\n",
    "import fs\n",
    "import numpy as np\n",
    "import pandas as pd\n",
    "import geopandas as gpd\n",
    "import matplotlib.pyplot as plt\n",
    "from matplotlib.colors import ListedColormap\n",
    "from tqdm.auto import tqdm\n",
    "from shapely import wkt\n",
    "import rasterio as rio\n",
    "from shapely import geometry\n",
    "from rasterstats import zonal_stats\n",
    "import seaborn as sns\n",
    "\n",
    "# Modelling\n",
    "from sklearn.ensemble import RandomForestRegressor\n",
    "from sklearn import metrics\n",
    "from sklearn.model_selection import cross_validate, GroupKFold\n",
    "import statistics \n",
    "\n",
    "# Imports from eo-learn and sentinelhub-py\n",
    "from eolearn.core import EOPatch, EOTask, LinearWorkflow, FeatureType, AddFeature, MapFeatureTask, MergeFeatureTask, RemoveFeature,LoadTask, SaveTask, OverwritePermission\n",
    "from sentinelhub import bbox_to_dimensions, bbox_to_resolution\n",
    "from eolearn.io import ExportToTiff\n",
    "\n",
    "# Visualisation utils\n",
    "from utils import (get_extent, \n",
    "                   draw_outline, \n",
    "                   draw_bbox, \n",
    "                   draw_feature, \n",
    "                   draw_true_color,\n",
    "                   unzip_file,\n",
    "                   load_tiffs,\n",
    "                   days_to_datetimes,\n",
    "                   datetimes_to_days,\n",
    "                   reproject_tiff,\n",
    "                   upscale_tiff,\n",
    "                   mask_tiff)# South Africa\n",
    "\n",
    "from utils_carles import polygrid, export_geotiff, percs_landuse, upscale_mean_tiff, extract_points_from_raster"
   ]
  },
  {
   "cell_type": "code",
   "execution_count": 2,
   "metadata": {},
   "outputs": [],
   "source": [
    "DATA_DIR = Path('training_dataset_south_africa')\n",
    "AOIS = ['South_Africa']"
   ]
  },
  {
   "cell_type": "code",
   "execution_count": 3,
   "metadata": {},
   "outputs": [],
   "source": [
    "OFFSET = 2100\n",
    "NO_DATA_VALUE = -9999.0"
   ]
  },
  {
   "cell_type": "code",
   "execution_count": 4,
   "metadata": {},
   "outputs": [],
   "source": [
    "# CHANGE THIS VALUE to True IF PRE-PROCESSING NEEDS TO BE DONE\n",
    "preproc = False"
   ]
  },
  {
   "cell_type": "markdown",
   "metadata": {},
   "source": [
    "## Pre-processing (training data)"
   ]
  },
  {
   "cell_type": "markdown",
   "metadata": {},
   "source": [
    "Prepare CAMS data. I do not do any temporal adjustment because we're using DEM for now. EPSG=4326."
   ]
  },
  {
   "cell_type": "code",
   "execution_count": 13,
   "metadata": {},
   "outputs": [],
   "source": [
    "# Read CAMS PM2.5\n",
    "cams_train_dir = DATA_DIR/AOIS[0]/'CAMS'\n",
    "cams_train_eop = load_tiffs(cams_train_dir/'PM2_5', \n",
    "                            (FeatureType.DATA, 'PM2_5'), \n",
    "                            offset=OFFSET,\n",
    "                            data_source='cams') "
   ]
  },
  {
   "cell_type": "code",
   "execution_count": 6,
   "metadata": {},
   "outputs": [
    {
     "name": "stderr",
     "output_type": "stream",
     "text": [
      "/usr/local/lib/python3.6/dist-packages/ipykernel_launcher.py:7: UserWarning: Geometry is in a geographic CRS. Results from 'centroid' are likely incorrect. Use 'GeoSeries.to_crs()' to re-project geometries to a projected CRS before this operation.\n",
      "\n",
      "  import sys\n"
     ]
    },
    {
     "data": {
      "image/png": "[encoded data removed]",
      "text/plain": [
       "<Figure size 432x288 with 1 Axes>"
      ]
     },
     "metadata": {
      "needs_background": "light"
     },
     "output_type": "display_data"
    }
   ],
   "source": [
    "# Create rectangular grid for pixels corresponding to CAMS\n",
    "bounds = list(cams_train_eop.bbox)\n",
    "res = (bounds[2]-bounds[0])/cams_train_eop.data[\"PM2_5\"].shape[1]\n",
    "bounds = geometry.box(bounds[0], bounds[1], bounds[2], bounds[3])\n",
    "bounds = gpd.GeoDataFrame({\"id\":1,\"geometry\":[bounds]}, crs=\"EPSG:4326\")\n",
    "CAMS_grid = polygrid(bounds, res, 4326)\n",
    "CAMS_centroids = gpd.GeoDataFrame(geometry= CAMS_grid.centroid)\n",
    "p = CAMS_grid.boundary.plot()\n",
    "CAMS_centroids.plot(ax=p, color='red')\n",
    "plt.show()"
   ]
  },
  {
   "cell_type": "code",
   "execution_count": 8,
   "metadata": {},
   "outputs": [
    {
     "data": {
      "image/png": "[encoded data removed]",
      "text/plain": [
       "<Figure size 432x360 with 2 Axes>"
      ]
     },
     "metadata": {
      "needs_background": "light"
     },
     "output_type": "display_data"
    }
   ],
   "source": [
    "# Draw a sample\n",
    "fig, ax = plt.subplots(figsize=(6,5))\n",
    "fh = draw_feature(ax=ax, eopatch=cams_train_eop, \n",
    "                 feature=(FeatureType.DATA, 'PM2_5'), \n",
    "                 time_idx=8, \n",
    "                 vmin=0, vmax=100)\n",
    "fig.colorbar(fh, ax=ax);"
   ]
  },
  {
   "cell_type": "markdown",
   "metadata": {},
   "source": [
    "Prepare DEM data at 1km resolution to make computations easier. EPSG=4326"
   ]
  },
  {
   "cell_type": "code",
   "execution_count": 9,
   "metadata": {},
   "outputs": [],
   "source": [
    "# Resampling DEM to 1 Km with the same bounding box of CAMS to make it manageable. Use custom function to use mean.\n",
    "if preproc:\n",
    "    # Get resampling dimensions\n",
    "    target_size = bbox_to_dimensions(cams_train_eop.bbox, 1000)\n",
    "\n",
    "    # Sampling files to 40 km using bilinear interpolaiton\n",
    "    path_in = str(DATA_DIR/AOIS[0])+'/DEM/COP_DSM_south_africa_GLO-30.tif'\n",
    "    path_out = str(DATA_DIR/AOIS[0])+'/DEM/DEM_1km.tif'\n",
    "    upscale_mean_tiff(path_in, path_out, target_size)"
   ]
  },
  {
   "cell_type": "markdown",
   "metadata": {},
   "source": [
    "Now compute mean DEM per CAMS pixel"
   ]
  },
  {
   "cell_type": "code",
   "execution_count": 10,
   "metadata": {},
   "outputs": [],
   "source": [
    "# Read resampled DEM at 1 km\n",
    "if preproc:\n",
    "    dem_train_dir = DATA_DIR/AOIS[0]/'DEM'\n",
    "    dem_train_eop = load_tiffs(datapath=dem_train_dir,\n",
    "                              feature=(FeatureType.DATA_TIMELESS, 'DEM'), \n",
    "                              filename='DEM_1km.tif',\n",
    "                              no_data_value=128)\n",
    "    \n",
    "    # Perform zonal statistics - mean altitude per CAMS pixel\n",
    "    src = rio.open(str(dem_train_dir) + '/DEM_1km.tif')\n",
    "    affine = src.transform\n",
    "    array = dem_train_eop.data_timeless['DEM']\n",
    "    array = array[:, :, 0] # Remove one dimension\n",
    "    dem_grid = CAMS_grid\n",
    "    zstats = zonal_stats(dem_grid, array, affine=affine, stats=\"mean\", nodata=np.nan)\n",
    "    vals = []\n",
    "    for index, value in enumerate(zstats):\n",
    "        vals.append(value['mean'])\n",
    "    dem_grid['elevation'] = vals"
   ]
  },
  {
   "cell_type": "code",
   "execution_count": 11,
   "metadata": {},
   "outputs": [],
   "source": [
    "# Now we can rasterize\n",
    "if preproc:\n",
    "    minx, miny, maxx, maxy = CAMS_grid.geometry.total_bounds\n",
    "    sizey = round((maxy-miny)/res)\n",
    "    sizex = round((maxx-minx)/res)\n",
    "    transform = rio.transform.from_bounds(minx, miny, maxx, maxy, sizex, sizey)\n",
    "    shapes = ((geom, value) for geom, value in zip(dem_grid.geometry, dem_grid['elevation']))\n",
    "    dem = rio.features.rasterize(shapes, out_shape=(sizey, sizex), transform=transform)\n",
    "    dem\n",
    "    export_geotiff(str(dem_train_dir) + '/DEM_CAMS.tif', dem, transform, 4326)"
   ]
  },
  {
   "cell_type": "code",
   "execution_count": 12,
   "metadata": {},
   "outputs": [
    {
     "data": {
      "image/png": "[encoded data removed]",
      "text/plain": [
       "<Figure size 432x360 with 2 Axes>"
      ]
     },
     "metadata": {
      "needs_background": "light"
     },
     "output_type": "display_data"
    }
   ],
   "source": [
    "# Read and visualize\n",
    "dem_train_dir = DATA_DIR/AOIS[0]/'DEM'\n",
    "dem_train_eop = load_tiffs(datapath=dem_train_dir,\n",
    "                           feature=(FeatureType.DATA_TIMELESS, 'DEM'), \n",
    "                           filename='DEM_CAMS.tif')\n",
    "\n",
    "fig, ax = plt.subplots(figsize=(6,5))\n",
    "fh = draw_feature(ax=ax, eopatch=dem_train_eop, \n",
    "                 feature=(FeatureType.DATA_TIMELESS, 'DEM'), \n",
    "                 time_idx=None, \n",
    "                 vmin=0, vmax=1800)\n",
    "fig.colorbar(fh, ax=ax);"
   ]
  },
  {
   "cell_type": "markdown",
   "metadata": {},
   "source": [
    "### Prepare ERA5"
   ]
  },
  {
   "cell_type": "code",
   "execution_count": null,
   "metadata": {},
   "outputs": [],
   "source": [
    "# load ERA5 \n",
    "era5_train_dir = DATA_DIR/AOIS[0]/'era5'\n",
    "era5_products = sorted(os.listdir(era5_train_dir))\n",
    "\n",
    "# Load data\n",
    "era5_eops = [load_tiffs(era5_train_dir/era5_p, \n",
    "                        (FeatureType.DATA, era5_p), \n",
    "                        offset=OFFSET, \n",
    "                        image_dtype=np.float32,\n",
    "                        data_source='era5') \n",
    "             for era5_p in era5_products]\n",
    "\n",
    "# Merge into one EOPS\n",
    "era5_eop = EOPatch(data={'relative_humidity': era5_eops[0].data['relative_humidity'], \n",
    "                         'specific_rain_water_content': era5_eops[1].data['specific_rain_water_content'],\n",
    "                        'wind_u': era5_eops[2].data['wind_u'],\n",
    "                        'wind_v': era5_eops[3].data['wind_v']},\n",
    "                   meta_info={'Names_relative_humidity': era5_eops[0].meta_info['Names'],\n",
    "                              'Names_specific_rain_water_content': era5_eops[1].meta_info['Names'],\n",
    "                             'Names_wind_u': era5_eops[2].meta_info['Names'],\n",
    "                             'Names_wind_v': era5_eops[3].meta_info['Names']},\n",
    "                     timestamp=era5_eops[0].timestamp,\n",
    "                     bbox=era5_eops[0].bbox)\n",
    "del era5_eops\n",
    "era5_eop"
   ]
  },
  {
   "cell_type": "code",
   "execution_count": null,
   "metadata": {},
   "outputs": [],
   "source": [
    "# Perform zonal statistics - ERA5 products per CAMS pixel\n",
    "# Rastrize the new CAMS zonal stats and save them on disk\n",
    "\n",
    "era5_location=  str(DATA_DIR/AOIS[0])+'/era5'\n",
    "\n",
    "## location of exported tiff (ERA5 matching CAMS grid)\n",
    "era5_cams_location = str(DATA_DIR/AOIS[0])+'/rastrize_era5_cams'\n",
    "if not os.path.isdir(era5_cams_location):\n",
    "    os.makedirs(era5_cams_location)\n",
    "    for i in era5_products:\n",
    "        os.mkdir(era5_cams_location + '/' + i)    \n",
    "\n",
    "for era5_p in era5_products:\n",
    "    i=0\n",
    "    for era5_path in glob.glob(str(era5_location) + '/' + era5_p + '/' +  '*.tif'):\n",
    "        src = rio.open(era5_path)\n",
    "        affine = src.transform\n",
    "        array = era5_eop.data[era5_p][i]\n",
    "        array = array[:, :, 0]\n",
    "        era5_grid = CAMS_grid\n",
    "        era5_stats = zonal_stats(era5_grid, array, affine=affine, stats=\"mean\", nodata=np.nan)\n",
    "        \n",
    "        vals = []\n",
    "        for index, value in enumerate(era5_stats):\n",
    "            vals.append(value['mean'])\n",
    "            \n",
    "        era5_grid[era5_p] = vals\n",
    "        \n",
    "        # rasterize\n",
    "        minx, miny, maxx, maxy = CAMS_grid.geometry.total_bounds\n",
    "        sizey = round((maxy-miny)/res)\n",
    "        sizex = round((maxx-minx)/res)\n",
    "\n",
    "        transform = rio.transform.from_bounds(minx, miny, maxx, maxy, sizex, sizey)\n",
    "        shapes = ((geom, value) for geom, value in zip(era5_grid.geometry, era5_grid[era5_p]))\n",
    "        era5 = rio.features.rasterize(shapes, out_shape=(sizey, sizex), transform=transform)\n",
    "        tiffname = era5_eop.meta_info['Names_'+ era5_p][i]\n",
    "        export_geotiff(str(era5_cams_location) + '/' +era5_p + '/'+ tiffname, era5, transform, 4326)\n",
    "\n",
    "    \n",
    "        i+=1\n",
    "\n",
    "del era5_eop"
   ]
  },
  {
   "cell_type": "code",
   "execution_count": null,
   "metadata": {},
   "outputs": [],
   "source": [
    "## Read rastraized CAMS \n",
    "\n",
    "# Prepare directory and product list\n",
    "era5_train_dir = DATA_DIR/AOIS[0]/'era5'\n",
    "era5_products = sorted(os.listdir(era5_train_dir))\n",
    "\n",
    "era5_cams_location = str(DATA_DIR/AOIS[0])+'/rastrize_era5_cams'\n",
    "ras_era5_location=Path(era5_cams_location)\n",
    "\n",
    "# Load data\n",
    "ras_era5_eops = [load_tiffs(ras_era5_location/era5_p, \n",
    "                        (FeatureType.DATA, era5_p), \n",
    "                        offset=OFFSET, \n",
    "                        image_dtype=np.float32,\n",
    "                        data_source='era5') \n",
    "             for era5_p in era5_products]\n",
    "\n",
    "\n",
    "\n",
    "# Merge into one EOPS\n",
    "ras_era5_eop = EOPatch(data={'relative_humidity': ras_era5_eops[0].data['relative_humidity'], \n",
    "                              'specific_rain_water_content': ras_era5_eops[1].data['specific_rain_water_content'],\n",
    "                              'wind_u': ras_era5_eops[2].data['wind_u'],\n",
    "                              'wind_v': ras_era5_eops[3].data['wind_v']},\n",
    "                        meta_info={'Names_relative_humidity': ras_era5_eops[0].meta_info['Names'],\n",
    "                                   'Names_specific_rain_water_content':ras_era5_eops[1].meta_info['Names'],\n",
    "                                   'Names_wind_u': ras_era5_eops[2].meta_info['Names'],\n",
    "                                   'Names_wind_v': ras_era5_eops[3].meta_info['Names']},\n",
    "                        timestamp= ras_era5_eops[0].timestamp,\n",
    "                        bbox= ras_era5_eops[0].bbox)\n",
    "\n",
    "del ras_era5_eops\n",
    "ras_era5_eop"
   ]
  },
  {
   "cell_type": "code",
   "execution_count": null,
   "metadata": {},
   "outputs": [],
   "source": [
    "## plot rastraized CAMS \n",
    "\n",
    "fig, axs = plt.subplots(figsize=(25, 5), ncols=4)\n",
    "\n",
    "time_idx = 1\n",
    "\n",
    "normalisations = [dict(vmin=np.min(ras_era5_eop.data[era5_p]), \n",
    "                       vmax=np.max(ras_era5_eop.data[era5_p])) \n",
    "                  for era5_p in era5_products]\n",
    "\n",
    "for nn, (fname, norm) in enumerate(zip(era5_products, normalisations)):\n",
    "    fh = draw_feature(ax=axs[nn], eopatch=ras_era5_eop, \n",
    "                      feature=(FeatureType.DATA, fname),\n",
    "                      time_idx=time_idx, \n",
    "                      **norm,\n",
    "                      alpha=.9, cmap=plt.cm.jet)\n",
    "    fig.colorbar(fh, ax=axs[nn])"
   ]
  },
  {
   "cell_type": "markdown",
   "metadata": {},
   "source": [
    "# Data merging"
   ]
  },
  {
   "cell_type": "markdown",
   "metadata": {},
   "source": [
    "Now that everything is in the same format, we need to create our training datasets to start modelling."
   ]
  },
  {
   "cell_type": "code",
   "execution_count": 13,
   "metadata": {},
   "outputs": [],
   "source": [
    "# Extract DEM\n",
    "dem_train_dir = DATA_DIR/AOIS[0]/'DEM'\n",
    "if preproc:\n",
    "    raster_path = str(dem_train_dir) + '/DEM_CAMS.tif'\n",
    "    dem_df = extract_points_from_raster(CAMS_centroids, raster_path, 'DEM')\n",
    "    dem_df = dem_df.dropna()\n",
    "    dem_df = dem_df.drop('raster', 1)"
   ]
  },
  {
   "cell_type": "code",
   "execution_count": 14,
   "metadata": {},
   "outputs": [],
   "source": [
    "# Extract CAMS\n",
    "\n",
    "cams_train_dir = DATA_DIR/AOIS[0]/'CAMS'\n",
    "CAMS_df = []\n",
    "for CAMS_path in glob.glob(str(cams_train_dir) + '/PM2_5/*.tif'):\n",
    "    it_df = extract_points_from_raster(CAMS_centroids, CAMS_path, 'CAMS')\n",
    "    CAMS_df.append(it_df)\n",
    "\n",
    "CAMS_df = pd.concat(CAMS_df)\n"
   ]
  },
  {
   "cell_type": "code",
   "execution_count": null,
   "metadata": {},
   "outputs": [],
   "source": [
    "# Extract ERA5\n",
    "mean_era5_cams_location = str(DATA_DIR/AOIS[0])+'/rastrize_era5_cams'\n",
    "\n",
    "\n",
    "def exera5(era5_p):\n",
    "    era5_df = []\n",
    "    for era5_path in glob.glob(str(mean_era5_cams_location) + '/'+ era5_p +'/*.tif'):\n",
    "        it_df = extract_points_from_raster(CAMS_centroids, era5_path, era5_p)\n",
    "        era5_df.append(it_df)\n",
    "    era5_df = pd.concat(era5_df)\n",
    "    return era5_df\n",
    "\n",
    "relative_humidity_df = exera5('relative_humidity')\n",
    "specific_rain_water_content_df = exera5('specific_rain_water_content')\n",
    "wind_u_df = exera5('wind_u')\n",
    "wind_v_df = exera5('wind_v')\n",
    "\n",
    "relative_humidity_df = relative_humidity_df.dropna()\n",
    "specific_rain_water_content_df = specific_rain_water_content_df.dropna()\n",
    "wind_u_df = wind_u_df.dropna()\n",
    "wind_v_df = wind_v_df.dropna()"
   ]
  },
  {
   "cell_type": "code",
   "execution_count": null,
   "metadata": {},
   "outputs": [],
   "source": [
    "## Extract the tiff names\n",
    "\n",
    "CAMS_df['raster'] = CAMS_df['raster'].replace(str(cams_train_dir) + '/PM2_5/','',regex=True)\n",
    "\n",
    "for era5_p, name in [(relative_humidity_df,'relative_humidity'),(specific_rain_water_content_df,'specific_rain_water_content'),(wind_u_df,'wind_u'),(wind_v_df,'wind_v')]:\n",
    "    era5_p['raster'] = era5_p['raster'].replace(str(mean_era5_cams_location) + '/' + name + '/','',regex=True)\n"
   ]
  },
  {
   "cell_type": "code",
   "execution_count": null,
   "metadata": {},
   "outputs": [],
   "source": [
    "### Extract the day and time of observations \n",
    "\n",
    "day_hour_df=[CAMS_df,relative_humidity_df,specific_rain_water_content_df,wind_u_df,wind_v_df]\n",
    "for df in day_hour_df:\n",
    "    df['day']=np.nan\n",
    "    df['hour']=np.nan\n",
    "    df['dayhour']=\"\"\n",
    "    for i in range(df.shape[0]):\n",
    "        tiff_name = df.iloc[i]['raster']\n",
    "        day, hour = tiff_name.split('_day')[-1].split('_')\n",
    "        \n",
    "        df.iat[i,df.columns.get_loc('day')] = day\n",
    "        df.iat[i,df.columns.get_loc('hour')] = hour[1:3]\n",
    "        df.iat[i,df.columns.get_loc('dayhour')] = str(day)+str(hour[1:3])\n",
    "        \n",
    "CAMS_df = CAMS_df.drop('raster', 1)\n",
    "relative_humidity_df = relative_humidity_df.drop('raster', 1)\n",
    "specific_rain_water_content_df = specific_rain_water_content_df.drop('raster', 1)\n",
    "wind_u_df = wind_u_df.drop('raster', 1)\n",
    "wind_v_df = wind_v_df.drop('raster', 1)"
   ]
  },
  {
   "cell_type": "code",
   "execution_count": null,
   "metadata": {},
   "outputs": [],
   "source": [
    "# write to disk each data frame\n",
    "\n",
    "for df,name in [(CAMS_df,'CAMS_df.csv'),(relative_humidity_df,'relative_humidity_df.csv'),(specific_rain_water_content_df,'specific_rain_water_content_df.csv'),(wind_u_df,'wind_u_df.csv'),(wind_v_df,'wind_v_df.csv')]:\n",
    "    df.to_csv(str(DATA_DIR) + '/'+name)"
   ]
  },
  {
   "cell_type": "code",
   "execution_count": 15,
   "metadata": {},
   "outputs": [],
   "source": [
    "# Inner join by time & coordinates (CAMS & ERA5)\n",
    "train_df = pd.merge(CAMS_df, relative_humidity_df, on=['day','hour','lon', 'lat'], how='inner')\n",
    "train_df = pd.merge(train_df, specific_rain_water_content_df, on=['day','hour','lon', 'lat'], how='inner')\n",
    "train_df = pd.merge(train_df, wind_u_df, on=['day','hour','lon', 'lat'], how='inner')\n",
    "train_df = pd.merge(train_df, wind_v_df, on=['day','hour','lon', 'lat'], how='inner')\n",
    "\n",
    "# Inner join by coordinates\n",
    "\n",
    "if preproc:\n",
    "    train_df = pd.merge(train_df, dem_df, on=['lon', 'lat'], how='inner')\n",
    "\n",
    "    \n",
    "#write to disk\n",
    "train_df.to_csv(str(DATA_DIR) + '/training_data.csv')"
   ]
  },
  {
   "cell_type": "code",
   "execution_count": 5,
   "metadata": {},
   "outputs": [],
   "source": [
    "# Read data\n",
    "train_df = pd.read_csv(str(DATA_DIR) + '/training_data.csv', index_col=0)\n",
    "\n",
    "\n",
    "CAMS_df = pd.read_csv(str(DATA_DIR) + '/CAMS_df.csv', index_col=0)\n",
    "relative_humidity_df = pd.read_csv(str(DATA_DIR) + '/relative_humidity_df.csv', index_col=0)\n",
    "specific_rain_water_content_df = pd.read_csv(str(DATA_DIR) + '/specific_rain_water_content_df.csv', index_col=0)\n",
    "wind_u_df = pd.read_csv(str(DATA_DIR) + '/wind_u_df.csv', index_col=0)\n",
    "wind_v_df = pd.read_csv(str(DATA_DIR) + '/wind_v_df.csv', index_col=0)\n"
   ]
  },
  {
   "cell_type": "markdown",
   "metadata": {},
   "source": [
    "## Exploratory analysis"
   ]
  },
  {
   "cell_type": "markdown",
   "metadata": {},
   "source": [
    "Summary statistics:"
   ]
  },
  {
   "cell_type": "code",
   "execution_count": 10,
   "metadata": {},
   "outputs": [
    {
     "data": {
      "text/html": [
       "<div>\n",
       "<style scoped>\n",
       "    .dataframe tbody tr th:only-of-type {\n",
       "        vertical-align: middle;\n",
       "    }\n",
       "\n",
       "    .dataframe tbody tr th {\n",
       "        vertical-align: top;\n",
       "    }\n",
       "\n",
       "    .dataframe thead th {\n",
       "        text-align: right;\n",
       "    }\n",
       "</style>\n",
       "<table border=\"1\" class=\"dataframe\">\n",
       "  <thead>\n",
       "    <tr style=\"text-align: right;\">\n",
       "      <th></th>\n",
       "      <th>lon</th>\n",
       "      <th>lat</th>\n",
       "      <th>CAMS</th>\n",
       "      <th>day</th>\n",
       "      <th>hour</th>\n",
       "      <th>dayhour_x</th>\n",
       "      <th>relative_humidity</th>\n",
       "      <th>dayhour_y</th>\n",
       "      <th>specific_rain_water_content</th>\n",
       "      <th>dayhour_x.1</th>\n",
       "      <th>wind_u</th>\n",
       "      <th>dayhour_y.1</th>\n",
       "      <th>wind_v</th>\n",
       "      <th>dayhour</th>\n",
       "      <th>DEM</th>\n",
       "    </tr>\n",
       "  </thead>\n",
       "  <tbody>\n",
       "    <tr>\n",
       "      <th>count</th>\n",
       "      <td>30912.00000</td>\n",
       "      <td>30912.000000</td>\n",
       "      <td>3.091200e+04</td>\n",
       "      <td>30912.000000</td>\n",
       "      <td>30912.000000</td>\n",
       "      <td>30912.000000</td>\n",
       "      <td>30912.000000</td>\n",
       "      <td>30912.000000</td>\n",
       "      <td>3.091200e+04</td>\n",
       "      <td>30912.000000</td>\n",
       "      <td>30912.000000</td>\n",
       "      <td>30912.000000</td>\n",
       "      <td>30912.000000</td>\n",
       "      <td>30912.000000</td>\n",
       "      <td>30912.000000</td>\n",
       "    </tr>\n",
       "    <tr>\n",
       "      <th>mean</th>\n",
       "      <td>29.12500</td>\n",
       "      <td>-25.690001</td>\n",
       "      <td>5.000133e+01</td>\n",
       "      <td>2186.500000</td>\n",
       "      <td>10.500000</td>\n",
       "      <td>218660.500000</td>\n",
       "      <td>50.688009</td>\n",
       "      <td>218660.500000</td>\n",
       "      <td>2.847053e-07</td>\n",
       "      <td>218660.500000</td>\n",
       "      <td>0.024323</td>\n",
       "      <td>218660.500000</td>\n",
       "      <td>-0.459328</td>\n",
       "      <td>218660.500000</td>\n",
       "      <td>1218.480637</td>\n",
       "    </tr>\n",
       "    <tr>\n",
       "      <th>std</th>\n",
       "      <td>1.28089</td>\n",
       "      <td>1.500024</td>\n",
       "      <td>7.558657e+01</td>\n",
       "      <td>26.556973</td>\n",
       "      <td>6.873975</td>\n",
       "      <td>2655.706197</td>\n",
       "      <td>22.444966</td>\n",
       "      <td>2655.706197</td>\n",
       "      <td>2.094396e-06</td>\n",
       "      <td>2655.706197</td>\n",
       "      <td>2.059940</td>\n",
       "      <td>2655.706197</td>\n",
       "      <td>1.629936</td>\n",
       "      <td>2655.706197</td>\n",
       "      <td>324.931958</td>\n",
       "    </tr>\n",
       "    <tr>\n",
       "      <th>min</th>\n",
       "      <td>27.25000</td>\n",
       "      <td>-27.940001</td>\n",
       "      <td>-1.058791e-13</td>\n",
       "      <td>2141.000000</td>\n",
       "      <td>0.000000</td>\n",
       "      <td>214100.000000</td>\n",
       "      <td>4.659235</td>\n",
       "      <td>214100.000000</td>\n",
       "      <td>0.000000e+00</td>\n",
       "      <td>214100.000000</td>\n",
       "      <td>-7.776433</td>\n",
       "      <td>214100.000000</td>\n",
       "      <td>-8.252639</td>\n",
       "      <td>214100.000000</td>\n",
       "      <td>306.318828</td>\n",
       "    </tr>\n",
       "    <tr>\n",
       "      <th>25%</th>\n",
       "      <td>28.00000</td>\n",
       "      <td>-27.190001</td>\n",
       "      <td>1.116119e+01</td>\n",
       "      <td>2163.750000</td>\n",
       "      <td>5.250000</td>\n",
       "      <td>216380.250000</td>\n",
       "      <td>32.101578</td>\n",
       "      <td>216380.250000</td>\n",
       "      <td>0.000000e+00</td>\n",
       "      <td>216380.250000</td>\n",
       "      <td>-1.448568</td>\n",
       "      <td>216380.250000</td>\n",
       "      <td>-1.466083</td>\n",
       "      <td>216380.250000</td>\n",
       "      <td>975.806744</td>\n",
       "    </tr>\n",
       "    <tr>\n",
       "      <th>50%</th>\n",
       "      <td>29.12500</td>\n",
       "      <td>-25.690001</td>\n",
       "      <td>2.539156e+01</td>\n",
       "      <td>2186.500000</td>\n",
       "      <td>10.500000</td>\n",
       "      <td>218660.500000</td>\n",
       "      <td>48.155302</td>\n",
       "      <td>218660.500000</td>\n",
       "      <td>0.000000e+00</td>\n",
       "      <td>218660.500000</td>\n",
       "      <td>-0.109047</td>\n",
       "      <td>218660.500000</td>\n",
       "      <td>-0.440190</td>\n",
       "      <td>218660.500000</td>\n",
       "      <td>1228.195956</td>\n",
       "    </tr>\n",
       "    <tr>\n",
       "      <th>75%</th>\n",
       "      <td>30.25000</td>\n",
       "      <td>-24.190001</td>\n",
       "      <td>5.440698e+01</td>\n",
       "      <td>2209.250000</td>\n",
       "      <td>15.750000</td>\n",
       "      <td>220940.750000</td>\n",
       "      <td>67.838717</td>\n",
       "      <td>220940.750000</td>\n",
       "      <td>0.000000e+00</td>\n",
       "      <td>220940.750000</td>\n",
       "      <td>1.380811</td>\n",
       "      <td>220940.750000</td>\n",
       "      <td>0.581394</td>\n",
       "      <td>220940.750000</td>\n",
       "      <td>1499.884498</td>\n",
       "    </tr>\n",
       "    <tr>\n",
       "      <th>max</th>\n",
       "      <td>31.00000</td>\n",
       "      <td>-23.440001</td>\n",
       "      <td>1.615520e+03</td>\n",
       "      <td>2232.000000</td>\n",
       "      <td>21.000000</td>\n",
       "      <td>223221.000000</td>\n",
       "      <td>100.399574</td>\n",
       "      <td>223221.000000</td>\n",
       "      <td>7.054788e-05</td>\n",
       "      <td>223221.000000</td>\n",
       "      <td>9.390078</td>\n",
       "      <td>223221.000000</td>\n",
       "      <td>6.588699</td>\n",
       "      <td>223221.000000</td>\n",
       "      <td>1663.530354</td>\n",
       "    </tr>\n",
       "  </tbody>\n",
       "</table>\n",
       "</div>"
      ],
      "text/plain": [
       "               lon           lat          CAMS           day          hour  \\\n",
       "count  30912.00000  30912.000000  3.091200e+04  30912.000000  30912.000000   \n",
       "mean      29.12500    -25.690001  5.000133e+01   2186.500000     10.500000   \n",
       "std        1.28089      1.500024  7.558657e+01     26.556973      6.873975   \n",
       "min       27.25000    -27.940001 -1.058791e-13   2141.000000      0.000000   \n",
       "25%       28.00000    -27.190001  1.116119e+01   2163.750000      5.250000   \n",
       "50%       29.12500    -25.690001  2.539156e+01   2186.500000     10.500000   \n",
       "75%       30.25000    -24.190001  5.440698e+01   2209.250000     15.750000   \n",
       "max       31.00000    -23.440001  1.615520e+03   2232.000000     21.000000   \n",
       "\n",
       "           dayhour_x  relative_humidity      dayhour_y  \\\n",
       "count   30912.000000       30912.000000   30912.000000   \n",
       "mean   218660.500000          50.688009  218660.500000   \n",
       "std      2655.706197          22.444966    2655.706197   \n",
       "min    214100.000000           4.659235  214100.000000   \n",
       "25%    216380.250000          32.101578  216380.250000   \n",
       "50%    218660.500000          48.155302  218660.500000   \n",
       "75%    220940.750000          67.838717  220940.750000   \n",
       "max    223221.000000         100.399574  223221.000000   \n",
       "\n",
       "       specific_rain_water_content    dayhour_x.1        wind_u  \\\n",
       "count                 3.091200e+04   30912.000000  30912.000000   \n",
       "mean                  2.847053e-07  218660.500000      0.024323   \n",
       "std                   2.094396e-06    2655.706197      2.059940   \n",
       "min                   0.000000e+00  214100.000000     -7.776433   \n",
       "25%                   0.000000e+00  216380.250000     -1.448568   \n",
       "50%                   0.000000e+00  218660.500000     -0.109047   \n",
       "75%                   0.000000e+00  220940.750000      1.380811   \n",
       "max                   7.054788e-05  223221.000000      9.390078   \n",
       "\n",
       "         dayhour_y.1        wind_v        dayhour           DEM  \n",
       "count   30912.000000  30912.000000   30912.000000  30912.000000  \n",
       "mean   218660.500000     -0.459328  218660.500000   1218.480637  \n",
       "std      2655.706197      1.629936    2655.706197    324.931958  \n",
       "min    214100.000000     -8.252639  214100.000000    306.318828  \n",
       "25%    216380.250000     -1.466083  216380.250000    975.806744  \n",
       "50%    218660.500000     -0.440190  218660.500000   1228.195956  \n",
       "75%    220940.750000      0.581394  220940.750000   1499.884498  \n",
       "max    223221.000000      6.588699  223221.000000   1663.530354  "
      ]
     },
     "execution_count": 10,
     "metadata": {},
     "output_type": "execute_result"
    }
   ],
   "source": [
    "train_df.describe()"
   ]
  },
  {
   "cell_type": "markdown",
   "metadata": {},
   "source": [
    "Association of CAMS with DEM:"
   ]
  },
  {
   "cell_type": "code",
   "execution_count": 11,
   "metadata": {},
   "outputs": [
    {
     "data": {
      "image/png": "[encoded data removed]",
      "text/plain": [
       "<Figure size 432x288 with 1 Axes>"
      ]
     },
     "metadata": {
      "needs_background": "light"
     },
     "output_type": "display_data"
    }
   ],
   "source": [
    "ax1 = train_df.plot.scatter(x='DEM', y='CAMS', c='DarkBlue')"
   ]
  },
  {
   "cell_type": "markdown",
   "metadata": {},
   "source": [
    "Association of CAMS with lon:"
   ]
  },
  {
   "cell_type": "code",
   "execution_count": 12,
   "metadata": {},
   "outputs": [
    {
     "data": {
      "image/png": "[encoded data removed]",
      "text/plain": [
       "<Figure size 432x288 with 1 Axes>"
      ]
     },
     "metadata": {
      "needs_background": "light"
     },
     "output_type": "display_data"
    }
   ],
   "source": [
    "ax2 = train_df.plot.scatter(x='lon', y='CAMS', c='DarkBlue')"
   ]
  },
  {
   "cell_type": "markdown",
   "metadata": {},
   "source": [
    "Association of CAMS with lat:"
   ]
  },
  {
   "cell_type": "code",
   "execution_count": 20,
   "metadata": {},
   "outputs": [
    {
     "data": {
      "image/png": "[encoded data removed]",
      "text/plain": [
       "<Figure size 432x288 with 1 Axes>"
      ]
     },
     "metadata": {
      "needs_background": "light"
     },
     "output_type": "display_data"
    }
   ],
   "source": [
    "ax3 = train_df.plot.scatter(x='lat', y='CAMS', c='DarkBlue')"
   ]
  },
  {
   "cell_type": "markdown",
   "metadata": {},
   "source": [
    "Association of CAMS with hour:"
   ]
  },
  {
   "cell_type": "code",
   "execution_count": 21,
   "metadata": {},
   "outputs": [
    {
     "data": {
      "image/png": "[encoded data removed]",
      "text/plain": [
       "<Figure size 432x288 with 1 Axes>"
      ]
     },
     "metadata": {
      "needs_background": "light"
     },
     "output_type": "display_data"
    }
   ],
   "source": [
    "ax4 = train_df.plot.scatter(x='hour', y='CAMS', c='DarkBlue')"
   ]
  },
  {
   "cell_type": "markdown",
   "metadata": {},
   "source": [
    "Association of CAMS with date:"
   ]
  },
  {
   "cell_type": "code",
   "execution_count": 22,
   "metadata": {},
   "outputs": [
    {
     "data": {
      "image/png": "[encoded data removed]",
      "text/plain": [
       "<Figure size 432x288 with 1 Axes>"
      ]
     },
     "metadata": {
      "needs_background": "light"
     },
     "output_type": "display_data"
    }
   ],
   "source": [
    "ax5 = train_df.plot.scatter(x='date', y='CAMS', c='DarkBlue')"
   ]
  },
  {
   "cell_type": "markdown",
   "metadata": {},
   "source": [
    "Association of CAMS with relative_humidity:"
   ]
  },
  {
   "cell_type": "code",
   "execution_count": 14,
   "metadata": {},
   "outputs": [
    {
     "data": {
      "image/png": "[encoded data removed]",
      "text/plain": [
       "<Figure size 432x288 with 1 Axes>"
      ]
     },
     "metadata": {
      "needs_background": "light"
     },
     "output_type": "display_data"
    }
   ],
   "source": [
    "ax6 = train_df.plot.scatter(x='relative_humidity', y='CAMS', c='DarkBlue')"
   ]
  },
  {
   "cell_type": "markdown",
   "metadata": {},
   "source": [
    "Association of CAMS with specific_rain_water_content:"
   ]
  },
  {
   "cell_type": "code",
   "execution_count": 15,
   "metadata": {},
   "outputs": [
    {
     "data": {
      "image/png": "[encoded data removed]",
      "text/plain": [
       "<Figure size 432x288 with 1 Axes>"
      ]
     },
     "metadata": {
      "needs_background": "light"
     },
     "output_type": "display_data"
    }
   ],
   "source": [
    "ax7 = train_df.plot.scatter(x='specific_rain_water_content', y='CAMS', c='DarkBlue')"
   ]
  },
  {
   "cell_type": "markdown",
   "metadata": {},
   "source": [
    "Association of CAMS with wind_u:"
   ]
  },
  {
   "cell_type": "code",
   "execution_count": 16,
   "metadata": {},
   "outputs": [
    {
     "data": {
      "image/png": "[encoded data removed]",
      "text/plain": [
       "<Figure size 432x288 with 1 Axes>"
      ]
     },
     "metadata": {
      "needs_background": "light"
     },
     "output_type": "display_data"
    }
   ],
   "source": [
    "ax8 = train_df.plot.scatter(x='wind_u', y='CAMS', c='DarkBlue')"
   ]
  },
  {
   "cell_type": "markdown",
   "metadata": {},
   "source": [
    "Association of CAMS with wind_v:"
   ]
  },
  {
   "cell_type": "code",
   "execution_count": 17,
   "metadata": {},
   "outputs": [
    {
     "data": {
      "image/png": "[encoded data removed]",
      "text/plain": [
       "<Figure size 432x288 with 1 Axes>"
      ]
     },
     "metadata": {
      "needs_background": "light"
     },
     "output_type": "display_data"
    }
   ],
   "source": [
    "ax9 = train_df.plot.scatter(x='wind_v', y='CAMS', c='DarkBlue')"
   ]
  },
  {
   "cell_type": "code",
   "execution_count": 13,
   "metadata": {},
   "outputs": [
    {
     "data": {
      "text/html": [
       "<div>\n",
       "<style scoped>\n",
       "    .dataframe tbody tr th:only-of-type {\n",
       "        vertical-align: middle;\n",
       "    }\n",
       "\n",
       "    .dataframe tbody tr th {\n",
       "        vertical-align: top;\n",
       "    }\n",
       "\n",
       "    .dataframe thead th {\n",
       "        text-align: right;\n",
       "    }\n",
       "</style>\n",
       "<table border=\"1\" class=\"dataframe\">\n",
       "  <thead>\n",
       "    <tr style=\"text-align: right;\">\n",
       "      <th></th>\n",
       "      <th>lon</th>\n",
       "      <th>lat</th>\n",
       "      <th>CAMS</th>\n",
       "      <th>day</th>\n",
       "      <th>hour</th>\n",
       "      <th>dayhour_x</th>\n",
       "      <th>relative_humidity</th>\n",
       "      <th>dayhour_y</th>\n",
       "      <th>specific_rain_water_content</th>\n",
       "      <th>dayhour_x.1</th>\n",
       "      <th>wind_u</th>\n",
       "      <th>dayhour_y.1</th>\n",
       "      <th>wind_v</th>\n",
       "      <th>dayhour</th>\n",
       "      <th>DEM</th>\n",
       "    </tr>\n",
       "  </thead>\n",
       "  <tbody>\n",
       "    <tr>\n",
       "      <th>0</th>\n",
       "      <td>27.25</td>\n",
       "      <td>-23.440001</td>\n",
       "      <td>12.745087</td>\n",
       "      <td>2141.0</td>\n",
       "      <td>0.0</td>\n",
       "      <td>214100</td>\n",
       "      <td>78.068685</td>\n",
       "      <td>214100</td>\n",
       "      <td>0.0</td>\n",
       "      <td>214100</td>\n",
       "      <td>-0.804597</td>\n",
       "      <td>214100</td>\n",
       "      <td>1.171631</td>\n",
       "      <td>214100</td>\n",
       "      <td>847.243533</td>\n",
       "    </tr>\n",
       "    <tr>\n",
       "      <th>1</th>\n",
       "      <td>27.25</td>\n",
       "      <td>-23.440001</td>\n",
       "      <td>16.393583</td>\n",
       "      <td>2141.0</td>\n",
       "      <td>3.0</td>\n",
       "      <td>214103</td>\n",
       "      <td>77.721987</td>\n",
       "      <td>214103</td>\n",
       "      <td>0.0</td>\n",
       "      <td>214103</td>\n",
       "      <td>-1.538880</td>\n",
       "      <td>214103</td>\n",
       "      <td>-0.511131</td>\n",
       "      <td>214103</td>\n",
       "      <td>847.243533</td>\n",
       "    </tr>\n",
       "    <tr>\n",
       "      <th>2</th>\n",
       "      <td>27.25</td>\n",
       "      <td>-23.440001</td>\n",
       "      <td>17.552229</td>\n",
       "      <td>2141.0</td>\n",
       "      <td>6.0</td>\n",
       "      <td>214106</td>\n",
       "      <td>75.781603</td>\n",
       "      <td>214106</td>\n",
       "      <td>0.0</td>\n",
       "      <td>214106</td>\n",
       "      <td>-0.609182</td>\n",
       "      <td>214106</td>\n",
       "      <td>-0.350456</td>\n",
       "      <td>214106</td>\n",
       "      <td>847.243533</td>\n",
       "    </tr>\n",
       "    <tr>\n",
       "      <th>3</th>\n",
       "      <td>27.25</td>\n",
       "      <td>-23.440001</td>\n",
       "      <td>13.509299</td>\n",
       "      <td>2141.0</td>\n",
       "      <td>9.0</td>\n",
       "      <td>214109</td>\n",
       "      <td>51.231837</td>\n",
       "      <td>214109</td>\n",
       "      <td>0.0</td>\n",
       "      <td>214109</td>\n",
       "      <td>0.907805</td>\n",
       "      <td>214109</td>\n",
       "      <td>1.200632</td>\n",
       "      <td>214109</td>\n",
       "      <td>847.243533</td>\n",
       "    </tr>\n",
       "    <tr>\n",
       "      <th>4</th>\n",
       "      <td>27.25</td>\n",
       "      <td>-23.440001</td>\n",
       "      <td>3.870365</td>\n",
       "      <td>2141.0</td>\n",
       "      <td>12.0</td>\n",
       "      <td>214112</td>\n",
       "      <td>40.810378</td>\n",
       "      <td>214112</td>\n",
       "      <td>0.0</td>\n",
       "      <td>214112</td>\n",
       "      <td>1.883151</td>\n",
       "      <td>214112</td>\n",
       "      <td>0.892251</td>\n",
       "      <td>214112</td>\n",
       "      <td>847.243533</td>\n",
       "    </tr>\n",
       "    <tr>\n",
       "      <th>...</th>\n",
       "      <td>...</td>\n",
       "      <td>...</td>\n",
       "      <td>...</td>\n",
       "      <td>...</td>\n",
       "      <td>...</td>\n",
       "      <td>...</td>\n",
       "      <td>...</td>\n",
       "      <td>...</td>\n",
       "      <td>...</td>\n",
       "      <td>...</td>\n",
       "      <td>...</td>\n",
       "      <td>...</td>\n",
       "      <td>...</td>\n",
       "      <td>...</td>\n",
       "      <td>...</td>\n",
       "    </tr>\n",
       "    <tr>\n",
       "      <th>30907</th>\n",
       "      <td>31.00</td>\n",
       "      <td>-27.940001</td>\n",
       "      <td>24.306879</td>\n",
       "      <td>2232.0</td>\n",
       "      <td>9.0</td>\n",
       "      <td>223209</td>\n",
       "      <td>23.474244</td>\n",
       "      <td>223209</td>\n",
       "      <td>0.0</td>\n",
       "      <td>223209</td>\n",
       "      <td>0.725448</td>\n",
       "      <td>223209</td>\n",
       "      <td>-0.991894</td>\n",
       "      <td>223209</td>\n",
       "      <td>1045.173623</td>\n",
       "    </tr>\n",
       "    <tr>\n",
       "      <th>30908</th>\n",
       "      <td>31.00</td>\n",
       "      <td>-27.940001</td>\n",
       "      <td>6.927214</td>\n",
       "      <td>2232.0</td>\n",
       "      <td>12.0</td>\n",
       "      <td>223212</td>\n",
       "      <td>19.462755</td>\n",
       "      <td>223212</td>\n",
       "      <td>0.0</td>\n",
       "      <td>223212</td>\n",
       "      <td>-0.900167</td>\n",
       "      <td>223212</td>\n",
       "      <td>-2.071945</td>\n",
       "      <td>223212</td>\n",
       "      <td>1045.173623</td>\n",
       "    </tr>\n",
       "    <tr>\n",
       "      <th>30909</th>\n",
       "      <td>31.00</td>\n",
       "      <td>-27.940001</td>\n",
       "      <td>10.846883</td>\n",
       "      <td>2232.0</td>\n",
       "      <td>15.0</td>\n",
       "      <td>223215</td>\n",
       "      <td>33.764412</td>\n",
       "      <td>223215</td>\n",
       "      <td>0.0</td>\n",
       "      <td>223215</td>\n",
       "      <td>-1.955020</td>\n",
       "      <td>223215</td>\n",
       "      <td>-2.531453</td>\n",
       "      <td>223215</td>\n",
       "      <td>1045.173623</td>\n",
       "    </tr>\n",
       "    <tr>\n",
       "      <th>30910</th>\n",
       "      <td>31.00</td>\n",
       "      <td>-27.940001</td>\n",
       "      <td>26.993946</td>\n",
       "      <td>2232.0</td>\n",
       "      <td>18.0</td>\n",
       "      <td>223218</td>\n",
       "      <td>49.477308</td>\n",
       "      <td>223218</td>\n",
       "      <td>0.0</td>\n",
       "      <td>223218</td>\n",
       "      <td>-0.181254</td>\n",
       "      <td>223218</td>\n",
       "      <td>-2.531994</td>\n",
       "      <td>223218</td>\n",
       "      <td>1045.173623</td>\n",
       "    </tr>\n",
       "    <tr>\n",
       "      <th>30911</th>\n",
       "      <td>31.00</td>\n",
       "      <td>-27.940001</td>\n",
       "      <td>51.917120</td>\n",
       "      <td>2232.0</td>\n",
       "      <td>21.0</td>\n",
       "      <td>223221</td>\n",
       "      <td>53.175062</td>\n",
       "      <td>223221</td>\n",
       "      <td>0.0</td>\n",
       "      <td>223221</td>\n",
       "      <td>0.422559</td>\n",
       "      <td>223221</td>\n",
       "      <td>-2.252794</td>\n",
       "      <td>223221</td>\n",
       "      <td>1045.173623</td>\n",
       "    </tr>\n",
       "  </tbody>\n",
       "</table>\n",
       "<p>30912 rows × 15 columns</p>\n",
       "</div>"
      ],
      "text/plain": [
       "         lon        lat       CAMS     day  hour  dayhour_x  \\\n",
       "0      27.25 -23.440001  12.745087  2141.0   0.0     214100   \n",
       "1      27.25 -23.440001  16.393583  2141.0   3.0     214103   \n",
       "2      27.25 -23.440001  17.552229  2141.0   6.0     214106   \n",
       "3      27.25 -23.440001  13.509299  2141.0   9.0     214109   \n",
       "4      27.25 -23.440001   3.870365  2141.0  12.0     214112   \n",
       "...      ...        ...        ...     ...   ...        ...   \n",
       "30907  31.00 -27.940001  24.306879  2232.0   9.0     223209   \n",
       "30908  31.00 -27.940001   6.927214  2232.0  12.0     223212   \n",
       "30909  31.00 -27.940001  10.846883  2232.0  15.0     223215   \n",
       "30910  31.00 -27.940001  26.993946  2232.0  18.0     223218   \n",
       "30911  31.00 -27.940001  51.917120  2232.0  21.0     223221   \n",
       "\n",
       "       relative_humidity  dayhour_y  specific_rain_water_content  dayhour_x.1  \\\n",
       "0              78.068685     214100                          0.0       214100   \n",
       "1              77.721987     214103                          0.0       214103   \n",
       "2              75.781603     214106                          0.0       214106   \n",
       "3              51.231837     214109                          0.0       214109   \n",
       "4              40.810378     214112                          0.0       214112   \n",
       "...                  ...        ...                          ...          ...   \n",
       "30907          23.474244     223209                          0.0       223209   \n",
       "30908          19.462755     223212                          0.0       223212   \n",
       "30909          33.764412     223215                          0.0       223215   \n",
       "30910          49.477308     223218                          0.0       223218   \n",
       "30911          53.175062     223221                          0.0       223221   \n",
       "\n",
       "         wind_u  dayhour_y.1    wind_v  dayhour          DEM  \n",
       "0     -0.804597       214100  1.171631   214100   847.243533  \n",
       "1     -1.538880       214103 -0.511131   214103   847.243533  \n",
       "2     -0.609182       214106 -0.350456   214106   847.243533  \n",
       "3      0.907805       214109  1.200632   214109   847.243533  \n",
       "4      1.883151       214112  0.892251   214112   847.243533  \n",
       "...         ...          ...       ...      ...          ...  \n",
       "30907  0.725448       223209 -0.991894   223209  1045.173623  \n",
       "30908 -0.900167       223212 -2.071945   223212  1045.173623  \n",
       "30909 -1.955020       223215 -2.531453   223215  1045.173623  \n",
       "30910 -0.181254       223218 -2.531994   223218  1045.173623  \n",
       "30911  0.422559       223221 -2.252794   223221  1045.173623  \n",
       "\n",
       "[30912 rows x 15 columns]"
      ]
     },
     "execution_count": 13,
     "metadata": {},
     "output_type": "execute_result"
    }
   ],
   "source": [
    "train_df"
   ]
  },
  {
   "cell_type": "markdown",
   "metadata": {},
   "source": [
    "Rank correlation between predictors"
   ]
  },
  {
   "cell_type": "code",
   "execution_count": 18,
   "metadata": {},
   "outputs": [
    {
     "data": {
      "text/html": [
       "<div>\n",
       "<style scoped>\n",
       "    .dataframe tbody tr th:only-of-type {\n",
       "        vertical-align: middle;\n",
       "    }\n",
       "\n",
       "    .dataframe tbody tr th {\n",
       "        vertical-align: top;\n",
       "    }\n",
       "\n",
       "    .dataframe thead th {\n",
       "        text-align: right;\n",
       "    }\n",
       "</style>\n",
       "<table border=\"1\" class=\"dataframe\">\n",
       "  <thead>\n",
       "    <tr style=\"text-align: right;\">\n",
       "      <th></th>\n",
       "      <th>lon</th>\n",
       "      <th>lat</th>\n",
       "      <th>CAMS</th>\n",
       "      <th>day</th>\n",
       "      <th>hour</th>\n",
       "      <th>relative_humidity</th>\n",
       "      <th>specific_rain_water_content</th>\n",
       "      <th>wind_u</th>\n",
       "      <th>wind_v</th>\n",
       "      <th>DEM</th>\n",
       "    </tr>\n",
       "  </thead>\n",
       "  <tbody>\n",
       "    <tr>\n",
       "      <th>lon</th>\n",
       "      <td>1.00</td>\n",
       "      <td>0.00</td>\n",
       "      <td>-0.12</td>\n",
       "      <td>0.00</td>\n",
       "      <td>0.00</td>\n",
       "      <td>0.25</td>\n",
       "      <td>0.21</td>\n",
       "      <td>0.07</td>\n",
       "      <td>0.12</td>\n",
       "      <td>-0.17</td>\n",
       "    </tr>\n",
       "    <tr>\n",
       "      <th>lat</th>\n",
       "      <td>0.00</td>\n",
       "      <td>1.00</td>\n",
       "      <td>-0.24</td>\n",
       "      <td>0.00</td>\n",
       "      <td>0.00</td>\n",
       "      <td>0.01</td>\n",
       "      <td>-0.04</td>\n",
       "      <td>-0.29</td>\n",
       "      <td>0.08</td>\n",
       "      <td>-0.66</td>\n",
       "    </tr>\n",
       "    <tr>\n",
       "      <th>CAMS</th>\n",
       "      <td>-0.12</td>\n",
       "      <td>-0.24</td>\n",
       "      <td>1.00</td>\n",
       "      <td>-0.02</td>\n",
       "      <td>-0.12</td>\n",
       "      <td>0.31</td>\n",
       "      <td>0.01</td>\n",
       "      <td>0.06</td>\n",
       "      <td>0.01</td>\n",
       "      <td>0.29</td>\n",
       "    </tr>\n",
       "    <tr>\n",
       "      <th>day</th>\n",
       "      <td>0.00</td>\n",
       "      <td>0.00</td>\n",
       "      <td>-0.02</td>\n",
       "      <td>1.00</td>\n",
       "      <td>0.00</td>\n",
       "      <td>-0.12</td>\n",
       "      <td>0.13</td>\n",
       "      <td>-0.03</td>\n",
       "      <td>-0.31</td>\n",
       "      <td>0.00</td>\n",
       "    </tr>\n",
       "    <tr>\n",
       "      <th>hour</th>\n",
       "      <td>0.00</td>\n",
       "      <td>0.00</td>\n",
       "      <td>-0.12</td>\n",
       "      <td>0.00</td>\n",
       "      <td>1.00</td>\n",
       "      <td>-0.35</td>\n",
       "      <td>-0.11</td>\n",
       "      <td>-0.02</td>\n",
       "      <td>-0.08</td>\n",
       "      <td>0.00</td>\n",
       "    </tr>\n",
       "    <tr>\n",
       "      <th>relative_humidity</th>\n",
       "      <td>0.25</td>\n",
       "      <td>0.01</td>\n",
       "      <td>0.31</td>\n",
       "      <td>-0.12</td>\n",
       "      <td>-0.35</td>\n",
       "      <td>1.00</td>\n",
       "      <td>0.46</td>\n",
       "      <td>-0.31</td>\n",
       "      <td>0.10</td>\n",
       "      <td>-0.07</td>\n",
       "    </tr>\n",
       "    <tr>\n",
       "      <th>specific_rain_water_content</th>\n",
       "      <td>0.21</td>\n",
       "      <td>-0.04</td>\n",
       "      <td>0.01</td>\n",
       "      <td>0.13</td>\n",
       "      <td>-0.11</td>\n",
       "      <td>0.46</td>\n",
       "      <td>1.00</td>\n",
       "      <td>-0.23</td>\n",
       "      <td>0.05</td>\n",
       "      <td>-0.02</td>\n",
       "    </tr>\n",
       "    <tr>\n",
       "      <th>wind_u</th>\n",
       "      <td>0.07</td>\n",
       "      <td>-0.29</td>\n",
       "      <td>0.06</td>\n",
       "      <td>-0.03</td>\n",
       "      <td>-0.02</td>\n",
       "      <td>-0.31</td>\n",
       "      <td>-0.23</td>\n",
       "      <td>1.00</td>\n",
       "      <td>-0.05</td>\n",
       "      <td>0.24</td>\n",
       "    </tr>\n",
       "    <tr>\n",
       "      <th>wind_v</th>\n",
       "      <td>0.12</td>\n",
       "      <td>0.08</td>\n",
       "      <td>0.01</td>\n",
       "      <td>-0.31</td>\n",
       "      <td>-0.08</td>\n",
       "      <td>0.10</td>\n",
       "      <td>0.05</td>\n",
       "      <td>-0.05</td>\n",
       "      <td>1.00</td>\n",
       "      <td>-0.10</td>\n",
       "    </tr>\n",
       "    <tr>\n",
       "      <th>DEM</th>\n",
       "      <td>-0.17</td>\n",
       "      <td>-0.66</td>\n",
       "      <td>0.29</td>\n",
       "      <td>0.00</td>\n",
       "      <td>0.00</td>\n",
       "      <td>-0.07</td>\n",
       "      <td>-0.02</td>\n",
       "      <td>0.24</td>\n",
       "      <td>-0.10</td>\n",
       "      <td>1.00</td>\n",
       "    </tr>\n",
       "  </tbody>\n",
       "</table>\n",
       "</div>"
      ],
      "text/plain": [
       "                              lon   lat  CAMS   day  hour  relative_humidity  \\\n",
       "lon                          1.00  0.00 -0.12  0.00  0.00               0.25   \n",
       "lat                          0.00  1.00 -0.24  0.00  0.00               0.01   \n",
       "CAMS                        -0.12 -0.24  1.00 -0.02 -0.12               0.31   \n",
       "day                          0.00  0.00 -0.02  1.00  0.00              -0.12   \n",
       "hour                         0.00  0.00 -0.12  0.00  1.00              -0.35   \n",
       "relative_humidity            0.25  0.01  0.31 -0.12 -0.35               1.00   \n",
       "specific_rain_water_content  0.21 -0.04  0.01  0.13 -0.11               0.46   \n",
       "wind_u                       0.07 -0.29  0.06 -0.03 -0.02              -0.31   \n",
       "wind_v                       0.12  0.08  0.01 -0.31 -0.08               0.10   \n",
       "DEM                         -0.17 -0.66  0.29  0.00  0.00              -0.07   \n",
       "\n",
       "                             specific_rain_water_content  wind_u  wind_v   DEM  \n",
       "lon                                                 0.21    0.07    0.12 -0.17  \n",
       "lat                                                -0.04   -0.29    0.08 -0.66  \n",
       "CAMS                                                0.01    0.06    0.01  0.29  \n",
       "day                                                 0.13   -0.03   -0.31  0.00  \n",
       "hour                                               -0.11   -0.02   -0.08  0.00  \n",
       "relative_humidity                                   0.46   -0.31    0.10 -0.07  \n",
       "specific_rain_water_content                         1.00   -0.23    0.05 -0.02  \n",
       "wind_u                                             -0.23    1.00   -0.05  0.24  \n",
       "wind_v                                              0.05   -0.05    1.00 -0.10  \n",
       "DEM                                                -0.02    0.24   -0.10  1.00  "
      ]
     },
     "execution_count": 18,
     "metadata": {},
     "output_type": "execute_result"
    }
   ],
   "source": [
    "# calculate the correlation matrix\n",
    "corr = train_df.drop(['dayhour_x','dayhour_y','dayhour_x.1','dayhour_y.1','dayhour'], axis=1).corr(method='spearman')\n",
    "round(corr, 2)"
   ]
  },
  {
   "cell_type": "markdown",
   "metadata": {},
   "source": [
    "## Modelling"
   ]
  },
  {
   "cell_type": "markdown",
   "metadata": {},
   "source": [
    "Very simple RF model as a starting point. WARNING! MODELS STILL NEED TO BE TUNED!!"
   ]
  },
  {
   "cell_type": "code",
   "execution_count": 10,
   "metadata": {},
   "outputs": [],
   "source": [
    "# X and Y parts\n",
    "train_X = np.array(train_df.drop(['CAMS','day','dayhour_x','dayhour_y','dayhour_x.1','dayhour_y.1','dayhour','wind_v','wind_u','relative_humidity','specific_rain_water_content'], axis=1))\n",
    "train_y = np.array(train_df['CAMS'])"
   ]
  },
  {
   "cell_type": "code",
   "execution_count": 11,
   "metadata": {},
   "outputs": [],
   "source": [
    "# Random Forest Regression.\n",
    "rf = RandomForestRegressor(n_estimators = 100) # Let's make it quick for now\n",
    "# Train the model on training data\n",
    "rf.fit(train_X, train_y)\n",
    "pred_y = rf.predict(train_X)"
   ]
  },
  {
   "cell_type": "code",
   "execution_count": 12,
   "metadata": {},
   "outputs": [
    {
     "name": "stdout",
     "output_type": "stream",
     "text": [
      "Variable: hour                 Importance: 0.43\n",
      "Variable: lat                  Importance: 0.23\n",
      "Variable: lon                  Importance: 0.19\n",
      "Variable: DEM                  Importance: 0.15\n"
     ]
    }
   ],
   "source": [
    "# Get numerical feature importances\n",
    "importances = list(rf.feature_importances_)\n",
    "# List of tuples with variable and importance\n",
    "feature_list = list(train_df.drop(['CAMS','day','dayhour_x','dayhour_y','dayhour_x.1','dayhour_y.1','dayhour','wind_v','wind_u','relative_humidity','specific_rain_water_content'], axis=1).columns)\n",
    "feature_importances = [(feature, round(importance, 2)) for feature, importance in zip(feature_list, importances)]\n",
    "# Sort the feature importances by most important first\n",
    "feature_importances = sorted(feature_importances, key = lambda x: x[1], reverse = True)\n",
    "# Print out the feature and importances \n",
    "[print('Variable: {:20} Importance: {}'.format(*pair)) for pair in feature_importances];"
   ]
  },
  {
   "cell_type": "markdown",
   "metadata": {},
   "source": [
    "Resubsitution error:"
   ]
  },
  {
   "cell_type": "code",
   "execution_count": 13,
   "metadata": {},
   "outputs": [
    {
     "name": "stdout",
     "output_type": "stream",
     "text": [
      "Resubstitution MAE: 21.89\n",
      "Resubstitution RMSE: 44.11\n",
      "Resubstitution R2: 0.659\n"
     ]
    },
    {
     "data": {
      "image/png": "[encoded data removed]",
      "text/plain": [
       "<Figure size 432x288 with 1 Axes>"
      ]
     },
     "metadata": {
      "needs_background": "light"
     },
     "output_type": "display_data"
    }
   ],
   "source": [
    "# Resubstitution error\n",
    "print('Resubstitution MAE:', round(metrics.mean_absolute_error(train_y, pred_y), 2))\n",
    "print('Resubstitution RMSE:', round(np.sqrt(metrics.mean_squared_error(train_y, pred_y)), 2))\n",
    "print('Resubstitution R2:', round(metrics.r2_score(train_y, pred_y), 3))\n",
    "\n",
    "fig, ax = plt.subplots()\n",
    "ax.scatter(train_y, pred_y, color='black', alpha=0.1)\n",
    "lims = [\n",
    "    np.min([ax.get_xlim(), ax.get_ylim()]),  # min of both axes\n",
    "    np.max([ax.get_xlim(), ax.get_ylim()]),  # max of both axes\n",
    "]\n",
    "ax.plot(lims, lims, 'k-', alpha=0.75, zorder=0)\n",
    "ax.set_aspect('equal')\n",
    "ax.set_xlim(lims)\n",
    "ax.set_ylim(lims)\n",
    "plt.xlabel(\"observed\")\n",
    "plt.ylabel(\"predicted\")\n",
    "plt.show()"
   ]
  },
  {
   "cell_type": "markdown",
   "metadata": {},
   "source": [
    "Cross-validated error:"
   ]
  },
  {
   "cell_type": "code",
   "execution_count": 11,
   "metadata": {},
   "outputs": [],
   "source": [
    "# Cross-validated error (each daytime in a separate fold to emulate a new observation)\n",
    "groups = np.array(train_df['dayhour'])\n",
    "group_kfold = GroupKFold(n_splits=10)\n",
    "group_kfold.get_n_splits(train_X, train_y, groups)\n",
    "\n",
    "alltest_CV = np.empty((0,1), float)\n",
    "allpreds_CV = np.empty((0,1), float)\n",
    "allindx_CV = np.empty((0,1), float)\n",
    "\n",
    "MAE_CV=[]\n",
    "RMSE_CV=[]\n",
    "R2_CV=[]\n",
    "for train_index, test_index in group_kfold.split(train_X, train_y, groups):\n",
    "    train_X_CV, test_X_CV = train_X[train_index], train_X[test_index]\n",
    "    train_y_CV, test_y_CV = train_y[train_index], train_y[test_index]\n",
    "    rf.fit(train_X_CV, train_y_CV)\n",
    "    pred_y_CV = rf.predict(test_X_CV)\n",
    "    alltest_CV = np.append(alltest_CV, test_y_CV)\n",
    "    allpreds_CV = np.append(allpreds_CV, pred_y_CV)\n",
    "    allindx_CV =  np.append(allindx_CV, train_index)\n",
    "    MAE_CV.append(round(metrics.mean_absolute_error(test_y_CV, pred_y_CV), 2))\n",
    "    RMSE_CV.append(round(np.sqrt(metrics.mean_squared_error(test_y_CV, pred_y_CV)), 2))\n",
    "    R2_CV.append(round(metrics.r2_score(test_y_CV, pred_y_CV), 3))"
   ]
  },
  {
   "cell_type": "code",
   "execution_count": 12,
   "metadata": {},
   "outputs": [
    {
     "name": "stdout",
     "output_type": "stream",
     "text": [
      "CV MAE: 22.21\n",
      "CV RMSE: 44.64\n",
      "CV R2: 0.65\n"
     ]
    },
    {
     "data": {
      "image/png": "[encoded data removed]",
      "text/plain": [
       "<Figure size 432x288 with 1 Axes>"
      ]
     },
     "metadata": {
      "needs_background": "light"
     },
     "output_type": "display_data"
    }
   ],
   "source": [
    "# Metrics\n",
    "print('CV MAE:', round(statistics.mean(MAE_CV), 2))\n",
    "print('CV RMSE:', round(statistics.mean(RMSE_CV), 2))\n",
    "print('CV R2:', round(statistics.mean(R2_CV), 2))\n",
    "\n",
    "fig, ax = plt.subplots()\n",
    "ax.scatter(alltest_CV, allpreds_CV, color='black', alpha=0.1)\n",
    "lims = [\n",
    "    np.min([ax.get_xlim(), ax.get_ylim()]),  # min of both axes\n",
    "    np.max([ax.get_xlim(), ax.get_ylim()]),  # max of both axes\n",
    "]\n",
    "ax.plot(lims, lims, 'k-', alpha=0.75, zorder=0)\n",
    "ax.set_aspect('equal')\n",
    "ax.set_xlim(lims)\n",
    "ax.set_ylim(lims)\n",
    "plt.xlabel(\"observed\")\n",
    "plt.ylabel(\"predicted\")\n",
    "plt.show()"
   ]
  },
  {
   "cell_type": "markdown",
   "metadata": {},
   "source": [
    "## Model assessment (stations)"
   ]
  },
  {
   "cell_type": "markdown",
   "metadata": {},
   "source": [
    "Create target grid for the AOI (10 km)"
   ]
  },
  {
   "cell_type": "code",
   "execution_count": 14,
   "metadata": {},
   "outputs": [
    {
     "name": "stderr",
     "output_type": "stream",
     "text": [
      "/usr/local/lib/python3.6/dist-packages/ipykernel_launcher.py:8: UserWarning: Geometry is in a geographic CRS. Results from 'centroid' are likely incorrect. Use 'GeoSeries.to_crs()' to re-project geometries to a projected CRS before this operation.\n",
      "\n",
      "  \n"
     ]
    },
    {
     "data": {
      "image/png": "[encoded data removed]",
      "text/plain": [
       "<Figure size 432x288 with 1 Axes>"
      ]
     },
     "metadata": {
      "needs_background": "light"
     },
     "output_type": "display_data"
    }
   ],
   "source": [
    "# Prepare grid\n",
    "bounds_down = list(cams_train_eop.bbox)\n",
    "res_down = bbox_to_dimensions(cams_train_eop.bbox, 10000)\n",
    "res_down = (bounds_down[2]-bounds_down[0])/res_down[0]\n",
    "bounds_down = geometry.box(bounds_down[0], bounds_down[1], bounds_down[2], bounds_down[3])\n",
    "bounds_down = gpd.GeoDataFrame({\"id\":1,\"geometry\":[bounds_down]}, crs=\"EPSG:4326\")\n",
    "CAMS_grid_down = polygrid(bounds_down, res_down, 4326)\n",
    "CAMS_centroids_down = gpd.GeoDataFrame(geometry= CAMS_grid_down.centroid)\n",
    "\n",
    "del cams_train_eop\n",
    "\n",
    "# Show it\n",
    "p = CAMS_grid_down.boundary.plot()\n",
    "CAMS_centroids_down.plot(ax=p, color='red')\n",
    "plt.show()\n"
   ]
  },
  {
   "cell_type": "markdown",
   "metadata": {},
   "source": [
    "### Prepare station data"
   ]
  },
  {
   "cell_type": "code",
   "execution_count": 15,
   "metadata": {},
   "outputs": [],
   "source": [
    "pm25_gt = gpd.read_file(str(DATA_DIR/AOIS[0]/'ground_air_quality'/'PM25'/'PM25_africa_ground.shp'))\n",
    "pm25_gt['geometry_wkt'] = pm25_gt['geometry'].apply(lambda geom: geom.wkt) \n"
   ]
  },
  {
   "cell_type": "code",
   "execution_count": 16,
   "metadata": {},
   "outputs": [
    {
     "data": {
      "text/html": [
       "<div>\n",
       "<style scoped>\n",
       "    .dataframe tbody tr th:only-of-type {\n",
       "        vertical-align: middle;\n",
       "    }\n",
       "\n",
       "    .dataframe tbody tr th {\n",
       "        vertical-align: top;\n",
       "    }\n",
       "\n",
       "    .dataframe thead th {\n",
       "        text-align: right;\n",
       "    }\n",
       "</style>\n",
       "<table border=\"1\" class=\"dataframe\">\n",
       "  <thead>\n",
       "    <tr style=\"text-align: right;\">\n",
       "      <th></th>\n",
       "      <th></th>\n",
       "      <th>Date</th>\n",
       "      <th>AirQuality</th>\n",
       "      <th>geometry</th>\n",
       "    </tr>\n",
       "    <tr>\n",
       "      <th>SITE_LONGI</th>\n",
       "      <th>SITE_LATIT</th>\n",
       "      <th></th>\n",
       "      <th></th>\n",
       "      <th></th>\n",
       "    </tr>\n",
       "  </thead>\n",
       "  <tbody>\n",
       "    <tr>\n",
       "      <th>26.846694</th>\n",
       "      <th>-26.854722</th>\n",
       "      <td>2140</td>\n",
       "      <td>8.403</td>\n",
       "      <td>POINT (26.84669 -26.85472)</td>\n",
       "    </tr>\n",
       "    <tr>\n",
       "      <th>27.391605</th>\n",
       "      <th>-24.591058</th>\n",
       "      <td>2140</td>\n",
       "      <td>1.207</td>\n",
       "      <td>POINT (27.39160 -24.59106)</td>\n",
       "    </tr>\n",
       "    <tr>\n",
       "      <th>27.722316</th>\n",
       "      <th>-23.681918</th>\n",
       "      <td>2140</td>\n",
       "      <td>2.655</td>\n",
       "      <td>POINT (27.72232 -23.68192)</td>\n",
       "    </tr>\n",
       "    <tr>\n",
       "      <th>27.841083</th>\n",
       "      <th>-26.587917</th>\n",
       "      <td>2140</td>\n",
       "      <td>16.898</td>\n",
       "      <td>POINT (27.84108 -26.58792)</td>\n",
       "    </tr>\n",
       "    <tr>\n",
       "      <th>27.855778</th>\n",
       "      <th>-26.845083</th>\n",
       "      <td>2140</td>\n",
       "      <td>12.382</td>\n",
       "      <td>POINT (27.85578 -26.84508)</td>\n",
       "    </tr>\n",
       "  </tbody>\n",
       "</table>\n",
       "</div>"
      ],
      "text/plain": [
       "                       Date  AirQuality                    geometry\n",
       "SITE_LONGI SITE_LATIT                                              \n",
       "26.846694  -26.854722  2140       8.403  POINT (26.84669 -26.85472)\n",
       "27.391605  -24.591058  2140       1.207  POINT (27.39160 -24.59106)\n",
       "27.722316  -23.681918  2140       2.655  POINT (27.72232 -23.68192)\n",
       "27.841083  -26.587917  2140      16.898  POINT (27.84108 -26.58792)\n",
       "27.855778  -26.845083  2140      12.382  POINT (27.85578 -26.84508)"
      ]
     },
     "execution_count": 16,
     "metadata": {},
     "output_type": "execute_result"
    }
   ],
   "source": [
    "pm25_gt['geometry_wkt'] = pm25_gt['geometry'].apply(lambda geom: geom.wkt) \n",
    "pm25g_gt = pm25_gt.groupby(['SITE_LONGI','SITE_LATIT'])\n",
    "\n",
    "pm25_gt_min = pm25g_gt.min()\n",
    "pm25_gt_min['geometry'] = pm25_gt_min['geometry_wkt'].apply(lambda x: wkt.loads(x))\n",
    "pm25_gt_min.drop(columns='geometry_wkt', inplace=True)\n",
    "pm25_gt_min.head()"
   ]
  },
  {
   "cell_type": "code",
   "execution_count": 28,
   "metadata": {},
   "outputs": [
    {
     "data": {
      "text/html": [
       "<div>\n",
       "<style scoped>\n",
       "    .dataframe tbody tr th:only-of-type {\n",
       "        vertical-align: middle;\n",
       "    }\n",
       "\n",
       "    .dataframe tbody tr th {\n",
       "        vertical-align: top;\n",
       "    }\n",
       "\n",
       "    .dataframe thead th {\n",
       "        text-align: right;\n",
       "    }\n",
       "</style>\n",
       "<table border=\"1\" class=\"dataframe\">\n",
       "  <thead>\n",
       "    <tr style=\"text-align: right;\">\n",
       "      <th></th>\n",
       "      <th>Date</th>\n",
       "      <th>SITE_LATIT</th>\n",
       "      <th>SITE_LONGI</th>\n",
       "      <th>AirQuality</th>\n",
       "      <th>geometry</th>\n",
       "      <th>geometry_wkt</th>\n",
       "      <th>lon</th>\n",
       "      <th>lat</th>\n",
       "    </tr>\n",
       "  </thead>\n",
       "  <tbody>\n",
       "    <tr>\n",
       "      <th>0</th>\n",
       "      <td>2140</td>\n",
       "      <td>-26.845083</td>\n",
       "      <td>27.855778</td>\n",
       "      <td>34.970</td>\n",
       "      <td>POINT (27.85578 -26.84508)</td>\n",
       "      <td>POINT (27.855778 -26.845083)</td>\n",
       "      <td>27.855778</td>\n",
       "      <td>-26.845083</td>\n",
       "    </tr>\n",
       "    <tr>\n",
       "      <th>1</th>\n",
       "      <td>2141</td>\n",
       "      <td>-26.845083</td>\n",
       "      <td>27.855778</td>\n",
       "      <td>21.456</td>\n",
       "      <td>POINT (27.85578 -26.84508)</td>\n",
       "      <td>POINT (27.855778 -26.845083)</td>\n",
       "      <td>27.855778</td>\n",
       "      <td>-26.845083</td>\n",
       "    </tr>\n",
       "    <tr>\n",
       "      <th>2</th>\n",
       "      <td>2142</td>\n",
       "      <td>-26.845083</td>\n",
       "      <td>27.855778</td>\n",
       "      <td>42.054</td>\n",
       "      <td>POINT (27.85578 -26.84508)</td>\n",
       "      <td>POINT (27.855778 -26.845083)</td>\n",
       "      <td>27.855778</td>\n",
       "      <td>-26.845083</td>\n",
       "    </tr>\n",
       "    <tr>\n",
       "      <th>3</th>\n",
       "      <td>2144</td>\n",
       "      <td>-26.845083</td>\n",
       "      <td>27.855778</td>\n",
       "      <td>15.503</td>\n",
       "      <td>POINT (27.85578 -26.84508)</td>\n",
       "      <td>POINT (27.855778 -26.845083)</td>\n",
       "      <td>27.855778</td>\n",
       "      <td>-26.845083</td>\n",
       "    </tr>\n",
       "    <tr>\n",
       "      <th>4</th>\n",
       "      <td>2147</td>\n",
       "      <td>-26.845083</td>\n",
       "      <td>27.855778</td>\n",
       "      <td>45.339</td>\n",
       "      <td>POINT (27.85578 -26.84508)</td>\n",
       "      <td>POINT (27.855778 -26.845083)</td>\n",
       "      <td>27.855778</td>\n",
       "      <td>-26.845083</td>\n",
       "    </tr>\n",
       "  </tbody>\n",
       "</table>\n",
       "</div>"
      ],
      "text/plain": [
       "   Date  SITE_LATIT  SITE_LONGI  AirQuality                    geometry  \\\n",
       "0  2140  -26.845083   27.855778      34.970  POINT (27.85578 -26.84508)   \n",
       "1  2141  -26.845083   27.855778      21.456  POINT (27.85578 -26.84508)   \n",
       "2  2142  -26.845083   27.855778      42.054  POINT (27.85578 -26.84508)   \n",
       "3  2144  -26.845083   27.855778      15.503  POINT (27.85578 -26.84508)   \n",
       "4  2147  -26.845083   27.855778      45.339  POINT (27.85578 -26.84508)   \n",
       "\n",
       "                   geometry_wkt        lon        lat  \n",
       "0  POINT (27.855778 -26.845083)  27.855778 -26.845083  \n",
       "1  POINT (27.855778 -26.845083)  27.855778 -26.845083  \n",
       "2  POINT (27.855778 -26.845083)  27.855778 -26.845083  \n",
       "3  POINT (27.855778 -26.845083)  27.855778 -26.845083  \n",
       "4  POINT (27.855778 -26.845083)  27.855778 -26.845083  "
      ]
     },
     "execution_count": 28,
     "metadata": {},
     "output_type": "execute_result"
    }
   ],
   "source": [
    "for i, point in enumerate(pm25_gt['geometry']):\n",
    "    pm25_gt.loc[i,'lon'] = round(point.xy[0][0],6)\n",
    "    pm25_gt.loc[i,'lat'] = round(point.xy[1][0],6)\n",
    "    \n",
    "pm25_gt.head()"
   ]
  },
  {
   "cell_type": "markdown",
   "metadata": {},
   "source": [
    "### Extract predictor data at station locations and times"
   ]
  },
  {
   "cell_type": "markdown",
   "metadata": {},
   "source": [
    "#### Prepare DEM with 10km CAMS"
   ]
  },
  {
   "cell_type": "code",
   "execution_count": 17,
   "metadata": {},
   "outputs": [
    {
     "data": {
      "text/plain": [
       "EOPatch(\n",
       "  data: {}\n",
       "  mask: {}\n",
       "  scalar: {}\n",
       "  label: {}\n",
       "  vector: {}\n",
       "  data_timeless: {\n",
       "    DEM: numpy.ndarray(shape=(614, 656, 1), dtype=float32)\n",
       "  }\n",
       "  mask_timeless: {}\n",
       "  scalar_timeless: {}\n",
       "  label_timeless: {}\n",
       "  vector_timeless: {}\n",
       "  meta_info: {}\n",
       "  bbox: BBox(((26.56263888888889, -28.18263888888889), (31.747083333333336, -23.24763888888889)), crs=CRS('4326'))\n",
       "  timestamp: []\n",
       ")"
      ]
     },
     "execution_count": 17,
     "metadata": {},
     "output_type": "execute_result"
    }
   ],
   "source": [
    "dem_train_dir = DATA_DIR/AOIS[0]/'DEM'\n",
    "dem_train_eop = load_tiffs(datapath=dem_train_dir,\n",
    "                           feature=(FeatureType.DATA_TIMELESS, 'DEM'),\n",
    "                            filename='DEM_1km.tif',\n",
    "                           no_data_value=128)\n",
    "dem_train_eop"
   ]
  },
  {
   "cell_type": "code",
   "execution_count": 18,
   "metadata": {},
   "outputs": [
    {
     "data": {
      "image/png": "[encoded data removed]",
      "text/plain": [
       "<Figure size 432x360 with 1 Axes>"
      ]
     },
     "metadata": {
      "needs_background": "light"
     },
     "output_type": "display_data"
    }
   ],
   "source": [
    "fig, ax = plt.subplots(figsize=(6,5))\n",
    "\n",
    "draw_feature(ax=ax, eopatch=dem_train_eop, \n",
    "             feature=(FeatureType.DATA_TIMELESS, 'DEM'), \n",
    "             vmin=0, vmax=4000, cmap=plt.cm.viridis, time_idx=None)\n",
    "pm25_gt_min.plot(ax=ax, color='r', marker='o');\n"
   ]
  },
  {
   "cell_type": "code",
   "execution_count": 19,
   "metadata": {},
   "outputs": [],
   "source": [
    "# Perform zonal statistics - mean altitude per CAMS pixel\n",
    "src = rio.open(str(dem_train_dir) + '/DEM_1km.tif')\n",
    "affine = src.transform\n",
    "array = dem_train_eop.data_timeless['DEM']\n",
    "array = array[:, :, 0]\n",
    "dem_grid_10km = CAMS_grid_down\n",
    "zstats = zonal_stats(dem_grid_10km, array, affine=affine, stats=\"mean\", nodata=np.nan)\n",
    "vals = []\n",
    "for index, value in enumerate(zstats):\n",
    "    vals.append(value['mean'])\n",
    "    \n",
    "dem_grid_10km['elevation'] = vals"
   ]
  },
  {
   "cell_type": "code",
   "execution_count": 20,
   "metadata": {},
   "outputs": [],
   "source": [
    "# Now we can rasterize\n",
    "minx, miny, maxx, maxy = CAMS_grid_down.geometry.total_bounds\n",
    "sizey = round((maxy-miny)/res_down)\n",
    "sizex = round((maxx-minx)/res_down)\n",
    "transform = rio.transform.from_bounds(minx, miny, maxx, maxy, sizex, sizey)\n",
    "shapes = ((geom, value) for geom, value in zip(dem_grid_10km.geometry, dem_grid_10km['elevation']))\n",
    "\n",
    "dem10km = rio.features.rasterize(shapes, out_shape=(sizey, sizex), transform=transform)\n",
    "dem10km\n",
    "export_geotiff(str(dem_train_dir) + '/DEM_CAMS_10km.tif', dem10km, transform, 4326)"
   ]
  },
  {
   "cell_type": "code",
   "execution_count": 21,
   "metadata": {},
   "outputs": [
    {
     "data": {
      "image/png": "[encoded data removed]",
      "text/plain": [
       "<Figure size 432x360 with 2 Axes>"
      ]
     },
     "metadata": {
      "needs_background": "light"
     },
     "output_type": "display_data"
    }
   ],
   "source": [
    "# Read and visualize\n",
    "dem_train_dir = DATA_DIR/AOIS[0]/'DEM'\n",
    "dem_train_eop = load_tiffs(datapath=dem_train_dir,\n",
    "                           feature=(FeatureType.DATA_TIMELESS, 'DEM'),\n",
    "                           filename='DEM_CAMS_10km.tif')\n",
    "\n",
    "fig, ax = plt.subplots(figsize=(6,5))\n",
    "fh = draw_feature(ax=ax, eopatch=dem_train_eop,\n",
    "                  feature=(FeatureType.DATA_TIMELESS, 'DEM'),\n",
    "                  time_idx=None,\n",
    "                  vmin=0, vmax=1800)\n",
    "pm25_gt_min.plot(ax=ax, color='r', marker='o');\n",
    "fig.colorbar(fh, ax=ax);"
   ]
  },
  {
   "cell_type": "markdown",
   "metadata": {},
   "source": [
    "#### Extract DEM at stations"
   ]
  },
  {
   "cell_type": "code",
   "execution_count": 22,
   "metadata": {},
   "outputs": [],
   "source": [
    "# Extract DEM\n",
    "raster_path = str(dem_train_dir) + '/DEM_CAMS_10km.tif'\n",
    "dem_10km_df = extract_points_from_raster(pm25_gt_min, raster_path, 'DEM')\n",
    "dem_10km_df = dem_10km_df.dropna()\n",
    "station_dem_10km_df = dem_10km_df.drop('raster', 1)"
   ]
  },
  {
   "cell_type": "markdown",
   "metadata": {},
   "source": [
    "#### Prepare ERA5 with 10km CAMS"
   ]
  },
  {
   "cell_type": "code",
   "execution_count": 8,
   "metadata": {},
   "outputs": [
    {
     "data": {
      "text/plain": [
       "EOPatch(\n",
       "  data: {\n",
       "    relative_humidity: numpy.ndarray(shape=(2208, 17, 18, 1), dtype=float32)\n",
       "    specific_rain_water_content: numpy.ndarray(shape=(2208, 17, 18, 1), dtype=float32)\n",
       "    wind_u: numpy.ndarray(shape=(2208, 17, 18, 1), dtype=float32)\n",
       "    wind_v: numpy.ndarray(shape=(2208, 17, 18, 1), dtype=float32)\n",
       "  }\n",
       "  mask: {}\n",
       "  scalar: {}\n",
       "  label: {}\n",
       "  vector: {}\n",
       "  data_timeless: {}\n",
       "  mask_timeless: {}\n",
       "  scalar_timeless: {}\n",
       "  label_timeless: {}\n",
       "  vector_timeless: {}\n",
       "  meta_info: {\n",
       "    Names_relative_humidity: ['ERA5_rh_day2141_h00.tif', ..., 'ERA5_rh_day2232_h23.tif'], length=2208\n",
       "    Names_specific_rain_water_content: ['ERA5_srwc_day2141_h00.tif', ..., 'ERA5_srwc_day2232_h23.tif'], length=2208\n",
       "    Names_wind_u: ['ERA5_u_day2141_h00.tif', ..., 'ERA5_u_day2232_h23.tif'], length=2208\n",
       "    Names_wind_v: ['ERA5_v_day2141_h00.tif', ..., 'ERA5_v_day2232_h23.tif'], length=2208\n",
       "  }\n",
       "  bbox: BBox(((26.875, -27.815000534057617), (31.375, -23.565000534057617)), crs=CRS('4326'))\n",
       "  timestamp: [datetime.datetime(1900, 2, 10, 0, 0), ..., datetime.datetime(1900, 5, 12, 23, 0)], length=2208\n",
       ")"
      ]
     },
     "execution_count": 8,
     "metadata": {},
     "output_type": "execute_result"
    }
   ],
   "source": [
    "# load ERA5 \n",
    "era5_train_dir = DATA_DIR/AOIS[0]/'era5'\n",
    "era5_products = sorted(os.listdir(era5_train_dir))\n",
    "\n",
    "# Load data\n",
    "era5_eops = [load_tiffs(era5_train_dir/era5_p, \n",
    "                        (FeatureType.DATA, era5_p), \n",
    "                        offset=OFFSET, \n",
    "                        image_dtype=np.float32,\n",
    "                        data_source='era5') \n",
    "             for era5_p in era5_products]\n",
    "\n",
    "# Merge into one EOPS\n",
    "era5_eop = EOPatch(data={'relative_humidity': era5_eops[0].data['relative_humidity'], \n",
    "                         'specific_rain_water_content': era5_eops[1].data['specific_rain_water_content'],\n",
    "                        'wind_u': era5_eops[2].data['wind_u'],\n",
    "                        'wind_v': era5_eops[3].data['wind_v']},\n",
    "                   meta_info={'Names_relative_humidity': era5_eops[0].meta_info['Names'],\n",
    "                              'Names_specific_rain_water_content': era5_eops[1].meta_info['Names'],\n",
    "                             'Names_wind_u': era5_eops[2].meta_info['Names'],\n",
    "                             'Names_wind_v': era5_eops[3].meta_info['Names']},\n",
    "                     timestamp=era5_eops[0].timestamp,\n",
    "                     bbox=era5_eops[0].bbox)\n",
    "del era5_eops\n",
    "era5_eop"
   ]
  },
  {
   "cell_type": "code",
   "execution_count": null,
   "metadata": {},
   "outputs": [],
   "source": [
    "# Perform zonal statistics - ERA5 products per CAMS pixel\n",
    "# Rastrize the new CAMS zonal stats and save them on disk\n",
    "\n",
    "\n",
    "era5_location=  str(DATA_DIR/AOIS[0])+'/era5'\n",
    "\n",
    "## location of exported tiff (ERA5 matching CAMS grid)\n",
    "era5_cams_location = str(DATA_DIR/AOIS[0])+'/rastrize_era5_cams10km'\n",
    "if not os.path.isdir(era5_cams_location):\n",
    "    os.makedirs(era5_cams_location)\n",
    "    for i in era5_products:\n",
    "        os.mkdir(era5_cams_location + '/' + i)    \n",
    "\n",
    "for era5_p in era5_products:\n",
    "    i=0\n",
    "    for era5_path in glob.glob(str(era5_location) + '/' + era5_p + '/' +  '*.tif'):\n",
    "        src = rio.open(era5_path)\n",
    "        affine = src.transform\n",
    "        array = era5_eop.data[era5_p][i]\n",
    "        array = array[:, :, 0]\n",
    "        era5_grid = CAMS_grid_down\n",
    "        era5_stats = zonal_stats(era5_grid, array, affine=affine, stats=\"mean\", nodata=np.nan)\n",
    "        \n",
    "        vals = []\n",
    "        for index, value in enumerate(era5_stats):\n",
    "            vals.append(value['mean'])\n",
    "            \n",
    "        era5_grid[era5_p] = vals\n",
    "        \n",
    "        # rasterize\n",
    "        minx, miny, maxx, maxy = CAMS_grid_down.geometry.total_bounds\n",
    "        sizey = round((maxy-miny)/res_down)\n",
    "        sizex = round((maxx-minx)/res_down)\n",
    "\n",
    "        transform = rio.transform.from_bounds(minx, miny, maxx, maxy, sizex, sizey)\n",
    "        shapes = ((geom, value) for geom, value in zip(era5_grid.geometry, era5_grid[era5_p]))\n",
    "        era5 = rio.features.rasterize(shapes, out_shape=(sizey, sizex), transform=transform)\n",
    "        tiffname = era5_eop.meta_info['Names_'+ era5_p][i]\n",
    "        export_geotiff(str(era5_cams_location) + '/' +era5_p + '/'+ tiffname, era5, transform, 4326)\n",
    "\n",
    "    \n",
    "        i+=1\n",
    "\n",
    "del era5_eop"
   ]
  },
  {
   "cell_type": "code",
   "execution_count": null,
   "metadata": {},
   "outputs": [],
   "source": [
    "## Read rastraized CAMS \n",
    "\n",
    "# Prepare directory and product list\n",
    "era5_train_dir = DATA_DIR/AOIS[0]/'era5'\n",
    "era5_products = sorted(os.listdir(era5_train_dir))\n",
    "\n",
    "era5_cams_location = str(DATA_DIR/AOIS[0])+'/rastrize_era5_cams10km'\n",
    "ras_era5_location=Path(era5_cams_location)\n",
    "\n",
    "# Load data\n",
    "ras10km_era5_eops = [load_tiffs(ras_era5_location/era5_p, \n",
    "                        (FeatureType.DATA, era5_p), \n",
    "                        offset=OFFSET, \n",
    "                        image_dtype=np.float32,\n",
    "                        data_source='era5') \n",
    "             for era5_p in era5_products]\n",
    "\n",
    "\n",
    "\n",
    "# Merge into one EOPS\n",
    "ras10km_era5_eop = EOPatch(data={'relative_humidity': ras_era5_eops[0].data['relative_humidity'], \n",
    "                              'specific_rain_water_content': ras_era5_eops[1].data['specific_rain_water_content'],\n",
    "                              'wind_u': ras_era5_eops[2].data['wind_u'],\n",
    "                              'wind_v': ras_era5_eops[3].data['wind_v']},\n",
    "                        meta_info={'Names_relative_humidity': ras_era5_eops[0].meta_info['Names'],\n",
    "                                   'Names_specific_rain_water_content':ras_era5_eops[1].meta_info['Names'],\n",
    "                                   'Names_wind_u': ras_era5_eops[2].meta_info['Names'],\n",
    "                                   'Names_wind_v': ras_era5_eops[3].meta_info['Names']},\n",
    "                        timestamp= ras_era5_eops[0].timestamp,\n",
    "                        bbox= ras_era5_eops[0].bbox)\n",
    "\n",
    "del ras10km_era5_eops\n",
    "ras10km_era5_eop"
   ]
  },
  {
   "cell_type": "code",
   "execution_count": null,
   "metadata": {},
   "outputs": [],
   "source": [
    "## plot rastraized CAMS \n",
    "\n",
    "fig, axs = plt.subplots(figsize=(25, 5), ncols=4)\n",
    "\n",
    "time_idx = 1\n",
    "\n",
    "normalisations = [dict(vmin=np.min(ras10km_era5_eop.data[era5_p]), \n",
    "                       vmax=np.max(ras10km_era5_eop.data[era5_p])) \n",
    "                  for era5_p in era5_products]\n",
    "\n",
    "for nn, (fname, norm) in enumerate(zip(era5_products, normalisations)):\n",
    "    fh = draw_feature(ax=axs[nn], eopatch=ras10km_era5_eop, \n",
    "                      feature=(FeatureType.DATA, fname),\n",
    "                      time_idx=time_idx, \n",
    "                      **norm,\n",
    "                      alpha=.9, cmap=plt.cm.jet)\n",
    "    fig.colorbar(fh, ax=axs[nn])"
   ]
  },
  {
   "cell_type": "markdown",
   "metadata": {},
   "source": [
    "Compute predictions at stations locations and times"
   ]
  },
  {
   "cell_type": "code",
   "execution_count": null,
   "metadata": {},
   "outputs": [],
   "source": []
  },
  {
   "cell_type": "markdown",
   "metadata": {},
   "source": [
    "Comparison of original CAMS (daily average) with station data"
   ]
  },
  {
   "cell_type": "code",
   "execution_count": null,
   "metadata": {},
   "outputs": [],
   "source": []
  },
  {
   "cell_type": "markdown",
   "metadata": {},
   "source": [
    "Comparison of downscaled CAMS (daily average) with station data"
   ]
  },
  {
   "cell_type": "code",
   "execution_count": null,
   "metadata": {},
   "outputs": [],
   "source": []
  },
  {
   "cell_type": "markdown",
   "metadata": {},
   "source": [
    "## Prediction"
   ]
  },
  {
   "cell_type": "code",
   "execution_count": 71,
   "metadata": {},
   "outputs": [],
   "source": [
    "bbox_sa = gpd.read_file('AOIs_bboxes/SouthAfrica/South_Africa_test.shp')"
   ]
  },
  {
   "cell_type": "code",
   "execution_count": 47,
   "metadata": {},
   "outputs": [
    {
     "data": {
      "text/html": [
       "<div>\n",
       "<style scoped>\n",
       "    .dataframe tbody tr th:only-of-type {\n",
       "        vertical-align: middle;\n",
       "    }\n",
       "\n",
       "    .dataframe tbody tr th {\n",
       "        vertical-align: top;\n",
       "    }\n",
       "\n",
       "    .dataframe thead th {\n",
       "        text-align: right;\n",
       "    }\n",
       "</style>\n",
       "<table border=\"1\" class=\"dataframe\">\n",
       "  <thead>\n",
       "    <tr style=\"text-align: right;\">\n",
       "      <th></th>\n",
       "      <th>Day</th>\n",
       "      <th>time</th>\n",
       "    </tr>\n",
       "  </thead>\n",
       "  <tbody>\n",
       "    <tr>\n",
       "      <th>0</th>\n",
       "      <td>2150</td>\n",
       "      <td>h12</td>\n",
       "    </tr>\n",
       "    <tr>\n",
       "      <th>1</th>\n",
       "      <td>2153</td>\n",
       "      <td>h12</td>\n",
       "    </tr>\n",
       "    <tr>\n",
       "      <th>2</th>\n",
       "      <td>2161</td>\n",
       "      <td>h12</td>\n",
       "    </tr>\n",
       "    <tr>\n",
       "      <th>3</th>\n",
       "      <td>2170</td>\n",
       "      <td>h12</td>\n",
       "    </tr>\n",
       "    <tr>\n",
       "      <th>4</th>\n",
       "      <td>2178</td>\n",
       "      <td>h12</td>\n",
       "    </tr>\n",
       "    <tr>\n",
       "      <th>5</th>\n",
       "      <td>2180</td>\n",
       "      <td>h12</td>\n",
       "    </tr>\n",
       "    <tr>\n",
       "      <th>6</th>\n",
       "      <td>2186</td>\n",
       "      <td>h12</td>\n",
       "    </tr>\n",
       "    <tr>\n",
       "      <th>7</th>\n",
       "      <td>2190</td>\n",
       "      <td>h12</td>\n",
       "    </tr>\n",
       "    <tr>\n",
       "      <th>8</th>\n",
       "      <td>2196</td>\n",
       "      <td>h12</td>\n",
       "    </tr>\n",
       "    <tr>\n",
       "      <th>9</th>\n",
       "      <td>2200</td>\n",
       "      <td>h12</td>\n",
       "    </tr>\n",
       "  </tbody>\n",
       "</table>\n",
       "</div>"
      ],
      "text/plain": [
       "    Day  time\n",
       "0  2150   h12\n",
       "1  2153   h12\n",
       "2  2161   h12\n",
       "3  2170   h12\n",
       "4  2178   h12\n",
       "5  2180   h12\n",
       "6  2186   h12\n",
       "7  2190   h12\n",
       "8  2196   h12\n",
       "9  2200   h12"
      ]
     },
     "execution_count": 47,
     "metadata": {},
     "output_type": "execute_result"
    }
   ],
   "source": [
    "cams_pm25_test_dir = Path('validation_dataset_south_africa/South_Africa/CAMS/PM2_5')\n",
    "dates_sa_pm25 = pd.read_csv('SA-date-PM25.txt')\n",
    "dates_sa_pm25"
   ]
  },
  {
   "cell_type": "code",
   "execution_count": 44,
   "metadata": {},
   "outputs": [],
   "source": [
    "day, time = dates_sa_pm25.iloc[0]"
   ]
  },
  {
   "cell_type": "code",
   "execution_count": 95,
   "metadata": {},
   "outputs": [
    {
     "data": {
      "text/plain": [
       "['CAMS_PM2_5_day2150_h12.tif',\n",
       " 'CAMS_PM2_5_day2153_h12.tif',\n",
       " 'CAMS_PM2_5_day2161_h12.tif',\n",
       " 'CAMS_PM2_5_day2170_h12.tif',\n",
       " 'CAMS_PM2_5_day2178_h12.tif',\n",
       " 'CAMS_PM2_5_day2180_h12.tif',\n",
       " 'CAMS_PM2_5_day2186_h12.tif',\n",
       " 'CAMS_PM2_5_day2190_h12.tif',\n",
       " 'CAMS_PM2_5_day2196_h12.tif',\n",
       " 'CAMS_PM2_5_day2200_h12.tif']"
      ]
     },
     "execution_count": 95,
     "metadata": {},
     "output_type": "execute_result"
    }
   ],
   "source": [
    "## Prepare the test images\n",
    "input_filenames = []\n",
    "for index in dates_sa_pm25.index:\n",
    "    day, time = dates_sa_pm25.iloc[index]\n",
    "    input_filename = f'CAMS_PM2_5_day{day}_{time.split(\" \")[-1]}.tif'\n",
    "    input_filenames.append(input_filename)\n",
    "\n",
    "input_filenames"
   ]
  },
  {
   "cell_type": "markdown",
   "metadata": {},
   "source": [
    "#### Extract DEM"
   ]
  },
  {
   "cell_type": "code",
   "execution_count": 96,
   "metadata": {},
   "outputs": [],
   "source": [
    "# Extract DEM\n",
    "raster_path = str(dem_train_dir) + '/DEM_CAMS_10km.tif'\n",
    "dem_10km_df = extract_points_from_raster(CAMS_centroids_down, raster_path, 'DEM')\n",
    "dem_10km_df = dem_10km_df.dropna()\n",
    "dem_10km_df = dem_10km_df.drop('raster', 1)"
   ]
  },
  {
   "cell_type": "markdown",
   "metadata": {},
   "source": [
    "#### Note \n",
    "There are 0 values of extracted DEM"
   ]
  },
  {
   "cell_type": "code",
   "execution_count": 97,
   "metadata": {},
   "outputs": [
    {
     "data": {
      "text/html": [
       "<div>\n",
       "<style scoped>\n",
       "    .dataframe tbody tr th:only-of-type {\n",
       "        vertical-align: middle;\n",
       "    }\n",
       "\n",
       "    .dataframe tbody tr th {\n",
       "        vertical-align: top;\n",
       "    }\n",
       "\n",
       "    .dataframe thead th {\n",
       "        text-align: right;\n",
       "    }\n",
       "</style>\n",
       "<table border=\"1\" class=\"dataframe\">\n",
       "  <thead>\n",
       "    <tr style=\"text-align: right;\">\n",
       "      <th></th>\n",
       "      <th>lon</th>\n",
       "      <th>lat</th>\n",
       "      <th>DEM</th>\n",
       "    </tr>\n",
       "  </thead>\n",
       "  <tbody>\n",
       "    <tr>\n",
       "      <th>253</th>\n",
       "      <td>26.567623</td>\n",
       "      <td>-23.249427</td>\n",
       "      <td>0.0</td>\n",
       "    </tr>\n",
       "    <tr>\n",
       "      <th>254</th>\n",
       "      <td>26.567623</td>\n",
       "      <td>-23.347787</td>\n",
       "      <td>0.0</td>\n",
       "    </tr>\n",
       "    <tr>\n",
       "      <th>255</th>\n",
       "      <td>26.567623</td>\n",
       "      <td>-23.446148</td>\n",
       "      <td>0.0</td>\n",
       "    </tr>\n",
       "    <tr>\n",
       "      <th>256</th>\n",
       "      <td>26.567623</td>\n",
       "      <td>-23.544509</td>\n",
       "      <td>0.0</td>\n",
       "    </tr>\n",
       "    <tr>\n",
       "      <th>257</th>\n",
       "      <td>26.567623</td>\n",
       "      <td>-23.642869</td>\n",
       "      <td>0.0</td>\n",
       "    </tr>\n",
       "    <tr>\n",
       "      <th>...</th>\n",
       "      <td>...</td>\n",
       "      <td>...</td>\n",
       "      <td>...</td>\n",
       "    </tr>\n",
       "    <tr>\n",
       "      <th>3532</th>\n",
       "      <td>31.780738</td>\n",
       "      <td>-27.774017</td>\n",
       "      <td>0.0</td>\n",
       "    </tr>\n",
       "    <tr>\n",
       "      <th>3533</th>\n",
       "      <td>31.780738</td>\n",
       "      <td>-27.872378</td>\n",
       "      <td>0.0</td>\n",
       "    </tr>\n",
       "    <tr>\n",
       "      <th>3534</th>\n",
       "      <td>31.780738</td>\n",
       "      <td>-27.970738</td>\n",
       "      <td>0.0</td>\n",
       "    </tr>\n",
       "    <tr>\n",
       "      <th>3535</th>\n",
       "      <td>31.780738</td>\n",
       "      <td>-28.069099</td>\n",
       "      <td>0.0</td>\n",
       "    </tr>\n",
       "    <tr>\n",
       "      <th>3536</th>\n",
       "      <td>31.780738</td>\n",
       "      <td>-28.167460</td>\n",
       "      <td>0.0</td>\n",
       "    </tr>\n",
       "  </tbody>\n",
       "</table>\n",
       "<p>2754 rows × 3 columns</p>\n",
       "</div>"
      ],
      "text/plain": [
       "            lon        lat  DEM\n",
       "253   26.567623 -23.249427  0.0\n",
       "254   26.567623 -23.347787  0.0\n",
       "255   26.567623 -23.446148  0.0\n",
       "256   26.567623 -23.544509  0.0\n",
       "257   26.567623 -23.642869  0.0\n",
       "...         ...        ...  ...\n",
       "3532  31.780738 -27.774017  0.0\n",
       "3533  31.780738 -27.872378  0.0\n",
       "3534  31.780738 -27.970738  0.0\n",
       "3535  31.780738 -28.069099  0.0\n",
       "3536  31.780738 -28.167460  0.0\n",
       "\n",
       "[2754 rows x 3 columns]"
      ]
     },
     "execution_count": 97,
     "metadata": {},
     "output_type": "execute_result"
    }
   ],
   "source": [
    "dem_10km_df"
   ]
  },
  {
   "cell_type": "code",
   "execution_count": 110,
   "metadata": {},
   "outputs": [],
   "source": [
    "## Create submission file\n",
    "\n",
    "submission_dir = Path('test-submission')\n",
    "for aoi in AOIS:\n",
    "    for product in ['NO2', 'PM2.5']:\n",
    "        if not os.path.exists(submission_dir/aoi/product):\n",
    "            os.makedirs(submission_dir/aoi/product)\n",
    "            \n",
    "visulize_dir = Path('test-visulize')\n",
    "for aoi in AOIS:\n",
    "    for product in ['NO2', 'PM2.5']:\n",
    "        if not os.path.exists(visulize_dir/aoi/product):\n",
    "            os.makedirs(visulize_dir/aoi/product)"
   ]
  },
  {
   "cell_type": "markdown",
   "metadata": {},
   "source": [
    "#### Predict UPSCALED CAMS VALUES "
   ]
  },
  {
   "cell_type": "code",
   "execution_count": 113,
   "metadata": {},
   "outputs": [],
   "source": [
    "target_resolution = 10000 # target resolution in metres\n",
    "target_size = bbox_to_dimensions(test_img.bbox, target_resolution)\n",
    "\n",
    "\n",
    "bbox_sa.to_crs(epsg=4326, inplace=True)\n",
    "bbox_sa.to_file('sa-bbox-wgs84.shp', driver='ESRI Shapefile')\n",
    "\n",
    "test_df = dem_10km_df\n",
    "\n",
    "for input_filename in input_filenames:\n",
    "    test_df['day']=np.nan\n",
    "    test_df['hour']=np.nan\n",
    "    test_df['dayhour']=\"\"\n",
    "    \n",
    "    for i in range(test_df.shape[0]):\n",
    "        tiff_name = input_filename\n",
    "        day, hour = tiff_name.split('_day')[-1].split('_')\n",
    "        test_df.iat[i,test_df.columns.get_loc('day')] = day\n",
    "        test_df.iat[i,test_df.columns.get_loc('hour')] = hour[1:3]\n",
    "        test_df.iat[i,test_df.columns.get_loc('dayhour')] = str(day)+str(hour[1:3])\n",
    "        \n",
    "\n",
    "    # X inputs\n",
    "    test_X = np.array(test_df.drop(['day','dayhour'], axis=1))\n",
    "    \n",
    "    ## PREDICTION\n",
    "    predicted_CAMS = rf.predict(test_X)\n",
    "    \n",
    "    #test_df['predicted_CAMS'] = predicted_CAMS\n",
    "    \n",
    "    ## rastrize\n",
    "    minx, miny, maxx, maxy = CAMS_grid_down.geometry.total_bounds\n",
    "    sizey = round((maxy-miny)/res_down)\n",
    "    sizex = round((maxx-minx)/res_down)\n",
    "    transform = rio.transform.from_bounds(minx, miny, maxx, maxy, sizex, sizey)\n",
    "    shapes = ((geom, value) for geom, value in zip(CAMS_grid_down.geometry, predicted_CAMS))\n",
    "    upscaled_PM_2_5 = rio.features.rasterize(shapes, out_shape=(sizey, sizex), transform=transform)\n",
    "    \n",
    "    ## export for prediction\n",
    "    export_geotiff(str(submission_dir) + '/South_Africa/PM2.5/'+f'{day}_PM25_South_Africa.tif', upscaled_PM_2_5, transform, 4326)\n",
    "    \n",
    "    mask_tiff('sa-bbox-wgs84.shp', \n",
    "              submission_dir/'South_Africa'/'PM2.5'/f'{day}_PM25_South_Africa.tif', \n",
    "              submission_dir/'South_Africa'/'PM2.5'/f'{day}_PM25_South_Africa.tif')\n",
    "    \n",
    "    ## export them for visualization \n",
    "    export_geotiff(str(visulize_dir) + '/South_Africa/PM2.5/'+f'CAMS_PM25_day{day}_{hour}.tif', upscaled_PM_2_5, transform, 4326)\n",
    "    \n",
    "    mask_tiff('sa-bbox-wgs84.shp', \n",
    "              visulize_dir/'South_Africa'/'PM2.5'/f'CAMS_PM25_day{day}_{hour}.tif', \n",
    "              visulize_dir/'South_Africa'/'PM2.5'/f'CAMS_PM25_day{day}_{hour}.tif')\n",
    "    \n",
    "    \n",
    "\n",
    "    "
   ]
  },
  {
   "cell_type": "code",
   "execution_count": 115,
   "metadata": {},
   "outputs": [],
   "source": [
    "## load upscaled CAMS\n",
    "upscaled_cams_dir = Path('test-visulize/South_Africa/PM2.5')\n",
    "upscaled_img = load_tiffs(upscaled_cams_dir,\n",
    "                          (FeatureType.DATA, 'PM2_5'),\n",
    "                          offset=OFFSET,\n",
    "                          data_source='cams')\n"
   ]
  },
  {
   "cell_type": "code",
   "execution_count": 134,
   "metadata": {},
   "outputs": [
    {
     "data": {
      "image/png": "[encoded data removed]",
      "text/plain": [
       "<Figure size 432x360 with 2 Axes>"
      ]
     },
     "metadata": {
      "needs_background": "light"
     },
     "output_type": "display_data"
    }
   ],
   "source": [
    "\n",
    "time_idx = 0\n",
    "\n",
    "fig, ax = plt.subplots(figsize=(6,5))\n",
    "fh = draw_feature(ax=ax, eopatch=upscaled_img,\n",
    "                  feature=(FeatureType.DATA, 'PM2_5'),\n",
    "                  time_idx=time_idx,\n",
    "                  vmin=0, vmax=100)\n",
    "pm25_gt_min.plot(ax=ax, color='r', marker='o');\n",
    "fig.colorbar(fh, ax=ax);"
   ]
  },
  {
   "cell_type": "code",
   "execution_count": null,
   "metadata": {},
   "outputs": [],
   "source": []
  }
 ],
 "metadata": {
  "kernelspec": {
   "display_name": "Python 3",
   "language": "python",
   "name": "python3"
  },
  "language_info": {
   "codemirror_mode": {
    "name": "ipython",
    "version": 3
   },
   "file_extension": ".py",
   "mimetype": "text/x-python",
   "name": "python",
   "nbconvert_exporter": "python",
   "pygments_lexer": "ipython3",
   "version": "3.6.9"
  }
 },
 "nbformat": 4,
 "nbformat_minor": 4
}
